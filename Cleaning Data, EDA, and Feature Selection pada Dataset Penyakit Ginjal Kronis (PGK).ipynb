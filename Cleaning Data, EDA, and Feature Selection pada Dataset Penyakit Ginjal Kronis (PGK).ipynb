{
  "nbformat": 4,
  "nbformat_minor": 0,
  "metadata": {
    "colab": {
      "name": "porto1.ipynb",
      "provenance": [],
      "collapsed_sections": [
        "gLkSwCUMIY5V",
        "0nsfFO-cz4PY"
      ]
    },
    "kernelspec": {
      "name": "python3",
      "display_name": "Python 3"
    },
    "language_info": {
      "name": "python"
    }
  },
  "cells": [
    {
      "cell_type": "markdown",
      "metadata": {
        "id": "nimAclFW3GXB"
      },
      "source": [
        "# **Cleaning Data, EDA, and Feature Selection pada Dataset Penyakit Ginjal Kronis (PGK)**\n",
        "oleh Muhammad Ulwan Faqih"
      ]
    },
    {
      "cell_type": "markdown",
      "metadata": {
        "id": "Sud-BNnoH-2C"
      },
      "source": [
        "Tujuan : Treatment Pre-Modelling Data\n",
        "1. Melakukan Pre-Processing terhadap dataset\n",
        "2. Melakukan Exploratory Data Analysis (EDA)\n",
        "3. Melakukan Seleksi Fitur\n",
        "\n",
        "---"
      ]
    },
    {
      "cell_type": "markdown",
      "metadata": {
        "id": "6hnN3QxfHDEf"
      },
      "source": [
        "# Import Library"
      ]
    },
    {
      "cell_type": "code",
      "metadata": {
        "id": "9caQKOQ7HMgx"
      },
      "source": [
        "import pandas as pd\n",
        "import numpy as np\n",
        "from sklearn.model_selection import train_test_split\n",
        "from sklearn.linear_model import LinearRegression\n",
        "from sklearn.preprocessing import LabelEncoder, StandardScaler\n",
        "from sklearn.preprocessing import StandardScaler\n",
        "\n",
        "import itertools\n",
        "import time\n",
        "import statsmodels.api as sm\n",
        "import matplotlib.pyplot as plt\n",
        "import seaborn as sns\n",
        "from math import exp\n",
        "\n",
        "from sklearn.model_selection import KFold\n",
        "from sklearn.model_selection import GridSearchCV\n",
        "import random\n",
        "import tensorflow as tf\n",
        "from tensorflow.keras import Sequential\n",
        "from tensorflow.keras.layers import Flatten, Dense\n",
        "from sklearn.preprocessing import LabelEncoder, StandardScaler\n",
        "from sklearn.model_selection import train_test_split, GridSearchCV, cross_val_score\n",
        "from matplotlib.pyplot import figure\n",
        "from sklearn import metrics\n",
        "from sklearn.metrics import confusion_matrix, ConfusionMatrixDisplay"
      ],
      "execution_count": 188,
      "outputs": []
    },
    {
      "cell_type": "markdown",
      "metadata": {
        "id": "6IFX7rVNGu1N"
      },
      "source": [
        "# DATA"
      ]
    },
    {
      "cell_type": "markdown",
      "metadata": {
        "id": "s7PqU6Gm_Nle"
      },
      "source": [
        "**Import Data**"
      ]
    },
    {
      "cell_type": "code",
      "metadata": {
        "colab": {
          "base_uri": "https://localhost:8080/",
          "height": 200
        },
        "id": "GcFhA5DeGtRa",
        "outputId": "5fa5fcf9-7b37-436c-8786-fddf6ebf0146"
      },
      "source": [
        "dataset = pd.read_excel(r'https://drive.google.com/uc?export=download&id=1zV3EZRWWePzi8w6ZLW10RH62snhM5dQH')\n",
        "dataset.head()"
      ],
      "execution_count": 189,
      "outputs": [
        {
          "output_type": "execute_result",
          "data": {
            "text/html": [
              "<div>\n",
              "<style scoped>\n",
              "    .dataframe tbody tr th:only-of-type {\n",
              "        vertical-align: middle;\n",
              "    }\n",
              "\n",
              "    .dataframe tbody tr th {\n",
              "        vertical-align: top;\n",
              "    }\n",
              "\n",
              "    .dataframe thead th {\n",
              "        text-align: right;\n",
              "    }\n",
              "</style>\n",
              "<table border=\"1\" class=\"dataframe\">\n",
              "  <thead>\n",
              "    <tr style=\"text-align: right;\">\n",
              "      <th></th>\n",
              "      <th>id</th>\n",
              "      <th>age</th>\n",
              "      <th>bp</th>\n",
              "      <th>sg</th>\n",
              "      <th>al</th>\n",
              "      <th>su</th>\n",
              "      <th>rbc</th>\n",
              "      <th>pc</th>\n",
              "      <th>pcc</th>\n",
              "      <th>ba</th>\n",
              "      <th>bgr</th>\n",
              "      <th>bu</th>\n",
              "      <th>sc</th>\n",
              "      <th>sod</th>\n",
              "      <th>pot</th>\n",
              "      <th>hemo</th>\n",
              "      <th>pcv</th>\n",
              "      <th>wc</th>\n",
              "      <th>rc</th>\n",
              "      <th>htn</th>\n",
              "      <th>dm</th>\n",
              "      <th>cad</th>\n",
              "      <th>appet</th>\n",
              "      <th>pe</th>\n",
              "      <th>ane</th>\n",
              "      <th>classification</th>\n",
              "    </tr>\n",
              "  </thead>\n",
              "  <tbody>\n",
              "    <tr>\n",
              "      <th>0</th>\n",
              "      <td>0</td>\n",
              "      <td>48.0</td>\n",
              "      <td>80.0</td>\n",
              "      <td>1.020</td>\n",
              "      <td>1.0</td>\n",
              "      <td>0.0</td>\n",
              "      <td>NaN</td>\n",
              "      <td>normal</td>\n",
              "      <td>notpresent</td>\n",
              "      <td>notpresent</td>\n",
              "      <td>121.0</td>\n",
              "      <td>36.0</td>\n",
              "      <td>1.2</td>\n",
              "      <td>NaN</td>\n",
              "      <td>NaN</td>\n",
              "      <td>15.4</td>\n",
              "      <td>44.0</td>\n",
              "      <td>7800.0</td>\n",
              "      <td>5.2</td>\n",
              "      <td>yes</td>\n",
              "      <td>yes</td>\n",
              "      <td>no</td>\n",
              "      <td>good</td>\n",
              "      <td>no</td>\n",
              "      <td>no</td>\n",
              "      <td>ckd</td>\n",
              "    </tr>\n",
              "    <tr>\n",
              "      <th>1</th>\n",
              "      <td>1</td>\n",
              "      <td>7.0</td>\n",
              "      <td>50.0</td>\n",
              "      <td>1.020</td>\n",
              "      <td>4.0</td>\n",
              "      <td>0.0</td>\n",
              "      <td>NaN</td>\n",
              "      <td>normal</td>\n",
              "      <td>notpresent</td>\n",
              "      <td>notpresent</td>\n",
              "      <td>NaN</td>\n",
              "      <td>18.0</td>\n",
              "      <td>0.8</td>\n",
              "      <td>NaN</td>\n",
              "      <td>NaN</td>\n",
              "      <td>11.3</td>\n",
              "      <td>38.0</td>\n",
              "      <td>6000.0</td>\n",
              "      <td>NaN</td>\n",
              "      <td>no</td>\n",
              "      <td>no</td>\n",
              "      <td>no</td>\n",
              "      <td>good</td>\n",
              "      <td>no</td>\n",
              "      <td>no</td>\n",
              "      <td>ckd</td>\n",
              "    </tr>\n",
              "    <tr>\n",
              "      <th>2</th>\n",
              "      <td>2</td>\n",
              "      <td>62.0</td>\n",
              "      <td>80.0</td>\n",
              "      <td>1.010</td>\n",
              "      <td>2.0</td>\n",
              "      <td>3.0</td>\n",
              "      <td>normal</td>\n",
              "      <td>normal</td>\n",
              "      <td>notpresent</td>\n",
              "      <td>notpresent</td>\n",
              "      <td>423.0</td>\n",
              "      <td>53.0</td>\n",
              "      <td>1.8</td>\n",
              "      <td>NaN</td>\n",
              "      <td>NaN</td>\n",
              "      <td>9.6</td>\n",
              "      <td>31.0</td>\n",
              "      <td>7500.0</td>\n",
              "      <td>NaN</td>\n",
              "      <td>no</td>\n",
              "      <td>yes</td>\n",
              "      <td>no</td>\n",
              "      <td>poor</td>\n",
              "      <td>no</td>\n",
              "      <td>yes</td>\n",
              "      <td>ckd</td>\n",
              "    </tr>\n",
              "    <tr>\n",
              "      <th>3</th>\n",
              "      <td>3</td>\n",
              "      <td>48.0</td>\n",
              "      <td>70.0</td>\n",
              "      <td>1.005</td>\n",
              "      <td>4.0</td>\n",
              "      <td>0.0</td>\n",
              "      <td>normal</td>\n",
              "      <td>abnormal</td>\n",
              "      <td>present</td>\n",
              "      <td>notpresent</td>\n",
              "      <td>117.0</td>\n",
              "      <td>56.0</td>\n",
              "      <td>3.8</td>\n",
              "      <td>111.0</td>\n",
              "      <td>2.5</td>\n",
              "      <td>11.2</td>\n",
              "      <td>32.0</td>\n",
              "      <td>6700.0</td>\n",
              "      <td>3.9</td>\n",
              "      <td>yes</td>\n",
              "      <td>no</td>\n",
              "      <td>no</td>\n",
              "      <td>poor</td>\n",
              "      <td>yes</td>\n",
              "      <td>yes</td>\n",
              "      <td>ckd</td>\n",
              "    </tr>\n",
              "    <tr>\n",
              "      <th>4</th>\n",
              "      <td>4</td>\n",
              "      <td>51.0</td>\n",
              "      <td>80.0</td>\n",
              "      <td>1.010</td>\n",
              "      <td>2.0</td>\n",
              "      <td>0.0</td>\n",
              "      <td>normal</td>\n",
              "      <td>normal</td>\n",
              "      <td>notpresent</td>\n",
              "      <td>notpresent</td>\n",
              "      <td>106.0</td>\n",
              "      <td>26.0</td>\n",
              "      <td>1.4</td>\n",
              "      <td>NaN</td>\n",
              "      <td>NaN</td>\n",
              "      <td>11.6</td>\n",
              "      <td>35.0</td>\n",
              "      <td>7300.0</td>\n",
              "      <td>4.6</td>\n",
              "      <td>no</td>\n",
              "      <td>no</td>\n",
              "      <td>no</td>\n",
              "      <td>good</td>\n",
              "      <td>no</td>\n",
              "      <td>no</td>\n",
              "      <td>ckd</td>\n",
              "    </tr>\n",
              "  </tbody>\n",
              "</table>\n",
              "</div>"
            ],
            "text/plain": [
              "   id   age    bp     sg   al   su  ...   dm cad appet   pe  ane  classification\n",
              "0   0  48.0  80.0  1.020  1.0  0.0  ...  yes  no  good   no   no             ckd\n",
              "1   1   7.0  50.0  1.020  4.0  0.0  ...   no  no  good   no   no             ckd\n",
              "2   2  62.0  80.0  1.010  2.0  3.0  ...  yes  no  poor   no  yes             ckd\n",
              "3   3  48.0  70.0  1.005  4.0  0.0  ...   no  no  poor  yes  yes             ckd\n",
              "4   4  51.0  80.0  1.010  2.0  0.0  ...   no  no  good   no   no             ckd\n",
              "\n",
              "[5 rows x 26 columns]"
            ]
          },
          "metadata": {},
          "execution_count": 189
        }
      ]
    },
    {
      "cell_type": "markdown",
      "metadata": {
        "id": "WSVnJTDtHZJ0"
      },
      "source": [
        "Dataset yang digunakan diperoleh dari UCI Repository Machine Learning.\n",
        "Dataset tersebut berupa data klinis 400 data responden dari Apollo Hospital yang terdiri dari 250\n",
        "data yang terkena PGK dan 150 data yang tidak terkena PGK. Dataset terdiri dari 25 feature dan 1\n",
        "kelas target (ckd/notckd)."
      ]
    },
    {
      "cell_type": "markdown",
      "metadata": {
        "id": "2CbONu10gkPw"
      },
      "source": [
        "Kolom - Kolom Variabel tersebut adalah :\n",
        "1. id = Nomor Identitas Pasien\n",
        "2. age = Usia\n",
        "3. bp = Blood Pressure\n",
        "4. sg = Spesific Gravity\n",
        "5. al = Albumin\n",
        "6. su = Sugar\n",
        "7. rbc = Red Blood Cells\n",
        "8. pc = Pus Cell\n",
        "9. pcc = Pus Cell Clumps\n",
        "10. ba = Bacteria\n",
        "11. bgr = Blood Glucose Random\n",
        "12. bu = Blood Urea\n",
        "13. sc = Serum Creatinine\n",
        "14. sod = Sodium\n",
        "15. pot = Potassium\n",
        "16. hemo = Hemoglobin\n",
        "17. pcv = Packed Cell Volume\n",
        "18. wc = White Blood Cell Count\n",
        "19. rc = Red blood Cell Count\n",
        "20. htn = Hypertension\n",
        "21. dm = Diabetes Mellitus\n",
        "22. cad = Coronary Artery Disease\n",
        "23. appet = Appetite\n",
        "24. pe = Pedal Edema\n",
        "25. ane = Anemia\n",
        "26. classification = Pengidap PGK / Bukan Pengidap PGK"
      ]
    },
    {
      "cell_type": "code",
      "metadata": {
        "id": "Kd47oZDTIauL",
        "colab": {
          "base_uri": "https://localhost:8080/"
        },
        "outputId": "929c1f53-9e13-450b-c372-1d04d0b8dc18"
      },
      "source": [
        "dataset.info()\n",
        "dataset.shape"
      ],
      "execution_count": 190,
      "outputs": [
        {
          "output_type": "stream",
          "name": "stdout",
          "text": [
            "<class 'pandas.core.frame.DataFrame'>\n",
            "RangeIndex: 400 entries, 0 to 399\n",
            "Data columns (total 26 columns):\n",
            " #   Column          Non-Null Count  Dtype  \n",
            "---  ------          --------------  -----  \n",
            " 0   id              400 non-null    int64  \n",
            " 1   age             391 non-null    float64\n",
            " 2   bp              388 non-null    float64\n",
            " 3   sg              353 non-null    float64\n",
            " 4   al              354 non-null    float64\n",
            " 5   su              351 non-null    float64\n",
            " 6   rbc             248 non-null    object \n",
            " 7   pc              335 non-null    object \n",
            " 8   pcc             396 non-null    object \n",
            " 9   ba              396 non-null    object \n",
            " 10  bgr             356 non-null    float64\n",
            " 11  bu              381 non-null    float64\n",
            " 12  sc              383 non-null    float64\n",
            " 13  sod             313 non-null    float64\n",
            " 14  pot             312 non-null    float64\n",
            " 15  hemo            348 non-null    float64\n",
            " 16  pcv             329 non-null    float64\n",
            " 17  wc              294 non-null    float64\n",
            " 18  rc              269 non-null    float64\n",
            " 19  htn             398 non-null    object \n",
            " 20  dm              398 non-null    object \n",
            " 21  cad             398 non-null    object \n",
            " 22  appet           399 non-null    object \n",
            " 23  pe              399 non-null    object \n",
            " 24  ane             399 non-null    object \n",
            " 25  classification  400 non-null    object \n",
            "dtypes: float64(14), int64(1), object(11)\n",
            "memory usage: 81.4+ KB\n"
          ]
        },
        {
          "output_type": "execute_result",
          "data": {
            "text/plain": [
              "(400, 26)"
            ]
          },
          "metadata": {},
          "execution_count": 190
        }
      ]
    },
    {
      "cell_type": "markdown",
      "metadata": {
        "id": "bX34eTQyI2iv"
      },
      "source": [
        "dari 400 baris dan 26 kolom, masih banyak ditemukan ketidakrapihan data, sehingga **akan dilakukan preprocessing**"
      ]
    },
    {
      "cell_type": "markdown",
      "metadata": {
        "id": "j9YEG2ZaJkKa"
      },
      "source": [
        "# Pre-Processing"
      ]
    },
    {
      "cell_type": "markdown",
      "metadata": {
        "id": "WEFfUY93KXIH"
      },
      "source": [
        "Menghitung jumlah missing value di setiap kolom\n",
        "\n"
      ]
    },
    {
      "cell_type": "code",
      "metadata": {
        "colab": {
          "base_uri": "https://localhost:8080/"
        },
        "id": "IV5xjDlDJqjm",
        "outputId": "eead7cd6-7a7c-43a6-90e0-3159b88099ec"
      },
      "source": [
        "#Mengecek Missing Value\n",
        "print(dataset)\n",
        "print(dataset.isnull().sum())\n",
        "print(dataset.isnull().sum().sum())"
      ],
      "execution_count": 191,
      "outputs": [
        {
          "output_type": "stream",
          "name": "stdout",
          "text": [
            "      id   age    bp     sg   al   su  ...   dm cad appet   pe  ane  classification\n",
            "0      0  48.0  80.0  1.020  1.0  0.0  ...  yes  no  good   no   no             ckd\n",
            "1      1   7.0  50.0  1.020  4.0  0.0  ...   no  no  good   no   no             ckd\n",
            "2      2  62.0  80.0  1.010  2.0  3.0  ...  yes  no  poor   no  yes             ckd\n",
            "3      3  48.0  70.0  1.005  4.0  0.0  ...   no  no  poor  yes  yes             ckd\n",
            "4      4  51.0  80.0  1.010  2.0  0.0  ...   no  no  good   no   no             ckd\n",
            "..   ...   ...   ...    ...  ...  ...  ...  ...  ..   ...  ...  ...             ...\n",
            "395  395  55.0  80.0  1.020  0.0  0.0  ...   no  no  good   no   no          notckd\n",
            "396  396  42.0  70.0  1.025  0.0  0.0  ...   no  no  good   no   no          notckd\n",
            "397  397  12.0  80.0  1.020  0.0  0.0  ...   no  no  good   no   no          notckd\n",
            "398  398  17.0  60.0  1.025  0.0  0.0  ...   no  no  good   no   no          notckd\n",
            "399  399  58.0  80.0  1.025  0.0  0.0  ...   no  no  good   no   no          notckd\n",
            "\n",
            "[400 rows x 26 columns]\n",
            "id                  0\n",
            "age                 9\n",
            "bp                 12\n",
            "sg                 47\n",
            "al                 46\n",
            "su                 49\n",
            "rbc               152\n",
            "pc                 65\n",
            "pcc                 4\n",
            "ba                  4\n",
            "bgr                44\n",
            "bu                 19\n",
            "sc                 17\n",
            "sod                87\n",
            "pot                88\n",
            "hemo               52\n",
            "pcv                71\n",
            "wc                106\n",
            "rc                131\n",
            "htn                 2\n",
            "dm                  2\n",
            "cad                 2\n",
            "appet               1\n",
            "pe                  1\n",
            "ane                 1\n",
            "classification      0\n",
            "dtype: int64\n",
            "1012\n"
          ]
        }
      ]
    },
    {
      "cell_type": "markdown",
      "metadata": {
        "id": "PVwHjcfyLIRZ"
      },
      "source": [
        "**akan dilakukan penanganan Missing** **Value**\n",
        "\n",
        "---\n",
        "\n"
      ]
    },
    {
      "cell_type": "markdown",
      "metadata": {
        "id": "D44WoWYPL6zv"
      },
      "source": [
        "**Melihat distribusi data pada kolom age**"
      ]
    },
    {
      "cell_type": "code",
      "metadata": {
        "colab": {
          "base_uri": "https://localhost:8080/",
          "height": 460
        },
        "id": "nIKSX2vjK5t8",
        "outputId": "f0aa7231-47ae-4d3e-bcb0-a1e59238d723"
      },
      "source": [
        "print(dataset['age'].describe())\n",
        "print(dataset['age'].mode())\n",
        "dataset['age'].hist()"
      ],
      "execution_count": 192,
      "outputs": [
        {
          "output_type": "stream",
          "name": "stdout",
          "text": [
            "count    391.000000\n",
            "mean      51.483376\n",
            "std       17.169714\n",
            "min        2.000000\n",
            "25%       42.000000\n",
            "50%       55.000000\n",
            "75%       64.500000\n",
            "max       90.000000\n",
            "Name: age, dtype: float64\n",
            "0    60.0\n",
            "dtype: float64\n"
          ]
        },
        {
          "output_type": "execute_result",
          "data": {
            "text/plain": [
              "<matplotlib.axes._subplots.AxesSubplot at 0x7fd0164e0a50>"
            ]
          },
          "metadata": {},
          "execution_count": 192
        },
        {
          "output_type": "display_data",
          "data": {
            "image/png": "[encoded data removed]",
            "text/plain": [
              "<Figure size 432x288 with 1 Axes>"
            ]
          },
          "metadata": {
            "needs_background": "light"
          }
        }
      ]
    },
    {
      "cell_type": "markdown",
      "metadata": {
        "id": "f-gKt8IHQ6pI"
      },
      "source": [
        "mengisi missing value age dengan mean nya yaitu 51"
      ]
    },
    {
      "cell_type": "code",
      "metadata": {
        "id": "zmPFscMKQYl4"
      },
      "source": [
        "dataset['age'] = dataset['age'].replace(np.nan,51)"
      ],
      "execution_count": 193,
      "outputs": []
    },
    {
      "cell_type": "markdown",
      "metadata": {
        "id": "IabRShnw5b5l"
      },
      "source": [
        "\n",
        "\n",
        "---\n",
        "\n"
      ]
    },
    {
      "cell_type": "markdown",
      "metadata": {
        "id": "L1vo3EuRMrCD"
      },
      "source": [
        "**Melihat Distribusi Data Pada Kolom Hemoglobin**"
      ]
    },
    {
      "cell_type": "code",
      "metadata": {
        "colab": {
          "base_uri": "https://localhost:8080/",
          "height": 427
        },
        "id": "MW2Ay1fRMRxx",
        "outputId": "c0a41599-43f0-47ed-8d0c-e610e9b27d61"
      },
      "source": [
        "print(dataset['hemo'].describe())\n",
        "dataset['hemo'].hist()"
      ],
      "execution_count": 194,
      "outputs": [
        {
          "output_type": "stream",
          "name": "stdout",
          "text": [
            "count    348.000000\n",
            "mean      12.526437\n",
            "std        2.912587\n",
            "min        3.100000\n",
            "25%       10.300000\n",
            "50%       12.650000\n",
            "75%       15.000000\n",
            "max       17.800000\n",
            "Name: hemo, dtype: float64\n"
          ]
        },
        {
          "output_type": "execute_result",
          "data": {
            "text/plain": [
              "<matplotlib.axes._subplots.AxesSubplot at 0x7fd0164c4450>"
            ]
          },
          "metadata": {},
          "execution_count": 194
        },
        {
          "output_type": "display_data",
          "data": {
            "image/png": "[encoded data removed]",
            "text/plain": [
              "<Figure size 432x288 with 1 Axes>"
            ]
          },
          "metadata": {
            "needs_background": "light"
          }
        }
      ]
    },
    {
      "cell_type": "markdown",
      "metadata": {
        "id": "kzRKohKb5U8P"
      },
      "source": [
        "\n",
        "\n",
        "---\n",
        "\n"
      ]
    },
    {
      "cell_type": "markdown",
      "metadata": {
        "id": "lVfQRZJXNsEg"
      },
      "source": [
        "**Hubungan Anemia Dengan Hemoglobin (ditinjau dari data pengidap anemia atau tidak anemia)**"
      ]
    },
    {
      "cell_type": "code",
      "metadata": {
        "colab": {
          "base_uri": "https://localhost:8080/",
          "height": 1000
        },
        "id": "EbHENri4Nq-t",
        "outputId": "ba51d95c-67c7-4cc1-dea4-5433917dda40"
      },
      "source": [
        "# Tinjau 1 : pengidap anemia\n",
        "data_ane1 = dataset[dataset['ane']=='yes']        #data pengidap anemia\n",
        "data_ane_hemo1 = data_ane1[['hemo','ane']]        #data pengidap anemia dan hemoglobinnya\n",
        "data_ane1['hemo'].hist()                          #histogram pengidap anemia\n",
        "print(data_ane_hemo1)\n",
        "print(data_ane1['hemo'].describe())               #statistik hemoglobin pengidap anemia\n",
        "print(data_ane_hemo1[data_ane_hemo1['hemo']>12])  #data pengidap anemia namun hemoglobin > 12\n",
        "data_ane1.isnull().sum()"
      ],
      "execution_count": 195,
      "outputs": [
        {
          "output_type": "stream",
          "name": "stdout",
          "text": [
            "     hemo  ane\n",
            "2     9.6  yes\n",
            "3    11.2  yes\n",
            "8    10.8  yes\n",
            "9     9.5  yes\n",
            "10    9.4  yes\n",
            "15    7.6  yes\n",
            "20    7.7  yes\n",
            "22    9.8  yes\n",
            "23    NaN  yes\n",
            "25    9.9  yes\n",
            "35   12.0  yes\n",
            "37    9.7  yes\n",
            "42    9.7  yes\n",
            "49    9.7  yes\n",
            "50    8.6  yes\n",
            "52   10.9  yes\n",
            "59    6.6  yes\n",
            "63    7.5  yes\n",
            "73    4.8  yes\n",
            "75    8.1  yes\n",
            "84    7.1  yes\n",
            "95    NaN  yes\n",
            "98    6.2  yes\n",
            "103  10.2  yes\n",
            "106   6.0  yes\n",
            "113   NaN  yes\n",
            "115  12.4  yes\n",
            "122   6.0  yes\n",
            "128   8.1  yes\n",
            "130   8.2  yes\n",
            "132   8.6  yes\n",
            "139  11.1  yes\n",
            "141   6.1  yes\n",
            "145   8.0  yes\n",
            "147   7.9  yes\n",
            "151   9.6  yes\n",
            "153   8.3  yes\n",
            "154   8.4  yes\n",
            "163   9.0  yes\n",
            "166   NaN  yes\n",
            "169   8.7  yes\n",
            "171   8.7  yes\n",
            "176   8.3  yes\n",
            "178   9.8  yes\n",
            "193   5.5  yes\n",
            "196   8.1  yes\n",
            "197   6.8  yes\n",
            "201   7.9  yes\n",
            "202   8.0  yes\n",
            "203   8.5  yes\n",
            "204   8.8  yes\n",
            "208  12.3  yes\n",
            "210   7.3  yes\n",
            "235   7.9  yes\n",
            "238   9.4  yes\n",
            "242   9.4  yes\n",
            "244  12.2  yes\n",
            "246   8.6  yes\n",
            "247   NaN  yes\n",
            "249   3.1  yes\n",
            "count    55.000000\n",
            "mean      8.610909\n",
            "std       1.870103\n",
            "min       3.100000\n",
            "25%       7.800000\n",
            "50%       8.600000\n",
            "75%       9.700000\n",
            "max      12.400000\n",
            "Name: hemo, dtype: float64\n",
            "     hemo  ane\n",
            "115  12.4  yes\n",
            "208  12.3  yes\n",
            "244  12.2  yes\n"
          ]
        },
        {
          "output_type": "execute_result",
          "data": {
            "text/plain": [
              "id                 0\n",
              "age                0\n",
              "bp                 2\n",
              "sg                15\n",
              "al                15\n",
              "su                15\n",
              "rbc               29\n",
              "pc                15\n",
              "pcc                0\n",
              "ba                 0\n",
              "bgr               12\n",
              "bu                 2\n",
              "sc                 2\n",
              "sod               14\n",
              "pot               14\n",
              "hemo               5\n",
              "pcv               10\n",
              "wc                18\n",
              "rc                24\n",
              "htn                0\n",
              "dm                 0\n",
              "cad                0\n",
              "appet              0\n",
              "pe                 0\n",
              "ane                0\n",
              "classification     0\n",
              "dtype: int64"
            ]
          },
          "metadata": {},
          "execution_count": 195
        },
        {
          "output_type": "display_data",
          "data": {
            "image/png": "[encoded data removed]",
            "text/plain": [
              "<Figure size 432x288 with 1 Axes>"
            ]
          },
          "metadata": {
            "needs_background": "light"
          }
        }
      ]
    },
    {
      "cell_type": "code",
      "metadata": {
        "colab": {
          "base_uri": "https://localhost:8080/",
          "height": 1000
        },
        "id": "xrmfsmcJOnRJ",
        "outputId": "c34ca744-421b-4e1e-8c98-6bb188b35e33"
      },
      "source": [
        "# Tinjau 2 : bukan pengidap anemia\n",
        "data_ane2 = dataset[dataset['ane']=='no']   #data yang tidak anemia\n",
        "data_ane_hemo2 = data_ane2[['hemo','ane']]  #data hemoglobin yang tidak anemia\n",
        "print(data_ane_hemo2)       \n",
        "data_ane3 = data_ane2[data_ane2['hemo']<12]     #data yang tidak anemia tetapi hemoglobin < 1\n",
        "print(data_ane3)\n",
        "print(data_ane2['hemo'].describe())       #statistik hemoglobin yang tidak anemia\n",
        "data_ane2['hemo'].hist()      #histogram hemoglobin yang tidak anemia\n",
        "print(data_ane3[['hemo','age','rbc','ane']])\n",
        "data_ane2.isnull().sum()"
      ],
      "execution_count": 196,
      "outputs": [
        {
          "output_type": "stream",
          "name": "stdout",
          "text": [
            "     hemo ane\n",
            "0    15.4  no\n",
            "1    11.3  no\n",
            "4    11.6  no\n",
            "5    12.2  no\n",
            "6    12.4  no\n",
            "..    ...  ..\n",
            "395  15.7  no\n",
            "396  16.5  no\n",
            "397  15.8  no\n",
            "398  14.2  no\n",
            "399  15.8  no\n",
            "\n",
            "[339 rows x 2 columns]\n",
            "      id   age     bp     sg   al   su  ...   dm  cad appet   pe  ane  classification\n",
            "1      1   7.0   50.0  1.020  4.0  0.0  ...   no   no  good   no   no             ckd\n",
            "4      4  51.0   80.0  1.010  2.0  0.0  ...   no   no  good   no   no             ckd\n",
            "11    11  63.0   70.0  1.010  3.0  0.0  ...  yes   no  poor  yes   no             ckd\n",
            "12    12  68.0   70.0  1.015  3.0  1.0  ...  yes  yes  poor  yes   no             ckd\n",
            "13    13  68.0   70.0    NaN  NaN  NaN  ...  yes  yes  poor  yes   no             ckd\n",
            "..   ...   ...    ...    ...  ...  ...  ...  ...  ...   ...  ...  ...             ...\n",
            "236  236  65.0   80.0    NaN  NaN  NaN  ...  yes  yes  good  yes   no             ckd\n",
            "239  239  34.0   90.0  1.015  2.0  0.0  ...   no   no  good   no   no             ckd\n",
            "240  240  65.0   70.0  1.015  1.0  0.0  ...  yes   no  poor  yes   no             ckd\n",
            "241  241  57.0   70.0  1.015  1.0  0.0  ...   no   no  good   no   no             ckd\n",
            "245  245  48.0  100.0    NaN  NaN  NaN  ...   no  yes  poor   no   no             ckd\n",
            "\n",
            "[96 rows x 26 columns]\n",
            "count    292.000000\n",
            "mean      13.257877\n",
            "std        2.453843\n",
            "min        5.600000\n",
            "25%       11.300000\n",
            "50%       13.500000\n",
            "75%       15.100000\n",
            "max       17.800000\n",
            "Name: hemo, dtype: float64\n",
            "     hemo   age       rbc ane\n",
            "1    11.3   7.0       NaN  no\n",
            "4    11.6  51.0    normal  no\n",
            "11   10.8  63.0  abnormal  no\n",
            "12    9.7  68.0       NaN  no\n",
            "13    9.8  68.0       NaN  no\n",
            "..    ...   ...       ...  ..\n",
            "236   9.1  65.0       NaN  no\n",
            "239  11.9  34.0    normal  no\n",
            "240  11.4  65.0       NaN  no\n",
            "241  10.4  57.0       NaN  no\n",
            "245   6.3  48.0       NaN  no\n",
            "\n",
            "[96 rows x 4 columns]\n"
          ]
        },
        {
          "output_type": "execute_result",
          "data": {
            "text/plain": [
              "id                  0\n",
              "age                 0\n",
              "bp                 10\n",
              "sg                 32\n",
              "al                 31\n",
              "su                 34\n",
              "rbc               123\n",
              "pc                 50\n",
              "pcc                 4\n",
              "ba                  4\n",
              "bgr                32\n",
              "bu                 17\n",
              "sc                 15\n",
              "sod                73\n",
              "pot                74\n",
              "hemo               47\n",
              "pcv                61\n",
              "wc                 88\n",
              "rc                107\n",
              "htn                 2\n",
              "dm                  2\n",
              "cad                 2\n",
              "appet               0\n",
              "pe                  0\n",
              "ane                 0\n",
              "classification      0\n",
              "dtype: int64"
            ]
          },
          "metadata": {},
          "execution_count": 196
        },
        {
          "output_type": "display_data",
          "data": {
            "image/png": "[encoded data removed]",
            "text/plain": [
              "<Figure size 432x288 with 1 Axes>"
            ]
          },
          "metadata": {
            "needs_background": "light"
          }
        }
      ]
    },
    {
      "cell_type": "markdown",
      "metadata": {
        "id": "tMbcawIqSujv"
      },
      "source": [
        "mengisi missing value hemo berdasarkan mean nya yaitu 12.5"
      ]
    },
    {
      "cell_type": "code",
      "metadata": {
        "id": "on5jkF4ePYxJ"
      },
      "source": [
        "dataset['hemo']= dataset['hemo'].replace(np.nan, 12.5)"
      ],
      "execution_count": 197,
      "outputs": []
    },
    {
      "cell_type": "markdown",
      "metadata": {
        "id": "EihmmjB65HdC"
      },
      "source": [
        "\n",
        "\n",
        "---\n",
        "\n"
      ]
    },
    {
      "cell_type": "markdown",
      "metadata": {
        "id": "8HBnXwZtSLWl"
      },
      "source": [
        "**Hubungan hemoglobin dan redbloodcell dengan LINEAR REGRESSION**"
      ]
    },
    {
      "cell_type": "code",
      "metadata": {
        "colab": {
          "base_uri": "https://localhost:8080/",
          "height": 108
        },
        "id": "ST5b6l7DSXT1",
        "outputId": "db0a65b9-6382-45fc-d92e-602c4ee1c494"
      },
      "source": [
        "dataset_cc = dataset.dropna(axis = 0)\n",
        "dataset_hemo_rc = dataset[['hemo','rc']]\n",
        "corr = dataset_hemo_rc.corr()\n",
        "corr.style.background_gradient(cmap='coolwarm').set_precision(2)"
      ],
      "execution_count": 198,
      "outputs": [
        {
          "output_type": "execute_result",
          "data": {
            "text/html": [
              "<style  type=\"text/css\" >\n",
              "#T_3f3a3748_3aed_11ec_be2a_0242ac1c0002row0_col0,#T_3f3a3748_3aed_11ec_be2a_0242ac1c0002row1_col1{\n",
              "            background-color:  #b40426;\n",
              "            color:  #f1f1f1;\n",
              "        }#T_3f3a3748_3aed_11ec_be2a_0242ac1c0002row0_col1,#T_3f3a3748_3aed_11ec_be2a_0242ac1c0002row1_col0{\n",
              "            background-color:  #3b4cc0;\n",
              "            color:  #f1f1f1;\n",
              "        }</style><table id=\"T_3f3a3748_3aed_11ec_be2a_0242ac1c0002\" class=\"dataframe\"><thead>    <tr>        <th class=\"blank level0\" ></th>        <th class=\"col_heading level0 col0\" >hemo</th>        <th class=\"col_heading level0 col1\" >rc</th>    </tr></thead><tbody>\n",
              "                <tr>\n",
              "                        <th id=\"T_3f3a3748_3aed_11ec_be2a_0242ac1c0002level0_row0\" class=\"row_heading level0 row0\" >hemo</th>\n",
              "                        <td id=\"T_3f3a3748_3aed_11ec_be2a_0242ac1c0002row0_col0\" class=\"data row0 col0\" >1.00</td>\n",
              "                        <td id=\"T_3f3a3748_3aed_11ec_be2a_0242ac1c0002row0_col1\" class=\"data row0 col1\" >0.79</td>\n",
              "            </tr>\n",
              "            <tr>\n",
              "                        <th id=\"T_3f3a3748_3aed_11ec_be2a_0242ac1c0002level0_row1\" class=\"row_heading level0 row1\" >rc</th>\n",
              "                        <td id=\"T_3f3a3748_3aed_11ec_be2a_0242ac1c0002row1_col0\" class=\"data row1 col0\" >0.79</td>\n",
              "                        <td id=\"T_3f3a3748_3aed_11ec_be2a_0242ac1c0002row1_col1\" class=\"data row1 col1\" >1.00</td>\n",
              "            </tr>\n",
              "    </tbody></table>"
            ],
            "text/plain": [
              "<pandas.io.formats.style.Styler at 0x7fd0163ce290>"
            ]
          },
          "metadata": {},
          "execution_count": 198
        }
      ]
    },
    {
      "cell_type": "code",
      "metadata": {
        "id": "jJry_0_tVSr4"
      },
      "source": [
        "dataset_hemo_rc1 = dataset.dropna(axis = 0, subset = ['hemo','rc'])\n",
        "dataset_hemo_rc1 = dataset_hemo_rc1.loc[:,['hemo','rc']]\n",
        "missing_rc= dataset['rc'].isnull()\n",
        "hemo_misrc = pd.DataFrame(dataset['hemo'][missing_rc])"
      ],
      "execution_count": 199,
      "outputs": []
    },
    {
      "cell_type": "code",
      "metadata": {
        "id": "P7BT6SSHU0CY"
      },
      "source": [
        "# linear regression\n",
        "x = dataset_hemo_rc1[['hemo']]\n",
        "y = dataset_hemo_rc1[['rc']]\n",
        "from sklearn.model_selection import train_test_split\n",
        "x_train, x_test, y_train, y_test = train_test_split(x,y, test_size = 0.2, random_state =101)\n",
        "from sklearn.linear_model import LinearRegression\n",
        "lm = LinearRegression().fit(x_train, y_train)\n",
        "rc_pred = lm.predict(hemo_misrc)"
      ],
      "execution_count": 200,
      "outputs": []
    },
    {
      "cell_type": "markdown",
      "metadata": {
        "id": "qme6C9VWajAR"
      },
      "source": [
        "mengisi missing data redbloodcell berdasarkan Regresi nya dengan Hemo"
      ]
    },
    {
      "cell_type": "code",
      "metadata": {
        "id": "BMpF9cP5aVG8"
      },
      "source": [
        "dataset.loc[dataset['rc'].isnull(),'rc'] = rc_pred"
      ],
      "execution_count": 201,
      "outputs": []
    },
    {
      "cell_type": "markdown",
      "metadata": {
        "id": "YRIGd0tZ5ADZ"
      },
      "source": [
        "\n",
        "\n",
        "---\n",
        "\n"
      ]
    },
    {
      "cell_type": "markdown",
      "metadata": {
        "id": "ou9kqbVIeRzq"
      },
      "source": [
        "**Ada Keterhubungan htn dan bp**\n"
      ]
    },
    {
      "cell_type": "code",
      "metadata": {
        "colab": {
          "base_uri": "https://localhost:8080/"
        },
        "id": "2BFPvLwNbzhY",
        "outputId": "0f5392f4-0550-4382-b4f0-d66299cd90be"
      },
      "source": [
        "dataset['htn']=dataset['htn'].replace(np.nan,'no')\n",
        "data_bpno = dataset[dataset['htn']=='no'] \n",
        "data_bpyes = dataset[dataset['htn']=='yes'] \n",
        "print(data_bpno['bp'].describe())\n",
        "print(data_bpyes['bp'].describe())\n",
        "data_bpno['bp'] = data_bpno['bp'].replace(np.nan,70)\n",
        "data_bpyes['bp'] = data_bpyes['bp'].replace(np.nan,80)\n",
        "dataset = pd.concat([data_bpno,data_bpyes])"
      ],
      "execution_count": 202,
      "outputs": [
        {
          "output_type": "stream",
          "name": "stdout",
          "text": [
            "count    243.000000\n",
            "mean      73.580247\n",
            "std       10.753663\n",
            "min       50.000000\n",
            "25%       70.000000\n",
            "50%       70.000000\n",
            "75%       80.000000\n",
            "max      120.000000\n",
            "Name: bp, dtype: float64\n",
            "count    145.000000\n",
            "mean      81.310345\n",
            "std       16.467779\n",
            "min       50.000000\n",
            "25%       70.000000\n",
            "50%       80.000000\n",
            "75%       90.000000\n",
            "max      180.000000\n",
            "Name: bp, dtype: float64\n"
          ]
        },
        {
          "output_type": "stream",
          "name": "stderr",
          "text": [
            "/usr/local/lib/python3.7/dist-packages/ipykernel_launcher.py:6: SettingWithCopyWarning: \n",
            "A value is trying to be set on a copy of a slice from a DataFrame.\n",
            "Try using .loc[row_indexer,col_indexer] = value instead\n",
            "\n",
            "See the caveats in the documentation: https://pandas.pydata.org/pandas-docs/stable/user_guide/indexing.html#returning-a-view-versus-a-copy\n",
            "  \n",
            "/usr/local/lib/python3.7/dist-packages/ipykernel_launcher.py:7: SettingWithCopyWarning: \n",
            "A value is trying to be set on a copy of a slice from a DataFrame.\n",
            "Try using .loc[row_indexer,col_indexer] = value instead\n",
            "\n",
            "See the caveats in the documentation: https://pandas.pydata.org/pandas-docs/stable/user_guide/indexing.html#returning-a-view-versus-a-copy\n",
            "  import sys\n"
          ]
        }
      ]
    },
    {
      "cell_type": "markdown",
      "metadata": {
        "id": "P9JSnQB4iTPn"
      },
      "source": [
        "mengisi missing value htn dengan no, dan\n",
        "mengisi missing value bp dengan mediannya masing masing bpyes=80 dan bpno=70\n",
        "\n",
        "\n",
        "---\n",
        "\n"
      ]
    },
    {
      "cell_type": "markdown",
      "metadata": {
        "id": "K4OOt6EEgDKP"
      },
      "source": [
        "**status missing value saat ini**"
      ]
    },
    {
      "cell_type": "code",
      "metadata": {
        "colab": {
          "base_uri": "https://localhost:8080/"
        },
        "id": "IMGppyPvgAiV",
        "outputId": "b5656a07-e518-47f5-917f-c9985f3a134d"
      },
      "source": [
        "dataset.isnull().sum()"
      ],
      "execution_count": 203,
      "outputs": [
        {
          "output_type": "execute_result",
          "data": {
            "text/plain": [
              "id                  0\n",
              "age                 0\n",
              "bp                  0\n",
              "sg                 47\n",
              "al                 46\n",
              "su                 49\n",
              "rbc               152\n",
              "pc                 65\n",
              "pcc                 4\n",
              "ba                  4\n",
              "bgr                44\n",
              "bu                 19\n",
              "sc                 17\n",
              "sod                87\n",
              "pot                88\n",
              "hemo                0\n",
              "pcv                71\n",
              "wc                106\n",
              "rc                  0\n",
              "htn                 0\n",
              "dm                  2\n",
              "cad                 2\n",
              "appet               1\n",
              "pe                  1\n",
              "ane                 1\n",
              "classification      0\n",
              "dtype: int64"
            ]
          },
          "metadata": {},
          "execution_count": 203
        }
      ]
    },
    {
      "cell_type": "markdown",
      "metadata": {
        "id": "OFOZSEwR469f"
      },
      "source": [
        "\n",
        "\n",
        "---\n",
        "\n"
      ]
    },
    {
      "cell_type": "markdown",
      "metadata": {
        "id": "UewAbkV1hegj"
      },
      "source": [
        "**Ada Keterhubungan pcc dan pc**"
      ]
    },
    {
      "cell_type": "code",
      "metadata": {
        "id": "23gHvCWbgq6N",
        "colab": {
          "base_uri": "https://localhost:8080/"
        },
        "outputId": "34342ada-13fd-4a4c-c310-89604702ea90"
      },
      "source": [
        "dataset['pcc']=dataset['pcc'].replace(np.nan,'notpresent')\n",
        "data_pcnormal = dataset[dataset['pcc']=='notpresent']\n",
        "data_pcnormal['pc'] = data_pcnormal['pc'].replace(np.nan,'normal')\n",
        "data_pcabnormal = dataset[dataset['pcc']=='present']\n",
        "data_pcabnormal['pc'] = data_pcabnormal['pc'].replace(np.nan, 'abnormal')\n",
        "dataset = pd.concat([data_pcnormal,data_pcabnormal])"
      ],
      "execution_count": 204,
      "outputs": [
        {
          "output_type": "stream",
          "name": "stderr",
          "text": [
            "/usr/local/lib/python3.7/dist-packages/ipykernel_launcher.py:3: SettingWithCopyWarning: \n",
            "A value is trying to be set on a copy of a slice from a DataFrame.\n",
            "Try using .loc[row_indexer,col_indexer] = value instead\n",
            "\n",
            "See the caveats in the documentation: https://pandas.pydata.org/pandas-docs/stable/user_guide/indexing.html#returning-a-view-versus-a-copy\n",
            "  This is separate from the ipykernel package so we can avoid doing imports until\n",
            "/usr/local/lib/python3.7/dist-packages/ipykernel_launcher.py:5: SettingWithCopyWarning: \n",
            "A value is trying to be set on a copy of a slice from a DataFrame.\n",
            "Try using .loc[row_indexer,col_indexer] = value instead\n",
            "\n",
            "See the caveats in the documentation: https://pandas.pydata.org/pandas-docs/stable/user_guide/indexing.html#returning-a-view-versus-a-copy\n",
            "  \"\"\"\n"
          ]
        }
      ]
    },
    {
      "cell_type": "markdown",
      "metadata": {
        "id": "-zaxPUFxidM0"
      },
      "source": [
        "mengisi missing value pcc dengan no, dan mengisi missing value pc (berdasarkan pcc, [notpresent=normal]; [present=abnormal])\n",
        "\n",
        "\n",
        "---\n",
        "\n"
      ]
    },
    {
      "cell_type": "markdown",
      "metadata": {
        "id": "sCSsR6GAkj4i"
      },
      "source": [
        "**Melihat Kolom dm, cad, appet, pe, ane**"
      ]
    },
    {
      "cell_type": "code",
      "metadata": {
        "id": "8rcgI3SrjxCU"
      },
      "source": [
        "dataset['dm']=dataset['dm'].replace(np.nan,'no')\n",
        "dataset['cad']=dataset['cad'].replace(np.nan,'no')\n",
        "dataset['appet']=dataset['appet'].replace(np.nan,'good')\n",
        "dataset['pe']=dataset['pe'].replace(np.nan,'no')\n",
        "dataset['ane']=dataset['ane'].replace(np.nan,'no')"
      ],
      "execution_count": 205,
      "outputs": []
    },
    {
      "cell_type": "markdown",
      "metadata": {
        "id": "mf8cDSCBkIUW"
      },
      "source": [
        "mengisi missing value dm dengan no, mengisi missing value cad dengan no, mengisi missing value appet dengan good, mengisi missing value pe dengan no, dan mengisi missing value ane dengan no\n",
        "\n",
        "\n",
        "---\n",
        "\n"
      ]
    },
    {
      "cell_type": "markdown",
      "metadata": {
        "id": "Vh601YaslSpf"
      },
      "source": [
        "**Ada Keterhubungan bgr dengan su**"
      ]
    },
    {
      "cell_type": "code",
      "metadata": {
        "id": "04_fkJu2k5BH",
        "colab": {
          "base_uri": "https://localhost:8080/"
        },
        "outputId": "4dc1dc08-f3ac-4777-b487-a49aa5d8d0d6"
      },
      "source": [
        "datasu_notckd = dataset[dataset['classification']=='notckd']\n",
        "datasu_ckd = dataset[dataset['classification']=='ckd']\n",
        "\n",
        "datasu_notckd['su'] = datasu_notckd['su'].replace(np.nan, 0)\n",
        "\n",
        "dataset = pd.concat([datasu_notckd,datasu_ckd])\n",
        "\n",
        "data_su0 = dataset[dataset['su']==0]\n",
        "data_su1 = dataset[dataset['su']==1]\n",
        "data_su2 = dataset[dataset['su']==2]\n",
        "data_su3 = dataset[dataset['su']==3]\n",
        "data_su4 = dataset[dataset['su']==4]\n",
        "data_su5 = dataset[dataset['su']==5]\n",
        "data_su6 = dataset[dataset['su'].isnull()]\n",
        "\n",
        "print(data_su0['bgr'].mean())\n",
        "print(data_su1['bgr'].mean())\n",
        "print(data_su2['bgr'].mean())\n",
        "print(data_su3['bgr'].mean())\n",
        "print(data_su4['bgr'].mean())\n",
        "print(data_su5['bgr'].mean())\n",
        "print(datasu_ckd['bgr'].mean())\n",
        "\n",
        "data_su0['bgr']=data_su0['bgr'].replace(np.nan,122)\n",
        "data_su1['bgr']=data_su1['bgr'].replace(np.nan,213)\n",
        "data_su2['bgr']=data_su2['bgr'].replace(np.nan,256)\n",
        "data_su3['bgr']=data_su3['bgr'].replace(np.nan,269)\n",
        "data_su4['bgr']=data_su4['bgr'].replace(np.nan,302)\n",
        "\n",
        "dataset = pd.concat([data_su0,data_su1,data_su2,data_su3,data_su4,data_su5,data_su6])\n",
        "dataset['bgr'] = dataset['bgr'].replace(np.nan,172)"
      ],
      "execution_count": 206,
      "outputs": [
        {
          "output_type": "stream",
          "name": "stdout",
          "text": [
            "121.79087452471482\n",
            "213.6153846153846\n",
            "255.8\n",
            "269.0\n",
            "302.4166666666667\n",
            "394.3333333333333\n",
            "175.41981132075472\n"
          ]
        },
        {
          "output_type": "stream",
          "name": "stderr",
          "text": [
            "/usr/local/lib/python3.7/dist-packages/ipykernel_launcher.py:4: SettingWithCopyWarning: \n",
            "A value is trying to be set on a copy of a slice from a DataFrame.\n",
            "Try using .loc[row_indexer,col_indexer] = value instead\n",
            "\n",
            "See the caveats in the documentation: https://pandas.pydata.org/pandas-docs/stable/user_guide/indexing.html#returning-a-view-versus-a-copy\n",
            "  after removing the cwd from sys.path.\n",
            "/usr/local/lib/python3.7/dist-packages/ipykernel_launcher.py:24: SettingWithCopyWarning: \n",
            "A value is trying to be set on a copy of a slice from a DataFrame.\n",
            "Try using .loc[row_indexer,col_indexer] = value instead\n",
            "\n",
            "See the caveats in the documentation: https://pandas.pydata.org/pandas-docs/stable/user_guide/indexing.html#returning-a-view-versus-a-copy\n",
            "/usr/local/lib/python3.7/dist-packages/ipykernel_launcher.py:25: SettingWithCopyWarning: \n",
            "A value is trying to be set on a copy of a slice from a DataFrame.\n",
            "Try using .loc[row_indexer,col_indexer] = value instead\n",
            "\n",
            "See the caveats in the documentation: https://pandas.pydata.org/pandas-docs/stable/user_guide/indexing.html#returning-a-view-versus-a-copy\n",
            "/usr/local/lib/python3.7/dist-packages/ipykernel_launcher.py:26: SettingWithCopyWarning: \n",
            "A value is trying to be set on a copy of a slice from a DataFrame.\n",
            "Try using .loc[row_indexer,col_indexer] = value instead\n",
            "\n",
            "See the caveats in the documentation: https://pandas.pydata.org/pandas-docs/stable/user_guide/indexing.html#returning-a-view-versus-a-copy\n",
            "/usr/local/lib/python3.7/dist-packages/ipykernel_launcher.py:27: SettingWithCopyWarning: \n",
            "A value is trying to be set on a copy of a slice from a DataFrame.\n",
            "Try using .loc[row_indexer,col_indexer] = value instead\n",
            "\n",
            "See the caveats in the documentation: https://pandas.pydata.org/pandas-docs/stable/user_guide/indexing.html#returning-a-view-versus-a-copy\n",
            "/usr/local/lib/python3.7/dist-packages/ipykernel_launcher.py:28: SettingWithCopyWarning: \n",
            "A value is trying to be set on a copy of a slice from a DataFrame.\n",
            "Try using .loc[row_indexer,col_indexer] = value instead\n",
            "\n",
            "See the caveats in the documentation: https://pandas.pydata.org/pandas-docs/stable/user_guide/indexing.html#returning-a-view-versus-a-copy\n"
          ]
        }
      ]
    },
    {
      "cell_type": "markdown",
      "metadata": {
        "id": "v3mriYg0qbmv"
      },
      "source": [
        "mengisi missing value bgr dengan mean nya dilihat dari su\n",
        "\n",
        "\n",
        "---\n",
        "\n"
      ]
    },
    {
      "cell_type": "markdown",
      "metadata": {
        "id": "P3qd2Pxrq0Ys"
      },
      "source": [
        "**status missing value saat ini**"
      ]
    },
    {
      "cell_type": "code",
      "metadata": {
        "colab": {
          "base_uri": "https://localhost:8080/"
        },
        "id": "Ji0x8moqpcfw",
        "outputId": "882b6c9b-bf6c-4c9f-a5f0-f9b72d8c2256"
      },
      "source": [
        "dataset.isnull().sum()"
      ],
      "execution_count": 207,
      "outputs": [
        {
          "output_type": "execute_result",
          "data": {
            "text/plain": [
              "id                  0\n",
              "age                 0\n",
              "bp                  0\n",
              "sg                 47\n",
              "al                 46\n",
              "su                 44\n",
              "rbc               152\n",
              "pc                  0\n",
              "pcc                 0\n",
              "ba                  4\n",
              "bgr                 0\n",
              "bu                 19\n",
              "sc                 17\n",
              "sod                87\n",
              "pot                88\n",
              "hemo                0\n",
              "pcv                71\n",
              "wc                106\n",
              "rc                  0\n",
              "htn                 0\n",
              "dm                  0\n",
              "cad                 0\n",
              "appet               0\n",
              "pe                  0\n",
              "ane                 0\n",
              "classification      0\n",
              "dtype: int64"
            ]
          },
          "metadata": {},
          "execution_count": 207
        }
      ]
    },
    {
      "cell_type": "markdown",
      "metadata": {
        "id": "2Bgt8SQG4QEg"
      },
      "source": [
        "\n",
        "\n",
        "---\n",
        "\n"
      ]
    },
    {
      "cell_type": "markdown",
      "metadata": {
        "id": "Riduvr6eru4R"
      },
      "source": [
        "**Melihat Kolom Dari bu, sc, sod, pot, dan sg**"
      ]
    },
    {
      "cell_type": "code",
      "metadata": {
        "colab": {
          "base_uri": "https://localhost:8080/"
        },
        "id": "-rF_ochQrjy8",
        "outputId": "b5eabf3d-1b50-4e25-9a05-ce98dd849199"
      },
      "source": [
        "print(dataset['bu'].mean())\n",
        "print(dataset['sc'].mean())\n",
        "print(dataset['sod'].mean())\n",
        "print(dataset['pot'].mean())\n",
        "print(dataset['sg'].mean())"
      ],
      "execution_count": 208,
      "outputs": [
        {
          "output_type": "stream",
          "name": "stdout",
          "text": [
            "57.4257217847769\n",
            "3.0724543080939943\n",
            "137.52875399361022\n",
            "4.6272435897435935\n",
            "1.0174079320113267\n"
          ]
        }
      ]
    },
    {
      "cell_type": "code",
      "metadata": {
        "id": "vDpIe_Sgr8A0"
      },
      "source": [
        "dataset['bu']=dataset['bu'].replace(np.nan, 57)\n",
        "dataset['sc']=dataset['sc'].replace(np.nan, 3.1 )\n",
        "dataset['sod']=dataset['sod'].replace(np.nan,138 )\n",
        "dataset['pot']=dataset['pot'].replace(np.nan, 4.6)\n",
        "dataset['sg']=dataset['sg'].replace(np.nan,1.017 )\n",
        "dataset['ba']=dataset['ba'].replace(np.nan,'notpresent' )"
      ],
      "execution_count": 209,
      "outputs": []
    },
    {
      "cell_type": "markdown",
      "metadata": {
        "id": "6B32LAzHr-GZ"
      },
      "source": [
        "mengisi missing value masing masing kolom dengan meannya\n",
        "\n",
        "\n",
        "---\n",
        "\n"
      ]
    },
    {
      "cell_type": "markdown",
      "metadata": {
        "id": "mWeBuq1csPWW"
      },
      "source": [
        "**status missing value saat ini**"
      ]
    },
    {
      "cell_type": "code",
      "metadata": {
        "colab": {
          "base_uri": "https://localhost:8080/"
        },
        "id": "T4Cdl5njsN1e",
        "outputId": "bb9b58a0-96b9-49f8-cca5-9c80ae3cb709"
      },
      "source": [
        "dataset.isnull().sum()"
      ],
      "execution_count": 210,
      "outputs": [
        {
          "output_type": "execute_result",
          "data": {
            "text/plain": [
              "id                  0\n",
              "age                 0\n",
              "bp                  0\n",
              "sg                  0\n",
              "al                 46\n",
              "su                 44\n",
              "rbc               152\n",
              "pc                  0\n",
              "pcc                 0\n",
              "ba                  0\n",
              "bgr                 0\n",
              "bu                  0\n",
              "sc                  0\n",
              "sod                 0\n",
              "pot                 0\n",
              "hemo                0\n",
              "pcv                71\n",
              "wc                106\n",
              "rc                  0\n",
              "htn                 0\n",
              "dm                  0\n",
              "cad                 0\n",
              "appet               0\n",
              "pe                  0\n",
              "ane                 0\n",
              "classification      0\n",
              "dtype: int64"
            ]
          },
          "metadata": {},
          "execution_count": 210
        }
      ]
    },
    {
      "cell_type": "markdown",
      "metadata": {
        "id": "D6jKMI56sP9i"
      },
      "source": [
        "---"
      ]
    },
    {
      "cell_type": "markdown",
      "metadata": {
        "id": "akisD1Vjs24l"
      },
      "source": [
        "**Melihat Distribusi Data whitebloodcell (wc)**"
      ]
    },
    {
      "cell_type": "code",
      "metadata": {
        "colab": {
          "base_uri": "https://localhost:8080/",
          "height": 427
        },
        "id": "VAjiuJausv3M",
        "outputId": "5d91ae5d-a48f-4cee-862d-b3acd94154c0"
      },
      "source": [
        "print(dataset['wc'].describe())\n",
        "dataset['wc'].hist()"
      ],
      "execution_count": 211,
      "outputs": [
        {
          "output_type": "stream",
          "name": "stdout",
          "text": [
            "count      294.000000\n",
            "mean      8406.122449\n",
            "std       2944.474190\n",
            "min       2200.000000\n",
            "25%       6500.000000\n",
            "50%       8000.000000\n",
            "75%       9800.000000\n",
            "max      26400.000000\n",
            "Name: wc, dtype: float64\n"
          ]
        },
        {
          "output_type": "execute_result",
          "data": {
            "text/plain": [
              "<matplotlib.axes._subplots.AxesSubplot at 0x7fd024120ad0>"
            ]
          },
          "metadata": {},
          "execution_count": 211
        },
        {
          "output_type": "display_data",
          "data": {
            "image/png": "[encoded data removed]",
            "text/plain": [
              "<Figure size 432x288 with 1 Axes>"
            ]
          },
          "metadata": {
            "needs_background": "light"
          }
        }
      ]
    },
    {
      "cell_type": "code",
      "metadata": {
        "id": "M474NlMAtJe-"
      },
      "source": [
        "dataset['wc'] = dataset['wc'].replace(np.nan, 8)"
      ],
      "execution_count": 212,
      "outputs": []
    },
    {
      "cell_type": "markdown",
      "metadata": {
        "id": "eFYFi2vWtRcD"
      },
      "source": [
        "mengisi missing data wc berdasarkan mediannya\n",
        "\n",
        "\n",
        "---\n",
        "\n"
      ]
    },
    {
      "cell_type": "markdown",
      "metadata": {
        "id": "7cq5vxYQw-Ss"
      },
      "source": [
        "**status missing value saat ini**"
      ]
    },
    {
      "cell_type": "code",
      "metadata": {
        "colab": {
          "base_uri": "https://localhost:8080/"
        },
        "id": "7uhdsSITtv8y",
        "outputId": "a5dfa351-96ce-46d0-cb29-01ca4257e639"
      },
      "source": [
        "dataset.isnull().sum()"
      ],
      "execution_count": 213,
      "outputs": [
        {
          "output_type": "execute_result",
          "data": {
            "text/plain": [
              "id                  0\n",
              "age                 0\n",
              "bp                  0\n",
              "sg                  0\n",
              "al                 46\n",
              "su                 44\n",
              "rbc               152\n",
              "pc                  0\n",
              "pcc                 0\n",
              "ba                  0\n",
              "bgr                 0\n",
              "bu                  0\n",
              "sc                  0\n",
              "sod                 0\n",
              "pot                 0\n",
              "hemo                0\n",
              "pcv                71\n",
              "wc                  0\n",
              "rc                  0\n",
              "htn                 0\n",
              "dm                  0\n",
              "cad                 0\n",
              "appet               0\n",
              "pe                  0\n",
              "ane                 0\n",
              "classification      0\n",
              "dtype: int64"
            ]
          },
          "metadata": {},
          "execution_count": 213
        }
      ]
    },
    {
      "cell_type": "markdown",
      "metadata": {
        "id": "Jb4y45TG4Y6R"
      },
      "source": [
        "\n",
        "\n",
        "---\n",
        "\n"
      ]
    },
    {
      "cell_type": "markdown",
      "metadata": {
        "id": "jlkBUjREwFHq"
      },
      "source": [
        "**Hubungan hemoglobin dan redbloodcell dengan LINEAR REGRESSION**"
      ]
    },
    {
      "cell_type": "code",
      "metadata": {
        "colab": {
          "base_uri": "https://localhost:8080/",
          "height": 108
        },
        "id": "67bUXc3ewSyi",
        "outputId": "2584b927-326a-411f-bde1-c5f868bfa4fb"
      },
      "source": [
        "dataset_cc = dataset.dropna(axis = 0)\n",
        "dataset_hemo_pcv = dataset[['hemo','pcv']]\n",
        "corr1 = dataset_hemo_pcv.corr()\n",
        "corr1.style.background_gradient(cmap='coolwarm').set_precision(2)"
      ],
      "execution_count": 214,
      "outputs": [
        {
          "output_type": "execute_result",
          "data": {
            "text/html": [
              "<style  type=\"text/css\" >\n",
              "#T_3f7fddca_3aed_11ec_be2a_0242ac1c0002row0_col0,#T_3f7fddca_3aed_11ec_be2a_0242ac1c0002row1_col1{\n",
              "            background-color:  #b40426;\n",
              "            color:  #f1f1f1;\n",
              "        }#T_3f7fddca_3aed_11ec_be2a_0242ac1c0002row0_col1,#T_3f7fddca_3aed_11ec_be2a_0242ac1c0002row1_col0{\n",
              "            background-color:  #3b4cc0;\n",
              "            color:  #f1f1f1;\n",
              "        }</style><table id=\"T_3f7fddca_3aed_11ec_be2a_0242ac1c0002\" class=\"dataframe\"><thead>    <tr>        <th class=\"blank level0\" ></th>        <th class=\"col_heading level0 col0\" >hemo</th>        <th class=\"col_heading level0 col1\" >pcv</th>    </tr></thead><tbody>\n",
              "                <tr>\n",
              "                        <th id=\"T_3f7fddca_3aed_11ec_be2a_0242ac1c0002level0_row0\" class=\"row_heading level0 row0\" >hemo</th>\n",
              "                        <td id=\"T_3f7fddca_3aed_11ec_be2a_0242ac1c0002row0_col0\" class=\"data row0 col0\" >1.00</td>\n",
              "                        <td id=\"T_3f7fddca_3aed_11ec_be2a_0242ac1c0002row0_col1\" class=\"data row0 col1\" >0.89</td>\n",
              "            </tr>\n",
              "            <tr>\n",
              "                        <th id=\"T_3f7fddca_3aed_11ec_be2a_0242ac1c0002level0_row1\" class=\"row_heading level0 row1\" >pcv</th>\n",
              "                        <td id=\"T_3f7fddca_3aed_11ec_be2a_0242ac1c0002row1_col0\" class=\"data row1 col0\" >0.89</td>\n",
              "                        <td id=\"T_3f7fddca_3aed_11ec_be2a_0242ac1c0002row1_col1\" class=\"data row1 col1\" >1.00</td>\n",
              "            </tr>\n",
              "    </tbody></table>"
            ],
            "text/plain": [
              "<pandas.io.formats.style.Styler at 0x7fd016227a10>"
            ]
          },
          "metadata": {},
          "execution_count": 214
        }
      ]
    },
    {
      "cell_type": "code",
      "metadata": {
        "id": "iMT0BWhDwTvG"
      },
      "source": [
        "dataset_hemo_pcv = dataset.dropna(axis = 0, subset = ['hemo','pcv'])\n",
        "dataset_hemo_pcv = dataset_hemo_pcv.loc[:,['hemo','pcv']]\n",
        "missing_pcv = dataset['pcv'].isnull()\n",
        "hemo_mispcv = pd.DataFrame(dataset['hemo'][missing_pcv])"
      ],
      "execution_count": 215,
      "outputs": []
    },
    {
      "cell_type": "code",
      "metadata": {
        "id": "VeZtV86nwfLj"
      },
      "source": [
        "x1 = dataset_hemo_pcv[['hemo']]\n",
        "y1 = dataset_hemo_pcv[['pcv']]\n",
        "from sklearn.model_selection import train_test_split\n",
        "\n",
        "x1_train, x1_test, y1_train, y1_test = train_test_split(x1,y1, test_size = 0.2, random_state =101)\n",
        "from sklearn.linear_model import LinearRegression\n",
        "lm = LinearRegression().fit(x1_train, y1_train)\n",
        "pcv_pred = lm.predict(hemo_mispcv)"
      ],
      "execution_count": 216,
      "outputs": []
    },
    {
      "cell_type": "markdown",
      "metadata": {
        "id": "Hnw_BRBVwvCK"
      },
      "source": [
        "mengisi missing data pcv berdasarkan Regresi nya dengan Hemo"
      ]
    },
    {
      "cell_type": "code",
      "metadata": {
        "id": "bvQt7ya7wtHg"
      },
      "source": [
        "dataset.loc[dataset['pcv'].isnull(),'pcv'] = pcv_pred"
      ],
      "execution_count": 217,
      "outputs": []
    },
    {
      "cell_type": "markdown",
      "metadata": {
        "id": "SpyFDimO4hnq"
      },
      "source": [
        "\n",
        "\n",
        "---\n",
        "\n"
      ]
    },
    {
      "cell_type": "markdown",
      "metadata": {
        "id": "K_TMee0xxJlf"
      },
      "source": [
        "**status missing value saat ini**"
      ]
    },
    {
      "cell_type": "code",
      "metadata": {
        "colab": {
          "base_uri": "https://localhost:8080/"
        },
        "id": "1hWbGMNEw7q0",
        "outputId": "f0ccf830-a02d-4836-ebc4-12d6a44d66f3"
      },
      "source": [
        "dataset.isnull().sum()"
      ],
      "execution_count": 218,
      "outputs": [
        {
          "output_type": "execute_result",
          "data": {
            "text/plain": [
              "id                  0\n",
              "age                 0\n",
              "bp                  0\n",
              "sg                  0\n",
              "al                 46\n",
              "su                 44\n",
              "rbc               152\n",
              "pc                  0\n",
              "pcc                 0\n",
              "ba                  0\n",
              "bgr                 0\n",
              "bu                  0\n",
              "sc                  0\n",
              "sod                 0\n",
              "pot                 0\n",
              "hemo                0\n",
              "pcv                 0\n",
              "wc                  0\n",
              "rc                  0\n",
              "htn                 0\n",
              "dm                  0\n",
              "cad                 0\n",
              "appet               0\n",
              "pe                  0\n",
              "ane                 0\n",
              "classification      0\n",
              "dtype: int64"
            ]
          },
          "metadata": {},
          "execution_count": 218
        }
      ]
    },
    {
      "cell_type": "markdown",
      "metadata": {
        "id": "WHGHjrdL4kgO"
      },
      "source": [
        "\n",
        "\n",
        "---\n",
        "\n"
      ]
    },
    {
      "cell_type": "markdown",
      "metadata": {
        "id": "GHLEiXDfxTz4"
      },
      "source": [
        "**Menghapus Sisa Missing Value Yang Masih Ada**"
      ]
    },
    {
      "cell_type": "code",
      "metadata": {
        "id": "bPeeoLPdxmTy"
      },
      "source": [
        "dataset = dataset.drop(['rbc'], axis=1)"
      ],
      "execution_count": 219,
      "outputs": []
    },
    {
      "cell_type": "markdown",
      "metadata": {
        "id": "p_e1C5wfx6E5"
      },
      "source": [
        "menghapus kolom rbc"
      ]
    },
    {
      "cell_type": "code",
      "metadata": {
        "id": "fEZEDEP8x0bz"
      },
      "source": [
        "dataset = dataset.dropna(axis=0)"
      ],
      "execution_count": 220,
      "outputs": []
    },
    {
      "cell_type": "markdown",
      "metadata": {
        "id": "f_gRctFjyPDp"
      },
      "source": [
        "menghapus baris yang mengandung missing value\n",
        "\n",
        "\n",
        "---\n",
        "\n"
      ]
    },
    {
      "cell_type": "markdown",
      "metadata": {
        "id": "3AjuaQD8yedy"
      },
      "source": [
        "**status missing value & baris kolom saat ini**"
      ]
    },
    {
      "cell_type": "code",
      "metadata": {
        "colab": {
          "base_uri": "https://localhost:8080/"
        },
        "id": "uSbKJbG-x4BJ",
        "outputId": "b4e3eada-d032-4dbe-807a-1e263212725b"
      },
      "source": [
        "dataset.isnull().sum()"
      ],
      "execution_count": 221,
      "outputs": [
        {
          "output_type": "execute_result",
          "data": {
            "text/plain": [
              "id                0\n",
              "age               0\n",
              "bp                0\n",
              "sg                0\n",
              "al                0\n",
              "su                0\n",
              "pc                0\n",
              "pcc               0\n",
              "ba                0\n",
              "bgr               0\n",
              "bu                0\n",
              "sc                0\n",
              "sod               0\n",
              "pot               0\n",
              "hemo              0\n",
              "pcv               0\n",
              "wc                0\n",
              "rc                0\n",
              "htn               0\n",
              "dm                0\n",
              "cad               0\n",
              "appet             0\n",
              "pe                0\n",
              "ane               0\n",
              "classification    0\n",
              "dtype: int64"
            ]
          },
          "metadata": {},
          "execution_count": 221
        }
      ]
    },
    {
      "cell_type": "markdown",
      "metadata": {
        "id": "AU5V1Fn3zEVz"
      },
      "source": [
        ""
      ]
    },
    {
      "cell_type": "code",
      "metadata": {
        "colab": {
          "base_uri": "https://localhost:8080/"
        },
        "id": "oXx4KAVbyliN",
        "outputId": "fb95ab40-8c7f-43b9-8c06-e7705c3ba60a"
      },
      "source": [
        "dataset.shape"
      ],
      "execution_count": 222,
      "outputs": [
        {
          "output_type": "execute_result",
          "data": {
            "text/plain": [
              "(351, 25)"
            ]
          },
          "metadata": {},
          "execution_count": 222
        }
      ]
    },
    {
      "cell_type": "markdown",
      "metadata": {
        "id": "-jQLltwey-d_"
      },
      "source": [
        "jumlah baris saat ini 351 data, dan 25 kolom feature\n",
        "\n",
        "\n",
        "---\n",
        "\n"
      ]
    },
    {
      "cell_type": "markdown",
      "metadata": {
        "id": "Z32KSG45zlKT"
      },
      "source": [
        "**Mengecek Duplikasi Data**"
      ]
    },
    {
      "cell_type": "code",
      "metadata": {
        "colab": {
          "base_uri": "https://localhost:8080/"
        },
        "id": "rKZ9tewRzH3z",
        "outputId": "550e2d8b-e1be-4752-cbaa-1ac15c7d858c"
      },
      "source": [
        "dataset.duplicated().sum()"
      ],
      "execution_count": 223,
      "outputs": [
        {
          "output_type": "execute_result",
          "data": {
            "text/plain": [
              "0"
            ]
          },
          "metadata": {},
          "execution_count": 223
        }
      ]
    },
    {
      "cell_type": "markdown",
      "metadata": {
        "id": "x00PGeN-4qY6"
      },
      "source": [
        "\n",
        "\n",
        "---\n",
        "\n"
      ]
    },
    {
      "cell_type": "markdown",
      "metadata": {
        "id": "poSFwc8R2CIK"
      },
      "source": [
        "**Mengecek & Merapihkan Data Typo**"
      ]
    },
    {
      "cell_type": "code",
      "metadata": {
        "colab": {
          "base_uri": "https://localhost:8080/"
        },
        "id": "ebxatLaK2QGg",
        "outputId": "9e903026-f780-4a69-e068-bc5aab706f11"
      },
      "source": [
        "dataset['appet']=dataset['appet'].replace('poof','poor')\n",
        "dataset['appet']=dataset['appet'].replace('goof','good')\n",
        "\n",
        "print(pd.unique(dataset['appet']))\n",
        "print(pd.unique(dataset['cad']))\n",
        "dataset['cad']=dataset['cad'].replace('no ','no')\n",
        "print(pd.unique(dataset['dm']))\n",
        "print(pd.unique(dataset['htn']))\n",
        "print(pd.unique(dataset['pe']))\n",
        "print(pd.unique(dataset['ane']))\n",
        "print(pd.unique(dataset['pc']))\n",
        "print(pd.unique(dataset['pcc']))\n",
        "print(pd.unique(dataset['ba']))"
      ],
      "execution_count": 224,
      "outputs": [
        {
          "output_type": "stream",
          "name": "stdout",
          "text": [
            "['good' 'poor']\n",
            "['no' 'yes' 'no ']\n",
            "['no' 'yes']\n",
            "['no' 'yes']\n",
            "['no' 'yes']\n",
            "['no' 'yes']\n",
            "['normal' 'abnormal']\n",
            "['notpresent' 'present']\n",
            "['notpresent' 'present']\n"
          ]
        }
      ]
    },
    {
      "cell_type": "markdown",
      "metadata": {
        "id": "6byi329e2jAf"
      },
      "source": [
        "\n",
        "\n",
        "---\n",
        "\n"
      ]
    },
    {
      "cell_type": "markdown",
      "metadata": {
        "id": "gaz-d7he2SZY"
      },
      "source": [
        "**Encoding Kolom Data Kategorik**"
      ]
    },
    {
      "cell_type": "code",
      "metadata": {
        "id": "iaESt7PY2ZCz"
      },
      "source": [
        "from sklearn.preprocessing import LabelEncoder\n",
        "label_1 = LabelEncoder()\n",
        "dataset['pc'] = label_1.fit_transform(dataset['pc'])\n",
        "label_2 = LabelEncoder()\n",
        "dataset['pcc'] = label_2.fit_transform(dataset['pcc'])\n",
        "label_3 = LabelEncoder()\n",
        "dataset['ba'] = label_3.fit_transform(dataset['ba'])\n",
        "label_4 = LabelEncoder()\n",
        "dataset['htn'] = label_4.fit_transform(dataset['htn'])\n",
        "label_5 = LabelEncoder()\n",
        "dataset['dm'] = label_5.fit_transform(dataset['dm'])\n",
        "label_6 = LabelEncoder()\n",
        "dataset['cad'] = label_6.fit_transform(dataset['cad'])\n",
        "label_8 = LabelEncoder()\n",
        "dataset['pe'] = label_8.fit_transform(dataset['pe'])\n",
        "label_9 = LabelEncoder()\n",
        "dataset['ane'] = label_9.fit_transform(dataset['ane'])\n",
        "label_10 = LabelEncoder()\n",
        "dataset['appet'] = label_9.fit_transform(dataset['appet'])\n",
        "\n",
        "dataset['classification']=dataset['classification'].replace('ckd',1)\n",
        "dataset['classification']=dataset['classification'].replace('notckd',0)"
      ],
      "execution_count": 225,
      "outputs": []
    },
    {
      "cell_type": "markdown",
      "metadata": {
        "id": "O9QvSKT73Ej-"
      },
      "source": [
        "encoding data kategorik untuk persiapan pemodelan\n",
        "\n",
        "\n",
        "---\n",
        "\n"
      ]
    },
    {
      "cell_type": "markdown",
      "metadata": {
        "id": "CoAc5jm33XOq"
      },
      "source": [
        "**Mengecek Ulang Kembali Data**"
      ]
    },
    {
      "cell_type": "code",
      "metadata": {
        "colab": {
          "base_uri": "https://localhost:8080/",
          "height": 200
        },
        "id": "1K2zL1VY3JVg",
        "outputId": "f620d4d4-09c6-495e-cc9e-0a3bfd8d1437"
      },
      "source": [
        "dataset.head()"
      ],
      "execution_count": 226,
      "outputs": [
        {
          "output_type": "execute_result",
          "data": {
            "text/html": [
              "<div>\n",
              "<style scoped>\n",
              "    .dataframe tbody tr th:only-of-type {\n",
              "        vertical-align: middle;\n",
              "    }\n",
              "\n",
              "    .dataframe tbody tr th {\n",
              "        vertical-align: top;\n",
              "    }\n",
              "\n",
              "    .dataframe thead th {\n",
              "        text-align: right;\n",
              "    }\n",
              "</style>\n",
              "<table border=\"1\" class=\"dataframe\">\n",
              "  <thead>\n",
              "    <tr style=\"text-align: right;\">\n",
              "      <th></th>\n",
              "      <th>id</th>\n",
              "      <th>age</th>\n",
              "      <th>bp</th>\n",
              "      <th>sg</th>\n",
              "      <th>al</th>\n",
              "      <th>su</th>\n",
              "      <th>pc</th>\n",
              "      <th>pcc</th>\n",
              "      <th>ba</th>\n",
              "      <th>bgr</th>\n",
              "      <th>bu</th>\n",
              "      <th>sc</th>\n",
              "      <th>sod</th>\n",
              "      <th>pot</th>\n",
              "      <th>hemo</th>\n",
              "      <th>pcv</th>\n",
              "      <th>wc</th>\n",
              "      <th>rc</th>\n",
              "      <th>htn</th>\n",
              "      <th>dm</th>\n",
              "      <th>cad</th>\n",
              "      <th>appet</th>\n",
              "      <th>pe</th>\n",
              "      <th>ane</th>\n",
              "      <th>classification</th>\n",
              "    </tr>\n",
              "  </thead>\n",
              "  <tbody>\n",
              "    <tr>\n",
              "      <th>250</th>\n",
              "      <td>250</td>\n",
              "      <td>40.0</td>\n",
              "      <td>80.0</td>\n",
              "      <td>1.025</td>\n",
              "      <td>0.0</td>\n",
              "      <td>0.0</td>\n",
              "      <td>1</td>\n",
              "      <td>0</td>\n",
              "      <td>0</td>\n",
              "      <td>140.0</td>\n",
              "      <td>10.0</td>\n",
              "      <td>1.2</td>\n",
              "      <td>135.0</td>\n",
              "      <td>5.0</td>\n",
              "      <td>15.0</td>\n",
              "      <td>48.0</td>\n",
              "      <td>10400.0</td>\n",
              "      <td>4.5</td>\n",
              "      <td>0</td>\n",
              "      <td>0</td>\n",
              "      <td>0</td>\n",
              "      <td>0</td>\n",
              "      <td>0</td>\n",
              "      <td>0</td>\n",
              "      <td>0</td>\n",
              "    </tr>\n",
              "    <tr>\n",
              "      <th>251</th>\n",
              "      <td>251</td>\n",
              "      <td>23.0</td>\n",
              "      <td>80.0</td>\n",
              "      <td>1.025</td>\n",
              "      <td>0.0</td>\n",
              "      <td>0.0</td>\n",
              "      <td>1</td>\n",
              "      <td>0</td>\n",
              "      <td>0</td>\n",
              "      <td>70.0</td>\n",
              "      <td>36.0</td>\n",
              "      <td>1.0</td>\n",
              "      <td>150.0</td>\n",
              "      <td>4.6</td>\n",
              "      <td>17.0</td>\n",
              "      <td>52.0</td>\n",
              "      <td>9800.0</td>\n",
              "      <td>5.0</td>\n",
              "      <td>0</td>\n",
              "      <td>0</td>\n",
              "      <td>0</td>\n",
              "      <td>0</td>\n",
              "      <td>0</td>\n",
              "      <td>0</td>\n",
              "      <td>0</td>\n",
              "    </tr>\n",
              "    <tr>\n",
              "      <th>252</th>\n",
              "      <td>252</td>\n",
              "      <td>45.0</td>\n",
              "      <td>80.0</td>\n",
              "      <td>1.025</td>\n",
              "      <td>0.0</td>\n",
              "      <td>0.0</td>\n",
              "      <td>1</td>\n",
              "      <td>0</td>\n",
              "      <td>0</td>\n",
              "      <td>82.0</td>\n",
              "      <td>49.0</td>\n",
              "      <td>0.6</td>\n",
              "      <td>147.0</td>\n",
              "      <td>4.4</td>\n",
              "      <td>15.9</td>\n",
              "      <td>46.0</td>\n",
              "      <td>9100.0</td>\n",
              "      <td>4.7</td>\n",
              "      <td>0</td>\n",
              "      <td>0</td>\n",
              "      <td>0</td>\n",
              "      <td>0</td>\n",
              "      <td>0</td>\n",
              "      <td>0</td>\n",
              "      <td>0</td>\n",
              "    </tr>\n",
              "    <tr>\n",
              "      <th>253</th>\n",
              "      <td>253</td>\n",
              "      <td>57.0</td>\n",
              "      <td>80.0</td>\n",
              "      <td>1.025</td>\n",
              "      <td>0.0</td>\n",
              "      <td>0.0</td>\n",
              "      <td>1</td>\n",
              "      <td>0</td>\n",
              "      <td>0</td>\n",
              "      <td>119.0</td>\n",
              "      <td>17.0</td>\n",
              "      <td>1.2</td>\n",
              "      <td>135.0</td>\n",
              "      <td>4.7</td>\n",
              "      <td>15.4</td>\n",
              "      <td>42.0</td>\n",
              "      <td>6200.0</td>\n",
              "      <td>6.2</td>\n",
              "      <td>0</td>\n",
              "      <td>0</td>\n",
              "      <td>0</td>\n",
              "      <td>0</td>\n",
              "      <td>0</td>\n",
              "      <td>0</td>\n",
              "      <td>0</td>\n",
              "    </tr>\n",
              "    <tr>\n",
              "      <th>254</th>\n",
              "      <td>254</td>\n",
              "      <td>51.0</td>\n",
              "      <td>60.0</td>\n",
              "      <td>1.025</td>\n",
              "      <td>0.0</td>\n",
              "      <td>0.0</td>\n",
              "      <td>1</td>\n",
              "      <td>0</td>\n",
              "      <td>0</td>\n",
              "      <td>99.0</td>\n",
              "      <td>38.0</td>\n",
              "      <td>0.8</td>\n",
              "      <td>135.0</td>\n",
              "      <td>3.7</td>\n",
              "      <td>13.0</td>\n",
              "      <td>49.0</td>\n",
              "      <td>8300.0</td>\n",
              "      <td>5.2</td>\n",
              "      <td>0</td>\n",
              "      <td>0</td>\n",
              "      <td>0</td>\n",
              "      <td>0</td>\n",
              "      <td>0</td>\n",
              "      <td>0</td>\n",
              "      <td>0</td>\n",
              "    </tr>\n",
              "  </tbody>\n",
              "</table>\n",
              "</div>"
            ],
            "text/plain": [
              "      id   age    bp     sg   al   su  ...  dm  cad  appet  pe  ane  classification\n",
              "250  250  40.0  80.0  1.025  0.0  0.0  ...   0    0      0   0    0               0\n",
              "251  251  23.0  80.0  1.025  0.0  0.0  ...   0    0      0   0    0               0\n",
              "252  252  45.0  80.0  1.025  0.0  0.0  ...   0    0      0   0    0               0\n",
              "253  253  57.0  80.0  1.025  0.0  0.0  ...   0    0      0   0    0               0\n",
              "254  254  51.0  60.0  1.025  0.0  0.0  ...   0    0      0   0    0               0\n",
              "\n",
              "[5 rows x 25 columns]"
            ]
          },
          "metadata": {},
          "execution_count": 226
        }
      ]
    },
    {
      "cell_type": "code",
      "metadata": {
        "colab": {
          "base_uri": "https://localhost:8080/",
          "height": 200
        },
        "id": "E-FpwZjk3UZ7",
        "outputId": "df24190a-d1a8-46db-bc25-31bec3ad1e67"
      },
      "source": [
        "dataset.sort_values(by=['id'],inplace=True)\n",
        "dataset.head()"
      ],
      "execution_count": 227,
      "outputs": [
        {
          "output_type": "execute_result",
          "data": {
            "text/html": [
              "<div>\n",
              "<style scoped>\n",
              "    .dataframe tbody tr th:only-of-type {\n",
              "        vertical-align: middle;\n",
              "    }\n",
              "\n",
              "    .dataframe tbody tr th {\n",
              "        vertical-align: top;\n",
              "    }\n",
              "\n",
              "    .dataframe thead th {\n",
              "        text-align: right;\n",
              "    }\n",
              "</style>\n",
              "<table border=\"1\" class=\"dataframe\">\n",
              "  <thead>\n",
              "    <tr style=\"text-align: right;\">\n",
              "      <th></th>\n",
              "      <th>id</th>\n",
              "      <th>age</th>\n",
              "      <th>bp</th>\n",
              "      <th>sg</th>\n",
              "      <th>al</th>\n",
              "      <th>su</th>\n",
              "      <th>pc</th>\n",
              "      <th>pcc</th>\n",
              "      <th>ba</th>\n",
              "      <th>bgr</th>\n",
              "      <th>bu</th>\n",
              "      <th>sc</th>\n",
              "      <th>sod</th>\n",
              "      <th>pot</th>\n",
              "      <th>hemo</th>\n",
              "      <th>pcv</th>\n",
              "      <th>wc</th>\n",
              "      <th>rc</th>\n",
              "      <th>htn</th>\n",
              "      <th>dm</th>\n",
              "      <th>cad</th>\n",
              "      <th>appet</th>\n",
              "      <th>pe</th>\n",
              "      <th>ane</th>\n",
              "      <th>classification</th>\n",
              "    </tr>\n",
              "  </thead>\n",
              "  <tbody>\n",
              "    <tr>\n",
              "      <th>0</th>\n",
              "      <td>0</td>\n",
              "      <td>48.0</td>\n",
              "      <td>80.0</td>\n",
              "      <td>1.020</td>\n",
              "      <td>1.0</td>\n",
              "      <td>0.0</td>\n",
              "      <td>1</td>\n",
              "      <td>0</td>\n",
              "      <td>0</td>\n",
              "      <td>121.0</td>\n",
              "      <td>36.0</td>\n",
              "      <td>1.2</td>\n",
              "      <td>138.0</td>\n",
              "      <td>4.6</td>\n",
              "      <td>15.4</td>\n",
              "      <td>44.0</td>\n",
              "      <td>7800.0</td>\n",
              "      <td>5.200000</td>\n",
              "      <td>1</td>\n",
              "      <td>1</td>\n",
              "      <td>0</td>\n",
              "      <td>0</td>\n",
              "      <td>0</td>\n",
              "      <td>0</td>\n",
              "      <td>1</td>\n",
              "    </tr>\n",
              "    <tr>\n",
              "      <th>1</th>\n",
              "      <td>1</td>\n",
              "      <td>7.0</td>\n",
              "      <td>50.0</td>\n",
              "      <td>1.020</td>\n",
              "      <td>4.0</td>\n",
              "      <td>0.0</td>\n",
              "      <td>1</td>\n",
              "      <td>0</td>\n",
              "      <td>0</td>\n",
              "      <td>122.0</td>\n",
              "      <td>18.0</td>\n",
              "      <td>0.8</td>\n",
              "      <td>138.0</td>\n",
              "      <td>4.6</td>\n",
              "      <td>11.3</td>\n",
              "      <td>38.0</td>\n",
              "      <td>6000.0</td>\n",
              "      <td>4.187400</td>\n",
              "      <td>0</td>\n",
              "      <td>0</td>\n",
              "      <td>0</td>\n",
              "      <td>0</td>\n",
              "      <td>0</td>\n",
              "      <td>0</td>\n",
              "      <td>1</td>\n",
              "    </tr>\n",
              "    <tr>\n",
              "      <th>2</th>\n",
              "      <td>2</td>\n",
              "      <td>62.0</td>\n",
              "      <td>80.0</td>\n",
              "      <td>1.010</td>\n",
              "      <td>2.0</td>\n",
              "      <td>3.0</td>\n",
              "      <td>1</td>\n",
              "      <td>0</td>\n",
              "      <td>0</td>\n",
              "      <td>423.0</td>\n",
              "      <td>53.0</td>\n",
              "      <td>1.8</td>\n",
              "      <td>138.0</td>\n",
              "      <td>4.6</td>\n",
              "      <td>9.6</td>\n",
              "      <td>31.0</td>\n",
              "      <td>7500.0</td>\n",
              "      <td>3.702609</td>\n",
              "      <td>0</td>\n",
              "      <td>1</td>\n",
              "      <td>0</td>\n",
              "      <td>1</td>\n",
              "      <td>0</td>\n",
              "      <td>1</td>\n",
              "      <td>1</td>\n",
              "    </tr>\n",
              "    <tr>\n",
              "      <th>3</th>\n",
              "      <td>3</td>\n",
              "      <td>48.0</td>\n",
              "      <td>70.0</td>\n",
              "      <td>1.005</td>\n",
              "      <td>4.0</td>\n",
              "      <td>0.0</td>\n",
              "      <td>0</td>\n",
              "      <td>1</td>\n",
              "      <td>0</td>\n",
              "      <td>117.0</td>\n",
              "      <td>56.0</td>\n",
              "      <td>3.8</td>\n",
              "      <td>111.0</td>\n",
              "      <td>2.5</td>\n",
              "      <td>11.2</td>\n",
              "      <td>32.0</td>\n",
              "      <td>6700.0</td>\n",
              "      <td>3.900000</td>\n",
              "      <td>1</td>\n",
              "      <td>0</td>\n",
              "      <td>0</td>\n",
              "      <td>1</td>\n",
              "      <td>1</td>\n",
              "      <td>1</td>\n",
              "      <td>1</td>\n",
              "    </tr>\n",
              "    <tr>\n",
              "      <th>4</th>\n",
              "      <td>4</td>\n",
              "      <td>51.0</td>\n",
              "      <td>80.0</td>\n",
              "      <td>1.010</td>\n",
              "      <td>2.0</td>\n",
              "      <td>0.0</td>\n",
              "      <td>1</td>\n",
              "      <td>0</td>\n",
              "      <td>0</td>\n",
              "      <td>106.0</td>\n",
              "      <td>26.0</td>\n",
              "      <td>1.4</td>\n",
              "      <td>138.0</td>\n",
              "      <td>4.6</td>\n",
              "      <td>11.6</td>\n",
              "      <td>35.0</td>\n",
              "      <td>7300.0</td>\n",
              "      <td>4.600000</td>\n",
              "      <td>0</td>\n",
              "      <td>0</td>\n",
              "      <td>0</td>\n",
              "      <td>0</td>\n",
              "      <td>0</td>\n",
              "      <td>0</td>\n",
              "      <td>1</td>\n",
              "    </tr>\n",
              "  </tbody>\n",
              "</table>\n",
              "</div>"
            ],
            "text/plain": [
              "   id   age    bp     sg   al   su  ...  dm  cad  appet  pe  ane  classification\n",
              "0   0  48.0  80.0  1.020  1.0  0.0  ...   1    0      0   0    0               1\n",
              "1   1   7.0  50.0  1.020  4.0  0.0  ...   0    0      0   0    0               1\n",
              "2   2  62.0  80.0  1.010  2.0  3.0  ...   1    0      1   0    1               1\n",
              "3   3  48.0  70.0  1.005  4.0  0.0  ...   0    0      1   1    1               1\n",
              "4   4  51.0  80.0  1.010  2.0  0.0  ...   0    0      0   0    0               1\n",
              "\n",
              "[5 rows x 25 columns]"
            ]
          },
          "metadata": {},
          "execution_count": 227
        }
      ]
    },
    {
      "cell_type": "code",
      "metadata": {
        "colab": {
          "base_uri": "https://localhost:8080/"
        },
        "id": "9wiOpK6m3lvB",
        "outputId": "dcbf23e0-e1c3-4d08-9835-ea07418ab4f4"
      },
      "source": [
        "dataset.info()"
      ],
      "execution_count": 228,
      "outputs": [
        {
          "output_type": "stream",
          "name": "stdout",
          "text": [
            "<class 'pandas.core.frame.DataFrame'>\n",
            "Int64Index: 351 entries, 0 to 399\n",
            "Data columns (total 25 columns):\n",
            " #   Column          Non-Null Count  Dtype  \n",
            "---  ------          --------------  -----  \n",
            " 0   id              351 non-null    int64  \n",
            " 1   age             351 non-null    float64\n",
            " 2   bp              351 non-null    float64\n",
            " 3   sg              351 non-null    float64\n",
            " 4   al              351 non-null    float64\n",
            " 5   su              351 non-null    float64\n",
            " 6   pc              351 non-null    int64  \n",
            " 7   pcc             351 non-null    int64  \n",
            " 8   ba              351 non-null    int64  \n",
            " 9   bgr             351 non-null    float64\n",
            " 10  bu              351 non-null    float64\n",
            " 11  sc              351 non-null    float64\n",
            " 12  sod             351 non-null    float64\n",
            " 13  pot             351 non-null    float64\n",
            " 14  hemo            351 non-null    float64\n",
            " 15  pcv             351 non-null    float64\n",
            " 16  wc              351 non-null    float64\n",
            " 17  rc              351 non-null    float64\n",
            " 18  htn             351 non-null    int64  \n",
            " 19  dm              351 non-null    int64  \n",
            " 20  cad             351 non-null    int64  \n",
            " 21  appet           351 non-null    int64  \n",
            " 22  pe              351 non-null    int64  \n",
            " 23  ane             351 non-null    int64  \n",
            " 24  classification  351 non-null    int64  \n",
            "dtypes: float64(14), int64(11)\n",
            "memory usage: 71.3 KB\n"
          ]
        }
      ]
    },
    {
      "cell_type": "code",
      "metadata": {
        "colab": {
          "base_uri": "https://localhost:8080/"
        },
        "id": "I4Cj3Ck83qNW",
        "outputId": "dd2f590f-e24c-45a5-9821-7f2343dc9211"
      },
      "source": [
        "dataset.shape"
      ],
      "execution_count": 229,
      "outputs": [
        {
          "output_type": "execute_result",
          "data": {
            "text/plain": [
              "(351, 25)"
            ]
          },
          "metadata": {},
          "execution_count": 229
        }
      ]
    },
    {
      "cell_type": "code",
      "metadata": {
        "colab": {
          "base_uri": "https://localhost:8080/",
          "height": 408
        },
        "id": "T3ER7uY33s9U",
        "outputId": "e8bc1ea8-c399-46e3-ae2e-3cb0effebe36"
      },
      "source": [
        "dataset"
      ],
      "execution_count": 230,
      "outputs": [
        {
          "output_type": "execute_result",
          "data": {
            "text/html": [
              "<div>\n",
              "<style scoped>\n",
              "    .dataframe tbody tr th:only-of-type {\n",
              "        vertical-align: middle;\n",
              "    }\n",
              "\n",
              "    .dataframe tbody tr th {\n",
              "        vertical-align: top;\n",
              "    }\n",
              "\n",
              "    .dataframe thead th {\n",
              "        text-align: right;\n",
              "    }\n",
              "</style>\n",
              "<table border=\"1\" class=\"dataframe\">\n",
              "  <thead>\n",
              "    <tr style=\"text-align: right;\">\n",
              "      <th></th>\n",
              "      <th>id</th>\n",
              "      <th>age</th>\n",
              "      <th>bp</th>\n",
              "      <th>sg</th>\n",
              "      <th>al</th>\n",
              "      <th>su</th>\n",
              "      <th>pc</th>\n",
              "      <th>pcc</th>\n",
              "      <th>ba</th>\n",
              "      <th>bgr</th>\n",
              "      <th>bu</th>\n",
              "      <th>sc</th>\n",
              "      <th>sod</th>\n",
              "      <th>pot</th>\n",
              "      <th>hemo</th>\n",
              "      <th>pcv</th>\n",
              "      <th>wc</th>\n",
              "      <th>rc</th>\n",
              "      <th>htn</th>\n",
              "      <th>dm</th>\n",
              "      <th>cad</th>\n",
              "      <th>appet</th>\n",
              "      <th>pe</th>\n",
              "      <th>ane</th>\n",
              "      <th>classification</th>\n",
              "    </tr>\n",
              "  </thead>\n",
              "  <tbody>\n",
              "    <tr>\n",
              "      <th>0</th>\n",
              "      <td>0</td>\n",
              "      <td>48.0</td>\n",
              "      <td>80.0</td>\n",
              "      <td>1.020</td>\n",
              "      <td>1.0</td>\n",
              "      <td>0.0</td>\n",
              "      <td>1</td>\n",
              "      <td>0</td>\n",
              "      <td>0</td>\n",
              "      <td>121.0</td>\n",
              "      <td>36.0</td>\n",
              "      <td>1.2</td>\n",
              "      <td>138.0</td>\n",
              "      <td>4.6</td>\n",
              "      <td>15.4</td>\n",
              "      <td>44.0</td>\n",
              "      <td>7800.0</td>\n",
              "      <td>5.200000</td>\n",
              "      <td>1</td>\n",
              "      <td>1</td>\n",
              "      <td>0</td>\n",
              "      <td>0</td>\n",
              "      <td>0</td>\n",
              "      <td>0</td>\n",
              "      <td>1</td>\n",
              "    </tr>\n",
              "    <tr>\n",
              "      <th>1</th>\n",
              "      <td>1</td>\n",
              "      <td>7.0</td>\n",
              "      <td>50.0</td>\n",
              "      <td>1.020</td>\n",
              "      <td>4.0</td>\n",
              "      <td>0.0</td>\n",
              "      <td>1</td>\n",
              "      <td>0</td>\n",
              "      <td>0</td>\n",
              "      <td>122.0</td>\n",
              "      <td>18.0</td>\n",
              "      <td>0.8</td>\n",
              "      <td>138.0</td>\n",
              "      <td>4.6</td>\n",
              "      <td>11.3</td>\n",
              "      <td>38.0</td>\n",
              "      <td>6000.0</td>\n",
              "      <td>4.187400</td>\n",
              "      <td>0</td>\n",
              "      <td>0</td>\n",
              "      <td>0</td>\n",
              "      <td>0</td>\n",
              "      <td>0</td>\n",
              "      <td>0</td>\n",
              "      <td>1</td>\n",
              "    </tr>\n",
              "    <tr>\n",
              "      <th>2</th>\n",
              "      <td>2</td>\n",
              "      <td>62.0</td>\n",
              "      <td>80.0</td>\n",
              "      <td>1.010</td>\n",
              "      <td>2.0</td>\n",
              "      <td>3.0</td>\n",
              "      <td>1</td>\n",
              "      <td>0</td>\n",
              "      <td>0</td>\n",
              "      <td>423.0</td>\n",
              "      <td>53.0</td>\n",
              "      <td>1.8</td>\n",
              "      <td>138.0</td>\n",
              "      <td>4.6</td>\n",
              "      <td>9.6</td>\n",
              "      <td>31.0</td>\n",
              "      <td>7500.0</td>\n",
              "      <td>3.702609</td>\n",
              "      <td>0</td>\n",
              "      <td>1</td>\n",
              "      <td>0</td>\n",
              "      <td>1</td>\n",
              "      <td>0</td>\n",
              "      <td>1</td>\n",
              "      <td>1</td>\n",
              "    </tr>\n",
              "    <tr>\n",
              "      <th>3</th>\n",
              "      <td>3</td>\n",
              "      <td>48.0</td>\n",
              "      <td>70.0</td>\n",
              "      <td>1.005</td>\n",
              "      <td>4.0</td>\n",
              "      <td>0.0</td>\n",
              "      <td>0</td>\n",
              "      <td>1</td>\n",
              "      <td>0</td>\n",
              "      <td>117.0</td>\n",
              "      <td>56.0</td>\n",
              "      <td>3.8</td>\n",
              "      <td>111.0</td>\n",
              "      <td>2.5</td>\n",
              "      <td>11.2</td>\n",
              "      <td>32.0</td>\n",
              "      <td>6700.0</td>\n",
              "      <td>3.900000</td>\n",
              "      <td>1</td>\n",
              "      <td>0</td>\n",
              "      <td>0</td>\n",
              "      <td>1</td>\n",
              "      <td>1</td>\n",
              "      <td>1</td>\n",
              "      <td>1</td>\n",
              "    </tr>\n",
              "    <tr>\n",
              "      <th>4</th>\n",
              "      <td>4</td>\n",
              "      <td>51.0</td>\n",
              "      <td>80.0</td>\n",
              "      <td>1.010</td>\n",
              "      <td>2.0</td>\n",
              "      <td>0.0</td>\n",
              "      <td>1</td>\n",
              "      <td>0</td>\n",
              "      <td>0</td>\n",
              "      <td>106.0</td>\n",
              "      <td>26.0</td>\n",
              "      <td>1.4</td>\n",
              "      <td>138.0</td>\n",
              "      <td>4.6</td>\n",
              "      <td>11.6</td>\n",
              "      <td>35.0</td>\n",
              "      <td>7300.0</td>\n",
              "      <td>4.600000</td>\n",
              "      <td>0</td>\n",
              "      <td>0</td>\n",
              "      <td>0</td>\n",
              "      <td>0</td>\n",
              "      <td>0</td>\n",
              "      <td>0</td>\n",
              "      <td>1</td>\n",
              "    </tr>\n",
              "    <tr>\n",
              "      <th>...</th>\n",
              "      <td>...</td>\n",
              "      <td>...</td>\n",
              "      <td>...</td>\n",
              "      <td>...</td>\n",
              "      <td>...</td>\n",
              "      <td>...</td>\n",
              "      <td>...</td>\n",
              "      <td>...</td>\n",
              "      <td>...</td>\n",
              "      <td>...</td>\n",
              "      <td>...</td>\n",
              "      <td>...</td>\n",
              "      <td>...</td>\n",
              "      <td>...</td>\n",
              "      <td>...</td>\n",
              "      <td>...</td>\n",
              "      <td>...</td>\n",
              "      <td>...</td>\n",
              "      <td>...</td>\n",
              "      <td>...</td>\n",
              "      <td>...</td>\n",
              "      <td>...</td>\n",
              "      <td>...</td>\n",
              "      <td>...</td>\n",
              "      <td>...</td>\n",
              "    </tr>\n",
              "    <tr>\n",
              "      <th>395</th>\n",
              "      <td>395</td>\n",
              "      <td>55.0</td>\n",
              "      <td>80.0</td>\n",
              "      <td>1.020</td>\n",
              "      <td>0.0</td>\n",
              "      <td>0.0</td>\n",
              "      <td>1</td>\n",
              "      <td>0</td>\n",
              "      <td>0</td>\n",
              "      <td>140.0</td>\n",
              "      <td>49.0</td>\n",
              "      <td>0.5</td>\n",
              "      <td>150.0</td>\n",
              "      <td>4.9</td>\n",
              "      <td>15.7</td>\n",
              "      <td>47.0</td>\n",
              "      <td>6700.0</td>\n",
              "      <td>4.900000</td>\n",
              "      <td>0</td>\n",
              "      <td>0</td>\n",
              "      <td>0</td>\n",
              "      <td>0</td>\n",
              "      <td>0</td>\n",
              "      <td>0</td>\n",
              "      <td>0</td>\n",
              "    </tr>\n",
              "    <tr>\n",
              "      <th>396</th>\n",
              "      <td>396</td>\n",
              "      <td>42.0</td>\n",
              "      <td>70.0</td>\n",
              "      <td>1.025</td>\n",
              "      <td>0.0</td>\n",
              "      <td>0.0</td>\n",
              "      <td>1</td>\n",
              "      <td>0</td>\n",
              "      <td>0</td>\n",
              "      <td>75.0</td>\n",
              "      <td>31.0</td>\n",
              "      <td>1.2</td>\n",
              "      <td>141.0</td>\n",
              "      <td>3.5</td>\n",
              "      <td>16.5</td>\n",
              "      <td>54.0</td>\n",
              "      <td>7800.0</td>\n",
              "      <td>6.200000</td>\n",
              "      <td>0</td>\n",
              "      <td>0</td>\n",
              "      <td>0</td>\n",
              "      <td>0</td>\n",
              "      <td>0</td>\n",
              "      <td>0</td>\n",
              "      <td>0</td>\n",
              "    </tr>\n",
              "    <tr>\n",
              "      <th>397</th>\n",
              "      <td>397</td>\n",
              "      <td>12.0</td>\n",
              "      <td>80.0</td>\n",
              "      <td>1.020</td>\n",
              "      <td>0.0</td>\n",
              "      <td>0.0</td>\n",
              "      <td>1</td>\n",
              "      <td>0</td>\n",
              "      <td>0</td>\n",
              "      <td>100.0</td>\n",
              "      <td>26.0</td>\n",
              "      <td>0.6</td>\n",
              "      <td>137.0</td>\n",
              "      <td>4.4</td>\n",
              "      <td>15.8</td>\n",
              "      <td>49.0</td>\n",
              "      <td>6600.0</td>\n",
              "      <td>5.400000</td>\n",
              "      <td>0</td>\n",
              "      <td>0</td>\n",
              "      <td>0</td>\n",
              "      <td>0</td>\n",
              "      <td>0</td>\n",
              "      <td>0</td>\n",
              "      <td>0</td>\n",
              "    </tr>\n",
              "    <tr>\n",
              "      <th>398</th>\n",
              "      <td>398</td>\n",
              "      <td>17.0</td>\n",
              "      <td>60.0</td>\n",
              "      <td>1.025</td>\n",
              "      <td>0.0</td>\n",
              "      <td>0.0</td>\n",
              "      <td>1</td>\n",
              "      <td>0</td>\n",
              "      <td>0</td>\n",
              "      <td>114.0</td>\n",
              "      <td>50.0</td>\n",
              "      <td>1.0</td>\n",
              "      <td>135.0</td>\n",
              "      <td>4.9</td>\n",
              "      <td>14.2</td>\n",
              "      <td>51.0</td>\n",
              "      <td>7200.0</td>\n",
              "      <td>5.900000</td>\n",
              "      <td>0</td>\n",
              "      <td>0</td>\n",
              "      <td>0</td>\n",
              "      <td>0</td>\n",
              "      <td>0</td>\n",
              "      <td>0</td>\n",
              "      <td>0</td>\n",
              "    </tr>\n",
              "    <tr>\n",
              "      <th>399</th>\n",
              "      <td>399</td>\n",
              "      <td>58.0</td>\n",
              "      <td>80.0</td>\n",
              "      <td>1.025</td>\n",
              "      <td>0.0</td>\n",
              "      <td>0.0</td>\n",
              "      <td>1</td>\n",
              "      <td>0</td>\n",
              "      <td>0</td>\n",
              "      <td>131.0</td>\n",
              "      <td>18.0</td>\n",
              "      <td>1.1</td>\n",
              "      <td>141.0</td>\n",
              "      <td>3.5</td>\n",
              "      <td>15.8</td>\n",
              "      <td>53.0</td>\n",
              "      <td>6800.0</td>\n",
              "      <td>6.100000</td>\n",
              "      <td>0</td>\n",
              "      <td>0</td>\n",
              "      <td>0</td>\n",
              "      <td>0</td>\n",
              "      <td>0</td>\n",
              "      <td>0</td>\n",
              "      <td>0</td>\n",
              "    </tr>\n",
              "  </tbody>\n",
              "</table>\n",
              "<p>351 rows × 25 columns</p>\n",
              "</div>"
            ],
            "text/plain": [
              "      id   age    bp     sg   al   su  ...  dm  cad  appet  pe  ane  classification\n",
              "0      0  48.0  80.0  1.020  1.0  0.0  ...   1    0      0   0    0               1\n",
              "1      1   7.0  50.0  1.020  4.0  0.0  ...   0    0      0   0    0               1\n",
              "2      2  62.0  80.0  1.010  2.0  3.0  ...   1    0      1   0    1               1\n",
              "3      3  48.0  70.0  1.005  4.0  0.0  ...   0    0      1   1    1               1\n",
              "4      4  51.0  80.0  1.010  2.0  0.0  ...   0    0      0   0    0               1\n",
              "..   ...   ...   ...    ...  ...  ...  ...  ..  ...    ...  ..  ...             ...\n",
              "395  395  55.0  80.0  1.020  0.0  0.0  ...   0    0      0   0    0               0\n",
              "396  396  42.0  70.0  1.025  0.0  0.0  ...   0    0      0   0    0               0\n",
              "397  397  12.0  80.0  1.020  0.0  0.0  ...   0    0      0   0    0               0\n",
              "398  398  17.0  60.0  1.025  0.0  0.0  ...   0    0      0   0    0               0\n",
              "399  399  58.0  80.0  1.025  0.0  0.0  ...   0    0      0   0    0               0\n",
              "\n",
              "[351 rows x 25 columns]"
            ]
          },
          "metadata": {},
          "execution_count": 230
        }
      ]
    },
    {
      "cell_type": "markdown",
      "metadata": {
        "id": "9PY_0JB73xcI"
      },
      "source": [
        "**data sudah siap dilakukan EDA / Exploratory Data Analysis**"
      ]
    },
    {
      "cell_type": "markdown",
      "metadata": {
        "id": "zCUUoof2C_rh"
      },
      "source": [
        "# Exploratory Data Analysis (EDA)"
      ]
    },
    {
      "cell_type": "code",
      "metadata": {
        "id": "WEkUtbfDE9X9"
      },
      "source": [
        "dataset['classification']=dataset['classification'].replace(1 ,'Pengidap PGK')\n",
        "dataset['classification']=dataset['classification'].replace(0, 'Bukan Pengidap PGK')"
      ],
      "execution_count": 231,
      "outputs": []
    },
    {
      "cell_type": "code",
      "metadata": {
        "colab": {
          "base_uri": "https://localhost:8080/",
          "height": 200
        },
        "id": "tlBfd1KfFP8W",
        "outputId": "e0f9db4b-ff00-4d3c-c555-8d88e6f3229c"
      },
      "source": [
        "dataset.head()"
      ],
      "execution_count": 232,
      "outputs": [
        {
          "output_type": "execute_result",
          "data": {
            "text/html": [
              "<div>\n",
              "<style scoped>\n",
              "    .dataframe tbody tr th:only-of-type {\n",
              "        vertical-align: middle;\n",
              "    }\n",
              "\n",
              "    .dataframe tbody tr th {\n",
              "        vertical-align: top;\n",
              "    }\n",
              "\n",
              "    .dataframe thead th {\n",
              "        text-align: right;\n",
              "    }\n",
              "</style>\n",
              "<table border=\"1\" class=\"dataframe\">\n",
              "  <thead>\n",
              "    <tr style=\"text-align: right;\">\n",
              "      <th></th>\n",
              "      <th>id</th>\n",
              "      <th>age</th>\n",
              "      <th>bp</th>\n",
              "      <th>sg</th>\n",
              "      <th>al</th>\n",
              "      <th>su</th>\n",
              "      <th>pc</th>\n",
              "      <th>pcc</th>\n",
              "      <th>ba</th>\n",
              "      <th>bgr</th>\n",
              "      <th>bu</th>\n",
              "      <th>sc</th>\n",
              "      <th>sod</th>\n",
              "      <th>pot</th>\n",
              "      <th>hemo</th>\n",
              "      <th>pcv</th>\n",
              "      <th>wc</th>\n",
              "      <th>rc</th>\n",
              "      <th>htn</th>\n",
              "      <th>dm</th>\n",
              "      <th>cad</th>\n",
              "      <th>appet</th>\n",
              "      <th>pe</th>\n",
              "      <th>ane</th>\n",
              "      <th>classification</th>\n",
              "    </tr>\n",
              "  </thead>\n",
              "  <tbody>\n",
              "    <tr>\n",
              "      <th>0</th>\n",
              "      <td>0</td>\n",
              "      <td>48.0</td>\n",
              "      <td>80.0</td>\n",
              "      <td>1.020</td>\n",
              "      <td>1.0</td>\n",
              "      <td>0.0</td>\n",
              "      <td>1</td>\n",
              "      <td>0</td>\n",
              "      <td>0</td>\n",
              "      <td>121.0</td>\n",
              "      <td>36.0</td>\n",
              "      <td>1.2</td>\n",
              "      <td>138.0</td>\n",
              "      <td>4.6</td>\n",
              "      <td>15.4</td>\n",
              "      <td>44.0</td>\n",
              "      <td>7800.0</td>\n",
              "      <td>5.200000</td>\n",
              "      <td>1</td>\n",
              "      <td>1</td>\n",
              "      <td>0</td>\n",
              "      <td>0</td>\n",
              "      <td>0</td>\n",
              "      <td>0</td>\n",
              "      <td>Pengidap PGK</td>\n",
              "    </tr>\n",
              "    <tr>\n",
              "      <th>1</th>\n",
              "      <td>1</td>\n",
              "      <td>7.0</td>\n",
              "      <td>50.0</td>\n",
              "      <td>1.020</td>\n",
              "      <td>4.0</td>\n",
              "      <td>0.0</td>\n",
              "      <td>1</td>\n",
              "      <td>0</td>\n",
              "      <td>0</td>\n",
              "      <td>122.0</td>\n",
              "      <td>18.0</td>\n",
              "      <td>0.8</td>\n",
              "      <td>138.0</td>\n",
              "      <td>4.6</td>\n",
              "      <td>11.3</td>\n",
              "      <td>38.0</td>\n",
              "      <td>6000.0</td>\n",
              "      <td>4.187400</td>\n",
              "      <td>0</td>\n",
              "      <td>0</td>\n",
              "      <td>0</td>\n",
              "      <td>0</td>\n",
              "      <td>0</td>\n",
              "      <td>0</td>\n",
              "      <td>Pengidap PGK</td>\n",
              "    </tr>\n",
              "    <tr>\n",
              "      <th>2</th>\n",
              "      <td>2</td>\n",
              "      <td>62.0</td>\n",
              "      <td>80.0</td>\n",
              "      <td>1.010</td>\n",
              "      <td>2.0</td>\n",
              "      <td>3.0</td>\n",
              "      <td>1</td>\n",
              "      <td>0</td>\n",
              "      <td>0</td>\n",
              "      <td>423.0</td>\n",
              "      <td>53.0</td>\n",
              "      <td>1.8</td>\n",
              "      <td>138.0</td>\n",
              "      <td>4.6</td>\n",
              "      <td>9.6</td>\n",
              "      <td>31.0</td>\n",
              "      <td>7500.0</td>\n",
              "      <td>3.702609</td>\n",
              "      <td>0</td>\n",
              "      <td>1</td>\n",
              "      <td>0</td>\n",
              "      <td>1</td>\n",
              "      <td>0</td>\n",
              "      <td>1</td>\n",
              "      <td>Pengidap PGK</td>\n",
              "    </tr>\n",
              "    <tr>\n",
              "      <th>3</th>\n",
              "      <td>3</td>\n",
              "      <td>48.0</td>\n",
              "      <td>70.0</td>\n",
              "      <td>1.005</td>\n",
              "      <td>4.0</td>\n",
              "      <td>0.0</td>\n",
              "      <td>0</td>\n",
              "      <td>1</td>\n",
              "      <td>0</td>\n",
              "      <td>117.0</td>\n",
              "      <td>56.0</td>\n",
              "      <td>3.8</td>\n",
              "      <td>111.0</td>\n",
              "      <td>2.5</td>\n",
              "      <td>11.2</td>\n",
              "      <td>32.0</td>\n",
              "      <td>6700.0</td>\n",
              "      <td>3.900000</td>\n",
              "      <td>1</td>\n",
              "      <td>0</td>\n",
              "      <td>0</td>\n",
              "      <td>1</td>\n",
              "      <td>1</td>\n",
              "      <td>1</td>\n",
              "      <td>Pengidap PGK</td>\n",
              "    </tr>\n",
              "    <tr>\n",
              "      <th>4</th>\n",
              "      <td>4</td>\n",
              "      <td>51.0</td>\n",
              "      <td>80.0</td>\n",
              "      <td>1.010</td>\n",
              "      <td>2.0</td>\n",
              "      <td>0.0</td>\n",
              "      <td>1</td>\n",
              "      <td>0</td>\n",
              "      <td>0</td>\n",
              "      <td>106.0</td>\n",
              "      <td>26.0</td>\n",
              "      <td>1.4</td>\n",
              "      <td>138.0</td>\n",
              "      <td>4.6</td>\n",
              "      <td>11.6</td>\n",
              "      <td>35.0</td>\n",
              "      <td>7300.0</td>\n",
              "      <td>4.600000</td>\n",
              "      <td>0</td>\n",
              "      <td>0</td>\n",
              "      <td>0</td>\n",
              "      <td>0</td>\n",
              "      <td>0</td>\n",
              "      <td>0</td>\n",
              "      <td>Pengidap PGK</td>\n",
              "    </tr>\n",
              "  </tbody>\n",
              "</table>\n",
              "</div>"
            ],
            "text/plain": [
              "   id   age    bp     sg   al   su  ...  dm  cad  appet  pe  ane  classification\n",
              "0   0  48.0  80.0  1.020  1.0  0.0  ...   1    0      0   0    0    Pengidap PGK\n",
              "1   1   7.0  50.0  1.020  4.0  0.0  ...   0    0      0   0    0    Pengidap PGK\n",
              "2   2  62.0  80.0  1.010  2.0  3.0  ...   1    0      1   0    1    Pengidap PGK\n",
              "3   3  48.0  70.0  1.005  4.0  0.0  ...   0    0      1   1    1    Pengidap PGK\n",
              "4   4  51.0  80.0  1.010  2.0  0.0  ...   0    0      0   0    0    Pengidap PGK\n",
              "\n",
              "[5 rows x 25 columns]"
            ]
          },
          "metadata": {},
          "execution_count": 232
        }
      ]
    },
    {
      "cell_type": "code",
      "metadata": {
        "id": "VdJPz-drILhL",
        "colab": {
          "base_uri": "https://localhost:8080/",
          "height": 343
        },
        "outputId": "c8d71af6-0187-4448-e783-d8b52d5c8a72"
      },
      "source": [
        "import seaborn as sns\n",
        "import matplotlib.pyplot as plt\n",
        "\n",
        "p = sns.countplot(x=\"classification\", data=dataset)\n",
        "p.set(xlabel=' ', ylabel='Jumlah Penderita', title='Jumlah Penderita PGK dan Non PGK')"
      ],
      "execution_count": 233,
      "outputs": [
        {
          "output_type": "execute_result",
          "data": {
            "text/plain": [
              "[Text(0, 0.5, 'Jumlah Penderita'),\n",
              " Text(0.5, 0, ' '),\n",
              " Text(0.5, 1.0, 'Jumlah Penderita PGK dan Non PGK')]"
            ]
          },
          "metadata": {},
          "execution_count": 233
        },
        {
          "output_type": "display_data",
          "data": {
            "image/png": "[encoded data removed]",
            "text/plain": [
              "<Figure size 432x288 with 1 Axes>"
            ]
          },
          "metadata": {
            "needs_background": "light"
          }
        }
      ]
    },
    {
      "cell_type": "markdown",
      "metadata": {
        "id": "vEFVbB7l5Lrh"
      },
      "source": [
        "Dapat dilihat dari visualisasi, dari dataset 351 data, **persentase data pengidap pgk lebih banyak dari persentase yang bukan pengidap pgk**, ada sekitar 200an data orang yang mengidap PGK"
      ]
    },
    {
      "cell_type": "markdown",
      "metadata": {
        "id": "J3AzZans0CFV"
      },
      "source": [
        "\n",
        "\n",
        "---\n",
        "\n"
      ]
    },
    {
      "cell_type": "markdown",
      "metadata": {
        "id": "4Cvw1uMl0EsI"
      },
      "source": [
        "**Variabel Classification dengan Variabel Numerik**"
      ]
    },
    {
      "cell_type": "code",
      "metadata": {
        "id": "DJM0ru36DFOc",
        "colab": {
          "base_uri": "https://localhost:8080/",
          "height": 401
        },
        "outputId": "24cacb25-06e7-4e2d-ccd6-7c3b856ab8ed"
      },
      "source": [
        "p= sns.catplot(x=\"classification\", y=\"age\", data=dataset)\n",
        "p.set(xlabel=' ', ylabel='Usia', title='Usia Penderita PGK dan Non PGK')"
      ],
      "execution_count": 234,
      "outputs": [
        {
          "output_type": "execute_result",
          "data": {
            "text/plain": [
              "<seaborn.axisgrid.FacetGrid at 0x7fd0164e9ed0>"
            ]
          },
          "metadata": {},
          "execution_count": 234
        },
        {
          "output_type": "display_data",
          "data": {
            "image/png": "[encoded data removed]",
            "text/plain": [
              "<Figure size 360x360 with 1 Axes>"
            ]
          },
          "metadata": {
            "needs_background": "light"
          }
        }
      ]
    },
    {
      "cell_type": "markdown",
      "metadata": {
        "id": "dGopEhQy56Py"
      },
      "source": [
        "Dari visualisasi dapat terlihat, **usia pengidap PGK kebanyakan berada di range usia 40-80 tahun**, yang mana ini mengindikasi variabel age merupakan salah satu faktor penyebab orang terdiagnosis PGK\n",
        "\n",
        "\n",
        "---\n",
        "\n"
      ]
    },
    {
      "cell_type": "code",
      "metadata": {
        "colab": {
          "base_uri": "https://localhost:8080/",
          "height": 401
        },
        "id": "FKSqg7F10LW0",
        "outputId": "9a03be7c-21e6-493a-f724-cb1402e42061"
      },
      "source": [
        "p = sns.catplot(x=\"classification\", y=\"bgr\", data=dataset)\n",
        "p.set(xlabel=' ', ylabel='Kadar Gula Dalam Darah', title='Kadar Gula dalam Darah Penderita PGK dan Non PGK')"
      ],
      "execution_count": 235,
      "outputs": [
        {
          "output_type": "execute_result",
          "data": {
            "text/plain": [
              "<seaborn.axisgrid.FacetGrid at 0x7fd01618b390>"
            ]
          },
          "metadata": {},
          "execution_count": 235
        },
        {
          "output_type": "display_data",
          "data": {
            "image/png": "[encoded data removed]",
            "text/plain": [
              "<Figure size 360x360 with 1 Axes>"
            ]
          },
          "metadata": {
            "needs_background": "light"
          }
        }
      ]
    },
    {
      "cell_type": "markdown",
      "metadata": {
        "id": "XPesr1Vw7ICx"
      },
      "source": [
        "Dari visualisasi dapat terlihat, **kadar glukosa dalam darah pada pengidap PGK bervariasi dan juga ada banyak yang kadar glukosanya melebihi orang yang bukan pengidap PGK**, yang mana ini mengindikasi variabel bgr merupakan salah satu faktor penyebab orang terdiagnosis PGK\n",
        "\n",
        "\n",
        "---\n",
        "\n"
      ]
    },
    {
      "cell_type": "code",
      "metadata": {
        "colab": {
          "base_uri": "https://localhost:8080/",
          "height": 401
        },
        "id": "rdheDxI20OKB",
        "outputId": "7bae9066-5838-48f3-e3f3-b363c5c28f75"
      },
      "source": [
        "p = sns.catplot(x=\"classification\", y=\"bu\", data=dataset)\n",
        "p.set(xlabel=' ', ylabel='Kadar Urea dalam Darah', title='Kadar Urea dalam Darah Penderita PGK dan Non PGK')"
      ],
      "execution_count": 236,
      "outputs": [
        {
          "output_type": "execute_result",
          "data": {
            "text/plain": [
              "<seaborn.axisgrid.FacetGrid at 0x7fd016194550>"
            ]
          },
          "metadata": {},
          "execution_count": 236
        },
        {
          "output_type": "display_data",
          "data": {
            "image/png": "[encoded data removed]",
            "text/plain": [
              "<Figure size 360x360 with 1 Axes>"
            ]
          },
          "metadata": {
            "needs_background": "light"
          }
        }
      ]
    },
    {
      "cell_type": "markdown",
      "metadata": {
        "id": "Qy_qT7Nt8iGs"
      },
      "source": [
        "Dari visualisasi dapat terlihat, **kadar urea dalam darah pada pengidap PGK bervariasi dan juga ada beberapa yang kadar ureanya melebihi orang yang bukan pengidap PGK**, yang mana ini mengindikasi variabel bu merupakan salah satu faktor penyebab orang terdiagnosis PGK\n",
        "\n",
        "\n",
        "---\n",
        "\n"
      ]
    },
    {
      "cell_type": "code",
      "metadata": {
        "colab": {
          "base_uri": "https://localhost:8080/",
          "height": 401
        },
        "id": "selZAX9L0Q1a",
        "outputId": "8bb30984-26ec-4628-e3c0-e494cf4536e0"
      },
      "source": [
        "p = sns.catplot(x=\"classification\", y=\"sc\", data=dataset)\n",
        "p.set(xlabel=' ', ylabel='Kadar Serum Kreatinin', title='Kadar Serum Kreatinin Penderita PGK dan Non PGK')"
      ],
      "execution_count": 237,
      "outputs": [
        {
          "output_type": "execute_result",
          "data": {
            "text/plain": [
              "<seaborn.axisgrid.FacetGrid at 0x7fd0160a5210>"
            ]
          },
          "metadata": {},
          "execution_count": 237
        },
        {
          "output_type": "display_data",
          "data": {
            "image/png": "[encoded data removed]",
            "text/plain": [
              "<Figure size 360x360 with 1 Axes>"
            ]
          },
          "metadata": {
            "needs_background": "light"
          }
        }
      ]
    },
    {
      "cell_type": "markdown",
      "metadata": {
        "id": "YbhDR6AN83p6"
      },
      "source": [
        "Dari visualisasi dapat terlihat, **kadar serum kreatinin pada pengidap PGK bervariasi dan juga ada beberapa yang kadar serum kreatininnya melebihi orang yang bukan pengidap PGK**, yang mana ini mengindikasi variabel sc merupakan salah satu faktor penyebab orang terdiagnosis PGK\n",
        "\n",
        "\n",
        "---\n",
        "\n"
      ]
    },
    {
      "cell_type": "code",
      "metadata": {
        "colab": {
          "base_uri": "https://localhost:8080/",
          "height": 401
        },
        "id": "HqqYN5qa0Trt",
        "outputId": "cfc90864-31ca-4101-eb91-075af8476e27"
      },
      "source": [
        "p = p= sns.catplot(x=\"classification\", y=\"sod\", data=dataset)\n",
        "p.set(xlabel=' ', ylabel='Kadar Sodium', title='Kadar Sodium Penderita PGK dan Non PGK')"
      ],
      "execution_count": 238,
      "outputs": [
        {
          "output_type": "execute_result",
          "data": {
            "text/plain": [
              "<seaborn.axisgrid.FacetGrid at 0x7fd016150a10>"
            ]
          },
          "metadata": {},
          "execution_count": 238
        },
        {
          "output_type": "display_data",
          "data": {
            "image/png": "[encoded data removed]",
            "text/plain": [
              "<Figure size 360x360 with 1 Axes>"
            ]
          },
          "metadata": {
            "needs_background": "light"
          }
        }
      ]
    },
    {
      "cell_type": "markdown",
      "metadata": {
        "id": "kYVEZblv9RsB"
      },
      "source": [
        "Dapat dilihat daru visualisasi, **rata rata kadar sodium penderita PGK relatif lebih rendah dari rata rata kadar sodium yang bukan penderita PGK**, yang mana ini mengdindikasi variabel sod merupakan salah satu faktor penyebab orang terdiagnosis PGK\n",
        "\n",
        "\n",
        "---\n",
        "\n"
      ]
    },
    {
      "cell_type": "code",
      "metadata": {
        "colab": {
          "base_uri": "https://localhost:8080/",
          "height": 401
        },
        "id": "R-OspksK0Y6O",
        "outputId": "c2358066-1088-43e6-8b1d-84a027f62244"
      },
      "source": [
        "p= sns.catplot(x=\"classification\", y=\"hemo\", data=dataset)\n",
        "p.set(xlabel=' ', ylabel='Kadar Hemoglobin', title='Kadar Hemoglobin Penderita PGK dan Non PGK')"
      ],
      "execution_count": 239,
      "outputs": [
        {
          "output_type": "execute_result",
          "data": {
            "text/plain": [
              "<seaborn.axisgrid.FacetGrid at 0x7fd016074250>"
            ]
          },
          "metadata": {},
          "execution_count": 239
        },
        {
          "output_type": "display_data",
          "data": {
            "image/png": "[encoded data removed]",
            "text/plain": [
              "<Figure size 360x360 with 1 Axes>"
            ]
          },
          "metadata": {
            "needs_background": "light"
          }
        }
      ]
    },
    {
      "cell_type": "markdown",
      "metadata": {
        "id": "G5oBUKhU-diU"
      },
      "source": [
        "Dapat dilihat dari visualisasi, **rata rata kadar hemoglobin penderita PGK relatif lebih rendah dari rata rata kadar hemoglobin yang bukan penderita PGK**, yang mana ini mengdindikasi variabel hemo merupakan salah satu faktor penyebab orang terdiagnosis PGK\n",
        "\n",
        "\n",
        "---\n",
        "\n"
      ]
    },
    {
      "cell_type": "code",
      "metadata": {
        "colab": {
          "base_uri": "https://localhost:8080/",
          "height": 401
        },
        "id": "9jqjcgYW0bUX",
        "outputId": "0ab6d2e7-d453-41f3-82bb-79af9779c3d3"
      },
      "source": [
        "p= sns.catplot(x=\"classification\", y=\"wc\", data=dataset)\n",
        "p.set(xlabel=' ', ylabel='Kuantitas Sel Darah Putih', title='Kuantitas Sel Darah Putih Penderita PGK dan Non PGK')"
      ],
      "execution_count": 240,
      "outputs": [
        {
          "output_type": "execute_result",
          "data": {
            "text/plain": [
              "<seaborn.axisgrid.FacetGrid at 0x7fd015f58190>"
            ]
          },
          "metadata": {},
          "execution_count": 240
        },
        {
          "output_type": "display_data",
          "data": {
            "image/png": "[encoded data removed]",
            "text/plain": [
              "<Figure size 360x360 with 1 Axes>"
            ]
          },
          "metadata": {
            "needs_background": "light"
          }
        }
      ]
    },
    {
      "cell_type": "markdown",
      "metadata": {
        "id": "KCvwbjz8_Gwp"
      },
      "source": [
        "Dari visualisasi dapat terlihat, **kuantitas sel darah putih pada pengidap PGK bervariasi dan juga ada beberapa yang kuantitas sel darah putihnya melebihi orang yang bukan pengidap PGK**, yang mana ini mengindikasi variabel wc merupakan salah satu faktor penyebab orang terdiagnosis PGK\n",
        "\n",
        "\n",
        "---\n",
        "\n"
      ]
    },
    {
      "cell_type": "code",
      "metadata": {
        "colab": {
          "base_uri": "https://localhost:8080/",
          "height": 401
        },
        "id": "RvyhKuRr0daC",
        "outputId": "8de36d36-0d72-4392-e0b6-990eeb8ceb0a"
      },
      "source": [
        "p= sns.catplot(x=\"classification\", y=\"rc\", data=dataset)\n",
        "p.set(xlabel=' ', ylabel='Kuantitas Sel Darah Merah', title='Kuantitas Sel Darah Merah Penderita PGK dan Non PGK')"
      ],
      "execution_count": 241,
      "outputs": [
        {
          "output_type": "execute_result",
          "data": {
            "text/plain": [
              "<seaborn.axisgrid.FacetGrid at 0x7fd015ec81d0>"
            ]
          },
          "metadata": {},
          "execution_count": 241
        },
        {
          "output_type": "display_data",
          "data": {
            "image/png": "[encoded data removed]",
            "text/plain": [
              "<Figure size 360x360 with 1 Axes>"
            ]
          },
          "metadata": {
            "needs_background": "light"
          }
        }
      ]
    },
    {
      "cell_type": "markdown",
      "metadata": {
        "id": "pJhRfpAF-xIs"
      },
      "source": [
        "Dapat dilihat daru visualisasi, **rata rata banyaknya sel darah merah penderita PGK relatif lebih rendah dari rata rata banyaknya sel darah merah yang bukan penderita PGK**, yang mana ini mengdindikasi variabel rc merupakan salah satu faktor penyebab orang terdiagnosis PGK"
      ]
    },
    {
      "cell_type": "markdown",
      "metadata": {
        "id": "bPuieuW3z7-v"
      },
      "source": [
        "\n",
        "\n",
        "---\n",
        "\n"
      ]
    },
    {
      "cell_type": "markdown",
      "metadata": {
        "id": "2tqQWTuvz-J7"
      },
      "source": [
        "**Variabel Classification dengan Variabel Kategorik**"
      ]
    },
    {
      "cell_type": "code",
      "metadata": {
        "colab": {
          "base_uri": "https://localhost:8080/",
          "height": 311
        },
        "id": "JsllaEZpw8Ew",
        "outputId": "c002d9fe-55eb-4d69-ae46-23e2f9feee2b"
      },
      "source": [
        "ax = sns.countplot(x=\"classification\", hue=\"bp\", data=dataset)\n",
        "ax.set(xlabel=' ', ylabel='Banyak Orang', title='Tekanan Darah Penderita PGK dan Non PGK')\n",
        "ax.legend(title = \"Tekanan Darah\" , loc = 1)"
      ],
      "execution_count": 242,
      "outputs": [
        {
          "output_type": "execute_result",
          "data": {
            "text/plain": [
              "<matplotlib.legend.Legend at 0x7fd015f66d10>"
            ]
          },
          "metadata": {},
          "execution_count": 242
        },
        {
          "output_type": "display_data",
          "data": {
            "image/png": "[encoded data removed]",
            "text/plain": [
              "<Figure size 432x288 with 1 Axes>"
            ]
          },
          "metadata": {
            "needs_background": "light"
          }
        }
      ]
    },
    {
      "cell_type": "markdown",
      "metadata": {
        "id": "9tqZY1NhAML9"
      },
      "source": [
        "Dari visualisasi dapat terlihat, **tekanan darah pada pengidap PGK bervariasi mulai dari yang rendah-normal-tinggi dibandingkan dengan orang yang bukan pengidap PGK yang semuanya memiliki tekanan darah normal**, yang mana ini mengindikasi variabel bp merupakan salah satu faktor penyebab orang terdiagnosis PGK\n",
        "\n",
        "\n",
        "---\n",
        "\n"
      ]
    },
    {
      "cell_type": "code",
      "metadata": {
        "colab": {
          "base_uri": "https://localhost:8080/",
          "height": 311
        },
        "id": "eaeOSDMIcYmf",
        "outputId": "539b1ae3-6ecc-4d95-e9fe-c6c1f0769d65"
      },
      "source": [
        "bx = sns.countplot(x=\"classification\", hue=\"sg\", data=dataset)\n",
        "bx.set(xlabel=' ', ylabel='Banyak Orang', title='Massa Jenis Urin Penderita PGK dan Non PGK')\n",
        "bx.legend(title = \"Massa Jenis Urin\", loc = 9)"
      ],
      "execution_count": 243,
      "outputs": [
        {
          "output_type": "execute_result",
          "data": {
            "text/plain": [
              "<matplotlib.legend.Legend at 0x7fd015eef090>"
            ]
          },
          "metadata": {},
          "execution_count": 243
        },
        {
          "output_type": "display_data",
          "data": {
            "image/png": "[encoded data removed]",
            "text/plain": [
              "<Figure size 432x288 with 1 Axes>"
            ]
          },
          "metadata": {
            "needs_background": "light"
          }
        }
      ]
    },
    {
      "cell_type": "markdown",
      "metadata": {
        "id": "6AoIoFSyA6q3"
      },
      "source": [
        "Dari visualisasi dapat terlihat, **massa jenis urin pada pengidap PGK bervariasi apabila dibandingkan dengan orang yang bukan pengidap PGK yang semuanya memiliki nilai sg 1.02 atau 1.025**, yang mana ini mengindikasi variabel sg merupakan salah satu faktor penyebab orang terdiagnosis PGK\n",
        "\n",
        "\n",
        "---\n",
        "\n",
        "\n"
      ]
    },
    {
      "cell_type": "code",
      "metadata": {
        "colab": {
          "base_uri": "https://localhost:8080/",
          "height": 311
        },
        "id": "fP3aj07hx69D",
        "outputId": "0d912dcc-a085-494b-c8c9-c92eb4415416"
      },
      "source": [
        "bx = sns.countplot(x=\"classification\", hue=\"al\", data=dataset)\n",
        "bx.set(xlabel=' ', ylabel='Banyak Orang', title='Tingkat Albumin Penderita PGK dan Non PGK')\n",
        "bx.legend(title = \"Tingkat Albumin\", loc = 1)"
      ],
      "execution_count": 244,
      "outputs": [
        {
          "output_type": "execute_result",
          "data": {
            "text/plain": [
              "<matplotlib.legend.Legend at 0x7fd015df8590>"
            ]
          },
          "metadata": {},
          "execution_count": 244
        },
        {
          "output_type": "display_data",
          "data": {
            "image/png": "[encoded data removed]",
            "text/plain": [
              "<Figure size 432x288 with 1 Axes>"
            ]
          },
          "metadata": {
            "needs_background": "light"
          }
        }
      ]
    },
    {
      "cell_type": "markdown",
      "metadata": {
        "id": "vgAKZlJvBhTI"
      },
      "source": [
        "Dari visualisasi dapat terlihat, **tingkat albumin pada pengidap PGK bervariasi apabila dibandingkan dengan orang yang bukan pengidap PGK yang semuanya berada di tingkat 0**, yang mana ini mengindikasi variabel al merupakan salah satu faktor penyebab orang terdiagnosis PGK\n",
        "\n",
        "\n",
        "---\n",
        "\n"
      ]
    },
    {
      "cell_type": "code",
      "metadata": {
        "colab": {
          "base_uri": "https://localhost:8080/",
          "height": 311
        },
        "id": "y4Lh2pEoyAS9",
        "outputId": "59150427-209d-45a0-c50f-dadad4b7ab6f"
      },
      "source": [
        "bx = sns.countplot(x=\"classification\", hue=\"su\", data=dataset)\n",
        "bx.set(xlabel=' ', ylabel='Banyak Orang', title='Tingkat Sugar Urin Penderita PGK dan Non PGK')\n",
        "bx.legend(title = \"Tingkat Sugar\", loc = 1)"
      ],
      "execution_count": 245,
      "outputs": [
        {
          "output_type": "execute_result",
          "data": {
            "text/plain": [
              "<matplotlib.legend.Legend at 0x7fd015cf5610>"
            ]
          },
          "metadata": {},
          "execution_count": 245
        },
        {
          "output_type": "display_data",
          "data": {
            "image/png": "[encoded data removed]",
            "text/plain": [
              "<Figure size 432x288 with 1 Axes>"
            ]
          },
          "metadata": {
            "needs_background": "light"
          }
        }
      ]
    },
    {
      "cell_type": "markdown",
      "metadata": {
        "id": "TJfgFHn8CVtf"
      },
      "source": [
        "Dari visualisasi dapat terlihat, **tingkat sugar pada pengidap PGK bervariasi apabila dibandingkan dengan orang yang bukan pengidap PGK yang semuanya berada di tingkat 0**, yang mana ini mengindikasi variabel su merupakan salah satu faktor penyebab orang terdiagnosis PGK\n",
        "\n",
        "\n",
        "---\n",
        "\n"
      ]
    },
    {
      "cell_type": "code",
      "metadata": {
        "colab": {
          "base_uri": "https://localhost:8080/",
          "height": 311
        },
        "id": "WFnJOQQ9yQ3i",
        "outputId": "a7f06c7b-539d-4aec-e930-30ca1b9360de"
      },
      "source": [
        "bx = sns.countplot(x=\"classification\", hue=\"pc\", data=dataset)\n",
        "bx.set(xlabel=' ', ylabel='Banyak Orang', title='Pus Cells Penderita PGK dan Non PGK')\n",
        "bx.legend(labels=[\"Tidak\",\"Ya\"], title = \"Pus Cells\")"
      ],
      "execution_count": 246,
      "outputs": [
        {
          "output_type": "execute_result",
          "data": {
            "text/plain": [
              "<matplotlib.legend.Legend at 0x7fd015d8bf10>"
            ]
          },
          "metadata": {},
          "execution_count": 246
        },
        {
          "output_type": "display_data",
          "data": {
            "image/png": "[encoded data removed]",
            "text/plain": [
              "<Figure size 432x288 with 1 Axes>"
            ]
          },
          "metadata": {
            "needs_background": "light"
          }
        }
      ]
    },
    {
      "cell_type": "markdown",
      "metadata": {
        "id": "cHDvbwLQEbW6"
      },
      "source": [
        "dari visualisasi dapat terlihat, **jumlah orang yang urinnya bernanah pada penderita PGK lebih banyak dari jumlah orang tidak**, yang mana ini mengindikasi variabel pc merupakan salah satu faktor penyebab orang terdiagnosis PGK\n",
        "\n",
        "\n",
        "---\n",
        "\n"
      ]
    },
    {
      "cell_type": "code",
      "metadata": {
        "colab": {
          "base_uri": "https://localhost:8080/",
          "height": 311
        },
        "id": "PCIg5Iy3yTFD",
        "outputId": "992341cb-c075-4bb9-b3e9-b4efdcd359e2"
      },
      "source": [
        "bx = sns.countplot(x=\"classification\", hue=\"pcc\", data=dataset)\n",
        "bx.set(xlabel=' ', ylabel='Banyak Orang', title='Pus Cells Clumbs Penderita PGK dan Non PGK')\n",
        "bx.legend(labels=[\"Tidak\",\"Ya\"], title = \"Pus Cells Clumbs\", loc = 1)"
      ],
      "execution_count": 247,
      "outputs": [
        {
          "output_type": "execute_result",
          "data": {
            "text/plain": [
              "<matplotlib.legend.Legend at 0x7fd015d68cd0>"
            ]
          },
          "metadata": {},
          "execution_count": 247
        },
        {
          "output_type": "display_data",
          "data": {
            "image/png": "[encoded data removed]",
            "text/plain": [
              "<Figure size 432x288 with 1 Axes>"
            ]
          },
          "metadata": {
            "needs_background": "light"
          }
        }
      ]
    },
    {
      "cell_type": "markdown",
      "metadata": {
        "id": "gNIdrLr2F0Xa"
      },
      "source": [
        "dari visualisasi dapat terlihat, **jumlah orang yang urinnya bernanah dan menggumpal pada penderita PGK lebih sedikit dari jumlah yang tidak, yang berarti dari total orang yang urinnya bernanah hanya sebagian yang nanahnya menggumpal**, yang mana ini mengindikasi variabel pcc merupakan salah satu faktor penyebab orang terdiagnosis PGK\n",
        "\n",
        "\n",
        "---\n",
        "\n"
      ]
    },
    {
      "cell_type": "code",
      "metadata": {
        "colab": {
          "base_uri": "https://localhost:8080/",
          "height": 311
        },
        "id": "OkDgmi4UyUwQ",
        "outputId": "a1c37b08-8eca-4e5a-9c8b-f1081b1a3752"
      },
      "source": [
        "bx = sns.countplot(x=\"classification\", hue=\"ba\", data=dataset)\n",
        "bx.set(xlabel=' ', ylabel='Banyak Orang', title='Bacteria Penderita PGK dan Non PGK')\n",
        "bx.legend(labels=[\"Tidak\",\"Ya\"], title = \"Bacteria\", loc = 1)"
      ],
      "execution_count": 248,
      "outputs": [
        {
          "output_type": "execute_result",
          "data": {
            "text/plain": [
              "<matplotlib.legend.Legend at 0x7fd015c1e9d0>"
            ]
          },
          "metadata": {},
          "execution_count": 248
        },
        {
          "output_type": "display_data",
          "data": {
            "image/png": "[encoded data removed]",
            "text/plain": [
              "<Figure size 432x288 with 1 Axes>"
            ]
          },
          "metadata": {
            "needs_background": "light"
          }
        }
      ]
    },
    {
      "cell_type": "markdown",
      "metadata": {
        "id": "VAMDZ_UeGQxu"
      },
      "source": [
        "dari visualisasi dapat terlihat, **jumlah orang memiliki bacteria pada penderita PGK lebih sedikit dari jumlah yang tidak**, yang mana ini mengindikasi variabel ba merupakan salah satu faktor penyebab orang terdiagnosis PGK\n",
        "\n",
        "\n",
        "---\n",
        "\n"
      ]
    },
    {
      "cell_type": "code",
      "metadata": {
        "colab": {
          "base_uri": "https://localhost:8080/",
          "height": 311
        },
        "id": "8ElDWwDQys8H",
        "outputId": "adf7b115-95e6-4e3a-d76d-59a74c501b5c"
      },
      "source": [
        "bx = sns.countplot(x=\"classification\", hue=\"htn\", data=dataset)\n",
        "bx.set(xlabel=' ', ylabel='Banyak Orang', title='Hipertensi Penderita PGK dan Non PGK')\n",
        "bx.legend(labels=[\"Tidak\",\"Ya\"], title = \"Hipertensi\", loc = 1)"
      ],
      "execution_count": 249,
      "outputs": [
        {
          "output_type": "execute_result",
          "data": {
            "text/plain": [
              "<matplotlib.legend.Legend at 0x7fd015b13410>"
            ]
          },
          "metadata": {},
          "execution_count": 249
        },
        {
          "output_type": "display_data",
          "data": {
            "image/png": "[encoded data removed]",
            "text/plain": [
              "<Figure size 432x288 with 1 Axes>"
            ]
          },
          "metadata": {
            "needs_background": "light"
          }
        }
      ]
    },
    {
      "cell_type": "markdown",
      "metadata": {
        "id": "kRCnpb72G2np"
      },
      "source": [
        "dari visualisasi dapat terlihat, **jumlah orang dengan hipertensi pada penderita PGK lebih banyak dari jumlah yang tidak**, yang mana ini mengindikasi variabel htn merupakan salah satu faktor penyebab orang terdiagnosis PGK\n",
        "\n",
        "\n",
        "---\n",
        "\n"
      ]
    },
    {
      "cell_type": "code",
      "metadata": {
        "colab": {
          "base_uri": "https://localhost:8080/",
          "height": 311
        },
        "id": "bG1K-iHzyss6",
        "outputId": "ba37b2e2-8690-40d2-dde3-0605e722ff00"
      },
      "source": [
        "bx = sns.countplot(x=\"classification\", hue=\"dm\", data=dataset)\n",
        "bx.set(xlabel=' ', ylabel='Banyak Orang', title='Diabetes Mellitus Penderita PGK dan Non PGK')\n",
        "bx.legend(labels=[\"Tidak\",\"Ya\"], title = \"DM\", loc = 1)"
      ],
      "execution_count": 250,
      "outputs": [
        {
          "output_type": "execute_result",
          "data": {
            "text/plain": [
              "<matplotlib.legend.Legend at 0x7fd015a48b10>"
            ]
          },
          "metadata": {},
          "execution_count": 250
        },
        {
          "output_type": "display_data",
          "data": {
            "image/png": "[encoded data removed]",
            "text/plain": [
              "<Figure size 432x288 with 1 Axes>"
            ]
          },
          "metadata": {
            "needs_background": "light"
          }
        }
      ]
    },
    {
      "cell_type": "markdown",
      "metadata": {
        "id": "ffbTyAAwHc-f"
      },
      "source": [
        "dari visualisasi dapat terlihat, **jumlah orang dengan diabetes mellitus pada penderita PGK lebih banyak dari jumlah yang tidak**, yang mana ini mengindikasi variabel dm merupakan salah satu faktor penyebab orang terdiagnosis PGK\n",
        "\n",
        "\n",
        "---\n",
        "\n"
      ]
    },
    {
      "cell_type": "code",
      "metadata": {
        "colab": {
          "base_uri": "https://localhost:8080/",
          "height": 311
        },
        "id": "VdSTO5DHyvy7",
        "outputId": "f86f62a8-d61f-4be2-cc7f-4bc955314952"
      },
      "source": [
        "bx = sns.countplot(x=\"classification\", hue=\"cad\", data=dataset)\n",
        "bx.set(xlabel=' ', ylabel='Banyak Orang', title='Jantung Koroner Penderita PGK dan Non PGK')\n",
        "bx.legend(labels=[\"Tidak\",\"Ya\"], title = \"Jantung Koroner\", loc = 1)"
      ],
      "execution_count": 251,
      "outputs": [
        {
          "output_type": "execute_result",
          "data": {
            "text/plain": [
              "<matplotlib.legend.Legend at 0x7fd0159cf4d0>"
            ]
          },
          "metadata": {},
          "execution_count": 251
        },
        {
          "output_type": "display_data",
          "data": {
            "image/png": "[encoded data removed]",
            "text/plain": [
              "<Figure size 432x288 with 1 Axes>"
            ]
          },
          "metadata": {
            "needs_background": "light"
          }
        }
      ]
    },
    {
      "cell_type": "markdown",
      "metadata": {
        "id": "nBMMs7qaHwvi"
      },
      "source": [
        "dari visualisasi dapat terlihat, **jumlah orang dengan penyakit jantung koroner pada penderita PGK lebih sedikit dari jumlah yang tidak** , yang mana ini mengindikasi variabel cad merupakan salah satu faktor penyebab orang terdiagnosis PGK\n",
        "\n",
        "\n",
        "---\n",
        "\n"
      ]
    },
    {
      "cell_type": "code",
      "metadata": {
        "colab": {
          "base_uri": "https://localhost:8080/",
          "height": 311
        },
        "id": "Iff9JZBcyxoX",
        "outputId": "57aaefd7-2c69-400c-fb79-afd115b3ab6a"
      },
      "source": [
        "bx = sns.countplot(x=\"classification\", hue=\"appet\", data=dataset)\n",
        "bx.set(xlabel=' ', ylabel='Banyak Orang', title='Masalah Appetite Penderita PGK dan Non PGK')\n",
        "bx.legend(labels=[\"Tidak\",\"Ya\"], title = \"Masalah Appetite\", loc = 1)"
      ],
      "execution_count": 252,
      "outputs": [
        {
          "output_type": "execute_result",
          "data": {
            "text/plain": [
              "<matplotlib.legend.Legend at 0x7fd015991610>"
            ]
          },
          "metadata": {},
          "execution_count": 252
        },
        {
          "output_type": "display_data",
          "data": {
            "image/png": "[encoded data removed]",
            "text/plain": [
              "<Figure size 432x288 with 1 Axes>"
            ]
          },
          "metadata": {
            "needs_background": "light"
          }
        }
      ]
    },
    {
      "cell_type": "markdown",
      "metadata": {
        "id": "X7DZai3PITQp"
      },
      "source": [
        "dari visualisasi dapat terlihat, **jumlah orang yang bermasalah dengan nafsu makan pada penderita PGK lebih sedikit dari jumlah yang tidak** , yang mana ini mengindikasi variabel appet merupakan salah satu faktor penyebab orang terdiagnosis PGK\n",
        "\n",
        "\n",
        "---\n",
        "\n"
      ]
    },
    {
      "cell_type": "code",
      "metadata": {
        "colab": {
          "base_uri": "https://localhost:8080/",
          "height": 311
        },
        "id": "IUW7PigLy8ff",
        "outputId": "f38fefe0-febc-4715-c12a-ae6c1dcc72d6"
      },
      "source": [
        "bx = sns.countplot(x=\"classification\", hue=\"pe\", data=dataset)\n",
        "bx.set(xlabel=' ', ylabel='Banyak Orang', title='Kaki Bengkak Penderita PGK dan Non PGK')\n",
        "bx.legend(labels=[\"Tidak\",\"Ya\"], title = \"Kaki Bengkak\", loc = 1)"
      ],
      "execution_count": 253,
      "outputs": [
        {
          "output_type": "execute_result",
          "data": {
            "text/plain": [
              "<matplotlib.legend.Legend at 0x7fd015a2b850>"
            ]
          },
          "metadata": {},
          "execution_count": 253
        },
        {
          "output_type": "display_data",
          "data": {
            "image/png": "[encoded data removed]",
            "text/plain": [
              "<Figure size 432x288 with 1 Axes>"
            ]
          },
          "metadata": {
            "needs_background": "light"
          }
        }
      ]
    },
    {
      "cell_type": "markdown",
      "metadata": {
        "id": "N6wMHIt0IoCb"
      },
      "source": [
        "dari visualisasi dapat terlihat, **jumlah orang dengan kaki bengkak pada penderita PGK lebih sedikit dari jumlah yang tidak** , yang mana ini mengindikasi variabel pe merupakan salah satu faktor penyebab orang terdiagnosis PGK\n",
        "\n",
        "\n",
        "---\n",
        "\n"
      ]
    },
    {
      "cell_type": "code",
      "metadata": {
        "colab": {
          "base_uri": "https://localhost:8080/",
          "height": 311
        },
        "id": "VrvPsIsBy92C",
        "outputId": "963375e8-4872-4c87-c3f7-8f28561f8f42"
      },
      "source": [
        "bx = sns.countplot(x=\"classification\", hue=\"ane\", data=dataset)\n",
        "bx.set(xlabel=' ', ylabel='Banyak Orang', title='Riwayat Anemia Penderita PGK dan Non PGK')\n",
        "bx.legend(labels=[\"Tidak\",\"Ya\"], title = \"Riwayat Anemia\", loc = 1)"
      ],
      "execution_count": 254,
      "outputs": [
        {
          "output_type": "execute_result",
          "data": {
            "text/plain": [
              "<matplotlib.legend.Legend at 0x7fd0159394d0>"
            ]
          },
          "metadata": {},
          "execution_count": 254
        },
        {
          "output_type": "display_data",
          "data": {
            "image/png": "[encoded data removed]",
            "text/plain": [
              "<Figure size 432x288 with 1 Axes>"
            ]
          },
          "metadata": {
            "needs_background": "light"
          }
        }
      ]
    },
    {
      "cell_type": "markdown",
      "metadata": {
        "id": "VdXlO7iPI5ia"
      },
      "source": [
        "dari visualisasi dapat terlihat, **jumlah orang dengan riwayat anemia pada penderita PGK lebih sedikit dari jumlah yang tidak** , yang mana ini mengindikasi variabel ane merupakan salah satu faktor penyebab orang terdiagnosis PGK\n",
        "\n",
        "\n",
        "---\n",
        "\n"
      ]
    },
    {
      "cell_type": "markdown",
      "metadata": {
        "id": "j_0A9H87mDmd"
      },
      "source": [
        "**Variabel Lainnya**"
      ]
    },
    {
      "cell_type": "code",
      "metadata": {
        "colab": {
          "base_uri": "https://localhost:8080/",
          "height": 785
        },
        "id": "gyIaXAykSoTx",
        "outputId": "20fbb559-c2c4-4463-eddf-2073561857e7"
      },
      "source": [
        "pgk_arr = dataset[\"classification\"].unique()\n",
        "for pgk in pgk_arr:\n",
        "    mask = dataset[\"classification\"] == pgk\n",
        "    plt.figure(figsize=(20, 5))\n",
        "    sns.catplot(x = \"ane\", y = \"hemo\", data = dataset)\n",
        "    plt.title(\"Anemia VS Hemoglobin Pada {}\".format(pgk))\n",
        "    plt.xlabel(\"Data Pengidap Anemia (0=tidak, 1=ya)\")\n",
        "    plt.ylabel(\"Kadar Hemoglobin\")\n",
        "    plt.show()"
      ],
      "execution_count": 255,
      "outputs": [
        {
          "output_type": "display_data",
          "data": {
            "text/plain": [
              "<Figure size 1440x360 with 0 Axes>"
            ]
          },
          "metadata": {}
        },
        {
          "output_type": "display_data",
          "data": {
            "image/png": "[encoded data removed]",
            "text/plain": [
              "<Figure size 360x360 with 1 Axes>"
            ]
          },
          "metadata": {
            "needs_background": "light"
          }
        },
        {
          "output_type": "display_data",
          "data": {
            "text/plain": [
              "<Figure size 1440x360 with 0 Axes>"
            ]
          },
          "metadata": {}
        },
        {
          "output_type": "display_data",
          "data": {
            "image/png": "[encoded data removed]",
            "text/plain": [
              "<Figure size 360x360 with 1 Axes>"
            ]
          },
          "metadata": {
            "needs_background": "light"
          }
        }
      ]
    },
    {
      "cell_type": "markdown",
      "metadata": {
        "id": "1jDY30BKjF5b"
      },
      "source": [
        "Dapat dilihat dari visualisasi, **orang dengan anemia memiliki rata rata kadar hemoglobin yang relatif lebih rendah dibanding dengan yang tidak anemia, dan berlaku pada penderita PGK maupun non-PGK**"
      ]
    },
    {
      "cell_type": "markdown",
      "metadata": {
        "id": "8oDAPSKbnTjw"
      },
      "source": [
        "\n",
        "\n",
        "---\n",
        "\n"
      ]
    },
    {
      "cell_type": "code",
      "metadata": {
        "colab": {
          "base_uri": "https://localhost:8080/",
          "height": 785
        },
        "id": "tqAgN3O8UMVx",
        "outputId": "7e874e5e-07bd-41ff-92a2-8fb0b01d818f"
      },
      "source": [
        "pgk_arr = dataset[\"classification\"].unique()\n",
        "for pgk in pgk_arr:\n",
        "    mask = dataset[\"classification\"] == pgk\n",
        "    plt.figure(figsize=(20, 5))\n",
        "    sns.catplot(x = \"dm\", y = \"bgr\", data = dataset)\n",
        "    plt.title(\"Diabetes Mellitus VS Gula Dalam Darah Pada {}\".format(pgk))\n",
        "    plt.xlabel(\"Data Pengidap Diabetes Melitus (0=tidak, 1=ya)\")\n",
        "    plt.ylabel(\"Kadar Gula Dalam Darah\")\n",
        "    plt.show()"
      ],
      "execution_count": 256,
      "outputs": [
        {
          "output_type": "display_data",
          "data": {
            "text/plain": [
              "<Figure size 1440x360 with 0 Axes>"
            ]
          },
          "metadata": {}
        },
        {
          "output_type": "display_data",
          "data": {
            "image/png": "[encoded data removed]",
            "text/plain": [
              "<Figure size 360x360 with 1 Axes>"
            ]
          },
          "metadata": {
            "needs_background": "light"
          }
        },
        {
          "output_type": "display_data",
          "data": {
            "text/plain": [
              "<Figure size 1440x360 with 0 Axes>"
            ]
          },
          "metadata": {}
        },
        {
          "output_type": "display_data",
          "data": {
            "image/png": "[encoded data removed]",
            "text/plain": [
              "<Figure size 360x360 with 1 Axes>"
            ]
          },
          "metadata": {
            "needs_background": "light"
          }
        }
      ]
    },
    {
      "cell_type": "markdown",
      "metadata": {
        "id": "rf4RJt2EkGaf"
      },
      "source": [
        "Dapat dilihat dari visualisasi, **orang dengan DM memiliki kadar Gula yang bervariasi yang relatif lebih tinggi dibanding dengan yang tidak DM, dan berlaku pada penderita PGK maupun non-PGK**"
      ]
    },
    {
      "cell_type": "markdown",
      "metadata": {
        "id": "-ltWFZjLnRuD"
      },
      "source": [
        "\n",
        "\n",
        "---\n",
        "\n"
      ]
    },
    {
      "cell_type": "code",
      "metadata": {
        "colab": {
          "base_uri": "https://localhost:8080/",
          "height": 785
        },
        "id": "UNQ7tk4-P7pG",
        "outputId": "9ed9d6fe-5545-4ca3-8676-c62f182d8b8e"
      },
      "source": [
        "pgk_arr = dataset[\"classification\"].unique()\n",
        "for pgk in pgk_arr:\n",
        "    mask = dataset[\"classification\"] == pgk\n",
        "    plt.figure(figsize=(20, 5))\n",
        "    sns.catplot(x = \"htn\", y = \"sod\", data = dataset)\n",
        "    plt.title(\"Hipertensi VS Sodium Pada {}\".format(pgk))\n",
        "    plt.xlabel(\"Data Pengidap Hipertensi (0=tidak, 1=ya)\")\n",
        "    plt.ylabel(\"Sodium Dalam Darah\")\n",
        "    plt.show()"
      ],
      "execution_count": 257,
      "outputs": [
        {
          "output_type": "display_data",
          "data": {
            "text/plain": [
              "<Figure size 1440x360 with 0 Axes>"
            ]
          },
          "metadata": {}
        },
        {
          "output_type": "display_data",
          "data": {
            "image/png": "[encoded data removed]",
            "text/plain": [
              "<Figure size 360x360 with 1 Axes>"
            ]
          },
          "metadata": {
            "needs_background": "light"
          }
        },
        {
          "output_type": "display_data",
          "data": {
            "text/plain": [
              "<Figure size 1440x360 with 0 Axes>"
            ]
          },
          "metadata": {}
        },
        {
          "output_type": "display_data",
          "data": {
            "image/png": "[encoded data removed]",
            "text/plain": [
              "<Figure size 360x360 with 1 Axes>"
            ]
          },
          "metadata": {
            "needs_background": "light"
          }
        }
      ]
    },
    {
      "cell_type": "markdown",
      "metadata": {
        "id": "_d_H9Xr1kjsB"
      },
      "source": [
        "Dapat dilihat dari visualisasi, **orang dengan Hipertensi memiliki rata rata kadar sodium yang relatif lebih rendah dibanding dengan yang tidak Hipertensi, dan berlaku pada penderita PGK maupun non-PGK**"
      ]
    },
    {
      "cell_type": "markdown",
      "metadata": {
        "id": "R7Rz6aN0nPPc"
      },
      "source": [
        "\n",
        "\n",
        "---\n",
        "\n"
      ]
    },
    {
      "cell_type": "code",
      "metadata": {
        "colab": {
          "base_uri": "https://localhost:8080/",
          "height": 311
        },
        "id": "qoYhScOwRkHH",
        "outputId": "fd7f79e7-e5b7-4eb4-ef7a-c1b85ee45e3d"
      },
      "source": [
        "p = sns.countplot(x = \"htn\", hue = \"bp\", data = dataset)\n",
        "p.set(xlabel='Hipertensi (0=tidak, 1=ya)', ylabel='Banyak Orang', title='Jumlah Pengidap Hipertensi berdasarkan TEkanan Darah')\n",
        "p.legend(title = \"Tekanan Darah\", loc = 1)"
      ],
      "execution_count": 258,
      "outputs": [
        {
          "output_type": "execute_result",
          "data": {
            "text/plain": [
              "<matplotlib.legend.Legend at 0x7fd0162dcd10>"
            ]
          },
          "metadata": {},
          "execution_count": 258
        },
        {
          "output_type": "display_data",
          "data": {
            "image/png": "[encoded data removed]",
            "text/plain": [
              "<Figure size 432x288 with 1 Axes>"
            ]
          },
          "metadata": {
            "needs_background": "light"
          }
        }
      ]
    },
    {
      "cell_type": "markdown",
      "metadata": {
        "id": "gaX-JHfFld9v"
      },
      "source": [
        "Dari visualisasi dapat terlihat, **Orang yang tidak Hipertensi Kebanyakan memiliki Tekanan Darah Normal (60-90), dibanding dengan orang dengan hipertensi yang tekanan darahnya bervariasi dari rendah-normal-tinggi**"
      ]
    },
    {
      "cell_type": "markdown",
      "metadata": {
        "id": "ElX3ZrIwnM8N"
      },
      "source": [
        "\n",
        "\n",
        "---\n",
        "\n"
      ]
    },
    {
      "cell_type": "markdown",
      "metadata": {
        "id": "sSCX1gaR6J21"
      },
      "source": [
        "# Seleksi Fitur"
      ]
    },
    {
      "cell_type": "markdown",
      "metadata": {
        "id": "0dwfwW_LBx9n"
      },
      "source": [
        "karena fitur yang dimodelkan ada 25, akan dilakukan seleksi fitur"
      ]
    },
    {
      "cell_type": "code",
      "metadata": {
        "id": "mLvNafqiJYru"
      },
      "source": [
        "dataset['classification']=dataset['classification'].replace('Pengidap PGK', 1)\n",
        "dataset['classification']=dataset['classification'].replace('Bukan Pengidap PGK', 0)"
      ],
      "execution_count": 259,
      "outputs": []
    },
    {
      "cell_type": "code",
      "metadata": {
        "id": "UY8CPmcP86mG"
      },
      "source": [
        "#Inisialisasi variabel\n",
        "Y = dataset.classification\n",
        "X = dataset.drop(columns = ['classification'], axis = 1)"
      ],
      "execution_count": 260,
      "outputs": []
    },
    {
      "cell_type": "code",
      "metadata": {
        "id": "dQin_4lB9I0C"
      },
      "source": [
        "def processSubset(feature_set):\n",
        "    model = sm.OLS(Y,X[list(feature_set)])\n",
        "    regr = model.fit()\n",
        "    RSS = ((regr.predict(X[list(feature_set)]) - Y) ** 2).sum()\n",
        "    MSE = RSS / (X.shape[0]-2)\n",
        "    Cp = (1/X.shape[0]) * (RSS + 2 * len(feature_set) * MSE)\n",
        "    return {\"model\":regr, \"Cp\":Cp}"
      ],
      "execution_count": 261,
      "outputs": []
    },
    {
      "cell_type": "markdown",
      "metadata": {
        "id": "7CdEnioZ9Ve0"
      },
      "source": [
        "\n",
        "\n",
        "---\n",
        "\n"
      ]
    },
    {
      "cell_type": "markdown",
      "metadata": {
        "id": "9Djm7Hxp9R3B"
      },
      "source": [
        "**Running Time**"
      ]
    },
    {
      "cell_type": "code",
      "metadata": {
        "id": "onglh1fy9YBK"
      },
      "source": [
        "def backward(predictors):\n",
        "    \n",
        "    t_a = time.time()\n",
        "    hasil = []\n",
        "    for col in itertools.combinations(predictors, len(predictors)-1):\n",
        "        hasil.append(processSubset(col))\n",
        "    models = pd.DataFrame(hasil)\n",
        "    # Pilih model dengan nilai Cp paling kecil\n",
        "    best_model = models.loc[models['Cp'].argmin()]\n",
        "    t_b = time.time()\n",
        "    print(\"Memproses \", models.shape[0], \"model dengan\", len(predictors)-1, \"predictors dalam\", (t_b-t_a), \"detik.\")\n",
        "    return best_model"
      ],
      "execution_count": 262,
      "outputs": []
    },
    {
      "cell_type": "code",
      "metadata": {
        "colab": {
          "base_uri": "https://localhost:8080/"
        },
        "id": "ZGo4M2UH9lEQ",
        "outputId": "38a19440-3615-41c7-be7e-753a54a30210"
      },
      "source": [
        "model_bwd = pd.DataFrame(columns=[\"Cp\", \"model\"], index = range(1,len(X.columns)))\n",
        "\n",
        "t_a = time.time()\n",
        "predictors = X.columns\n",
        "\n",
        "while(len(predictors) > 1):  \n",
        "    model_bwd.loc[len(predictors)-1] = backward(predictors)[0]\n",
        "    predictors = model_bwd.loc[len(predictors)-1][\"model\"].model.exog_names\n",
        "    \n",
        "t_b = time.time()\n",
        "print(\"\\nTotal waktu yang dibutuhkan:\", (t_b-t_a), \"detik.\")"
      ],
      "execution_count": 263,
      "outputs": [
        {
          "output_type": "stream",
          "name": "stdout",
          "text": [
            "Memproses  24 model dengan 23 predictors dalam 0.12901973724365234 detik.\n",
            "Memproses  23 model dengan 22 predictors dalam 0.08704638481140137 detik.\n",
            "Memproses  22 model dengan 21 predictors dalam 0.10088729858398438 detik.\n",
            "Memproses  21 model dengan 20 predictors dalam 0.08657050132751465 detik.\n",
            "Memproses  20 model dengan 19 predictors dalam 0.07430410385131836 detik.\n",
            "Memproses  19 model dengan 18 predictors dalam 0.0883786678314209 detik.\n",
            "Memproses  18 model dengan 17 predictors dalam 0.07143115997314453 detik.\n",
            "Memproses  17 model dengan 16 predictors dalam 0.06221580505371094 detik.\n",
            "Memproses  16 model dengan 15 predictors dalam 0.05542254447937012 detik.\n",
            "Memproses  15 model dengan 14 predictors dalam 0.04020977020263672 detik.\n",
            "Memproses  14 model dengan 13 predictors dalam 0.04064750671386719 detik.\n",
            "Memproses  13 model dengan 12 predictors dalam 0.04764246940612793 detik.\n",
            "Memproses  12 model dengan 11 predictors dalam 0.038268089294433594 detik.\n",
            "Memproses  11 model dengan 10 predictors dalam 0.03476905822753906 detik.\n",
            "Memproses  10 model dengan 9 predictors dalam 0.032526493072509766 detik.\n",
            "Memproses  9 model dengan 8 predictors dalam 0.03825235366821289 detik.\n",
            "Memproses  8 model dengan 7 predictors dalam 0.025504589080810547 detik.\n",
            "Memproses  7 model dengan 6 predictors dalam 0.022594690322875977 detik.\n",
            "Memproses  6 model dengan 5 predictors dalam 0.019254207611083984 detik.\n",
            "Memproses  5 model dengan 4 predictors dalam 0.012015342712402344 detik.\n",
            "Memproses  4 model dengan 3 predictors dalam 0.009794473648071289 detik.\n",
            "Memproses  3 model dengan 2 predictors dalam 0.009720802307128906 detik.\n",
            "Memproses  2 model dengan 1 predictors dalam 0.0064470767974853516 detik.\n",
            "\n",
            "Total waktu yang dibutuhkan: 1.1913564205169678 detik.\n"
          ]
        }
      ]
    },
    {
      "cell_type": "markdown",
      "metadata": {
        "id": "tvW47Cat91m0"
      },
      "source": [
        "\n",
        "\n",
        "---\n",
        "\n"
      ]
    },
    {
      "cell_type": "markdown",
      "metadata": {
        "id": "Gizbf434922K"
      },
      "source": [
        "**Pemilihan Model**"
      ]
    },
    {
      "cell_type": "code",
      "metadata": {
        "id": "a-85OeFI-Z_m"
      },
      "source": [
        "def backward(predictors):\n",
        "\n",
        "    hasil = []\n",
        "    for col in itertools.combinations(predictors, len(predictors)-1):\n",
        "        hasil.append(processSubset(col))\n",
        "    models = pd.DataFrame(hasil)\n",
        "    # Pilih model dengan nilai Cp paling kecil\n",
        "    best_model = models.loc[models['Cp'].argmin()]\n",
        "    return best_model"
      ],
      "execution_count": 264,
      "outputs": []
    },
    {
      "cell_type": "code",
      "metadata": {
        "colab": {
          "base_uri": "https://localhost:8080/"
        },
        "id": "qQRn6gne-jR8",
        "outputId": "57f35b82-5e92-436a-9dee-c0cc300c6d10"
      },
      "source": [
        "model_bwd = pd.DataFrame(columns=[\"Cp\", \"model\"], index = range(1,len(X.columns)))\n",
        " \n",
        "predictors = X.columns\n",
        "while(len(predictors) > 1):  \n",
        "    model_bwd.loc[len(predictors)-1] = backward(predictors)\n",
        "    predictors = model_bwd.loc[len(predictors)-1][\"model\"].model.exog_names \n",
        " \n",
        "    print('\\nModel yang dipilih dengan {} variabel:'.format(len(predictors)))\n",
        "    print(pd.DataFrame({'variable': predictors, 'Koefisien': list(model_bwd.loc[len(predictors), \"model\"].params)}))"
      ],
      "execution_count": 265,
      "outputs": [
        {
          "output_type": "stream",
          "name": "stdout",
          "text": [
            "\n",
            "Model yang dipilih dengan 23 variabel:\n",
            "   variable  Koefisien\n",
            "0        id  -0.002226\n",
            "1       age   0.000287\n",
            "2        bp   0.002022\n",
            "3        sg   1.741243\n",
            "4        al   0.042628\n",
            "5        su   0.002977\n",
            "6        pc   0.027620\n",
            "7       pcc  -0.020335\n",
            "8        ba   0.062352\n",
            "9       bgr   0.000552\n",
            "10       bu  -0.000575\n",
            "11       sc   0.006019\n",
            "12      sod  -0.001437\n",
            "13      pot  -0.003122\n",
            "14     hemo  -0.038698\n",
            "15      pcv  -0.003377\n",
            "16       wc  -0.000007\n",
            "17       rc  -0.033279\n",
            "18      htn   0.007495\n",
            "19       dm   0.069054\n",
            "20      cad  -0.090432\n",
            "21       pe   0.022608\n",
            "22      ane  -0.077066\n",
            "\n",
            "Model yang dipilih dengan 22 variabel:\n",
            "   variable  Koefisien\n",
            "0        id  -0.002227\n",
            "1       age   0.000285\n",
            "2        bp   0.002045\n",
            "3        sg   1.729240\n",
            "4        al   0.042674\n",
            "5        pc   0.028546\n",
            "6       pcc  -0.020160\n",
            "7        ba   0.063080\n",
            "8       bgr   0.000580\n",
            "9        bu  -0.000587\n",
            "10       sc   0.006225\n",
            "11      sod  -0.001405\n",
            "12      pot  -0.002975\n",
            "13     hemo  -0.038654\n",
            "14      pcv  -0.003355\n",
            "15       wc  -0.000007\n",
            "16       rc  -0.033285\n",
            "17      htn   0.007025\n",
            "18       dm   0.070407\n",
            "19      cad  -0.089382\n",
            "20       pe   0.022943\n",
            "21      ane  -0.076968\n",
            "\n",
            "Model yang dipilih dengan 21 variabel:\n",
            "   variable  Koefisien\n",
            "0        id  -0.002229\n",
            "1       age   0.000322\n",
            "2        bp   0.002064\n",
            "3        sg   1.736562\n",
            "4        al   0.043096\n",
            "5        pc   0.028577\n",
            "6       pcc  -0.020741\n",
            "7        ba   0.062026\n",
            "8       bgr   0.000581\n",
            "9        bu  -0.000587\n",
            "10       sc   0.006154\n",
            "11      sod  -0.001450\n",
            "12      pot  -0.002966\n",
            "13     hemo  -0.038716\n",
            "14      pcv  -0.003389\n",
            "15       wc  -0.000007\n",
            "16       rc  -0.033566\n",
            "17       dm   0.072401\n",
            "18      cad  -0.088563\n",
            "19       pe   0.023545\n",
            "20      ane  -0.076139\n",
            "\n",
            "Model yang dipilih dengan 20 variabel:\n",
            "   variable  Koefisien\n",
            "0        id  -0.002230\n",
            "1        bp   0.002116\n",
            "2        sg   1.744501\n",
            "3        al   0.042575\n",
            "4        pc   0.029241\n",
            "5       pcc  -0.018328\n",
            "6        ba   0.061820\n",
            "7       bgr   0.000588\n",
            "8        bu  -0.000571\n",
            "9        sc   0.006162\n",
            "10      sod  -0.001433\n",
            "11      pot  -0.002976\n",
            "12     hemo  -0.038491\n",
            "13      pcv  -0.003429\n",
            "14       wc  -0.000007\n",
            "15       rc  -0.034016\n",
            "16       dm   0.074859\n",
            "17      cad  -0.086279\n",
            "18       pe   0.023622\n",
            "19      ane  -0.077506\n",
            "\n",
            "Model yang dipilih dengan 19 variabel:\n",
            "   variable  Koefisien\n",
            "0        id  -0.002227\n",
            "1        bp   0.002137\n",
            "2        sg   1.732912\n",
            "3        al   0.041873\n",
            "4        pc   0.035702\n",
            "5        ba   0.060618\n",
            "6       bgr   0.000585\n",
            "7        bu  -0.000581\n",
            "8        sc   0.006358\n",
            "9       sod  -0.001416\n",
            "10      pot  -0.002817\n",
            "11     hemo  -0.038599\n",
            "12      pcv  -0.003420\n",
            "13       wc  -0.000007\n",
            "14       rc  -0.033690\n",
            "15       dm   0.074565\n",
            "16      cad  -0.087730\n",
            "17       pe   0.026282\n",
            "18      ane  -0.078341\n",
            "\n",
            "Model yang dipilih dengan 18 variabel:\n",
            "   variable  Koefisien\n",
            "0        id  -0.002223\n",
            "1        bp   0.002140\n",
            "2        sg   1.770882\n",
            "3        al   0.041595\n",
            "4        pc   0.037431\n",
            "5        ba   0.062720\n",
            "6       bgr   0.000581\n",
            "7        bu  -0.000640\n",
            "8        sc   0.005960\n",
            "9       sod  -0.001756\n",
            "10     hemo  -0.039171\n",
            "11      pcv  -0.003345\n",
            "12       wc  -0.000007\n",
            "13       rc  -0.033541\n",
            "14       dm   0.074807\n",
            "15      cad  -0.085819\n",
            "16       pe   0.027795\n",
            "17      ane  -0.078135\n",
            "\n",
            "Model yang dipilih dengan 17 variabel:\n",
            "   variable  Koefisien\n",
            "0        id  -0.002218\n",
            "1        bp   0.002111\n",
            "2        sg   1.789938\n",
            "3        al   0.043785\n",
            "4        pc   0.032654\n",
            "5        ba   0.060758\n",
            "6       bgr   0.000563\n",
            "7        bu  -0.000627\n",
            "8        sc   0.006234\n",
            "9       sod  -0.001785\n",
            "10     hemo  -0.039110\n",
            "11      pcv  -0.003415\n",
            "12       wc  -0.000007\n",
            "13       rc  -0.034536\n",
            "14       dm   0.079661\n",
            "15      cad  -0.087662\n",
            "16      ane  -0.079178\n",
            "\n",
            "Model yang dipilih dengan 16 variabel:\n",
            "   variable  Koefisien\n",
            "0        id  -0.002222\n",
            "1        bp   0.002042\n",
            "2        sg   1.561765\n",
            "3        al   0.044941\n",
            "4        pc   0.032219\n",
            "5        ba   0.060773\n",
            "6       bgr   0.000562\n",
            "7        bu  -0.000653\n",
            "8        sc   0.006784\n",
            "9      hemo  -0.039152\n",
            "10      pcv  -0.003680\n",
            "11       wc  -0.000007\n",
            "12       rc  -0.034392\n",
            "13       dm   0.081772\n",
            "14      cad  -0.086724\n",
            "15      ane  -0.075337\n",
            "\n",
            "Model yang dipilih dengan 15 variabel:\n",
            "   variable  Koefisien\n",
            "0        id  -0.002216\n",
            "1        bp   0.002015\n",
            "2        sg   1.584503\n",
            "3        al   0.042497\n",
            "4        ba   0.051723\n",
            "5       bgr   0.000539\n",
            "6        bu  -0.000707\n",
            "7        sc   0.006962\n",
            "8      hemo  -0.038957\n",
            "9       pcv  -0.003563\n",
            "10       wc  -0.000007\n",
            "11       rc  -0.033505\n",
            "12       dm   0.084346\n",
            "13      cad  -0.086368\n",
            "14      ane  -0.077751\n",
            "\n",
            "Model yang dipilih dengan 14 variabel:\n",
            "   variable  Koefisien\n",
            "0        id  -0.002203\n",
            "1        bp   0.002109\n",
            "2        sg   1.583249\n",
            "3        al   0.046034\n",
            "4       bgr   0.000535\n",
            "5        bu  -0.000684\n",
            "6        sc   0.006627\n",
            "7      hemo  -0.039379\n",
            "8       pcv  -0.003593\n",
            "9        wc  -0.000007\n",
            "10       rc  -0.033984\n",
            "11       dm   0.082365\n",
            "12      cad  -0.081661\n",
            "13      ane  -0.081597\n",
            "\n",
            "Model yang dipilih dengan 13 variabel:\n",
            "   variable  Koefisien\n",
            "0        id  -0.002216\n",
            "1        bp   0.002210\n",
            "2        sg   1.550772\n",
            "3        al   0.046377\n",
            "4       bgr   0.000532\n",
            "5        bu  -0.000666\n",
            "6        sc   0.006822\n",
            "7      hemo  -0.046068\n",
            "8        wc  -0.000006\n",
            "9        rc  -0.040525\n",
            "10       dm   0.084732\n",
            "11      cad  -0.079073\n",
            "12      ane  -0.078474\n",
            "\n",
            "Model yang dipilih dengan 12 variabel:\n",
            "   variable  Koefisien\n",
            "0        id  -0.002232\n",
            "1        bp   0.002275\n",
            "2        sg   1.550882\n",
            "3        al   0.046424\n",
            "4       bgr   0.000530\n",
            "5        bu  -0.000275\n",
            "6      hemo  -0.046057\n",
            "7        wc  -0.000007\n",
            "8        rc  -0.041012\n",
            "9        dm   0.084396\n",
            "10      cad  -0.083347\n",
            "11      ane  -0.077273\n",
            "\n",
            "Model yang dipilih dengan 11 variabel:\n",
            "   variable  Koefisien\n",
            "0        id  -0.002251\n",
            "1        bp   0.002249\n",
            "2        sg   1.521754\n",
            "3        al   0.044344\n",
            "4       bgr   0.000545\n",
            "5      hemo  -0.044780\n",
            "6        wc  -0.000007\n",
            "7        rc  -0.039515\n",
            "8        dm   0.080070\n",
            "9       cad  -0.087016\n",
            "10      ane  -0.085577\n",
            "\n",
            "Model yang dipilih dengan 10 variabel:\n",
            "  variable  Koefisien\n",
            "0       id  -0.002281\n",
            "1       bp   0.002174\n",
            "2       sg   1.462883\n",
            "3       al   0.044538\n",
            "4      bgr   0.000532\n",
            "5     hemo  -0.053522\n",
            "6       wc  -0.000007\n",
            "7       dm   0.086270\n",
            "8      cad  -0.077194\n",
            "9      ane  -0.075677\n",
            "\n",
            "Model yang dipilih dengan 9 variabel:\n",
            "  variable  Koefisien\n",
            "0       id  -0.002286\n",
            "1       bp   0.002178\n",
            "2       sg   1.447112\n",
            "3       al   0.043043\n",
            "4      bgr   0.000478\n",
            "5     hemo  -0.051883\n",
            "6       wc  -0.000007\n",
            "7       dm   0.084450\n",
            "8      ane  -0.070615\n",
            "\n",
            "Model yang dipilih dengan 8 variabel:\n",
            "  variable  Koefisien\n",
            "0       id  -0.002294\n",
            "1       bp   0.002042\n",
            "2       sg   1.386433\n",
            "3       al   0.042453\n",
            "4      bgr   0.000464\n",
            "5     hemo  -0.046616\n",
            "6       wc  -0.000008\n",
            "7       dm   0.092652\n",
            "\n",
            "Model yang dipilih dengan 7 variabel:\n",
            "  variable  Koefisien\n",
            "0       id  -0.002323\n",
            "1       sg   1.561532\n",
            "2       al   0.041938\n",
            "3      bgr   0.000478\n",
            "4     hemo  -0.048147\n",
            "5       wc  -0.000008\n",
            "6       dm   0.098164\n",
            "\n",
            "Model yang dipilih dengan 6 variabel:\n",
            "  variable  Koefisien\n",
            "0       id  -0.002345\n",
            "1       sg   1.609251\n",
            "2       al   0.045765\n",
            "3     hemo  -0.047274\n",
            "4       wc  -0.000008\n",
            "5       dm   0.139143\n",
            "\n",
            "Model yang dipilih dengan 5 variabel:\n",
            "  variable  Koefisien\n",
            "0       id  -0.002417\n",
            "1       sg   1.587429\n",
            "2       al   0.042999\n",
            "3     hemo  -0.047888\n",
            "4       dm   0.124655\n",
            "\n",
            "Model yang dipilih dengan 4 variabel:\n",
            "  variable  Koefisien\n",
            "0       id  -0.002533\n",
            "1       sg   1.763257\n",
            "2     hemo  -0.056998\n",
            "3       dm   0.139629\n",
            "\n",
            "Model yang dipilih dengan 3 variabel:\n",
            "  variable  Koefisien\n",
            "0       id  -0.002704\n",
            "1       sg   1.916862\n",
            "2     hemo  -0.063246\n",
            "\n",
            "Model yang dipilih dengan 2 variabel:\n",
            "  variable  Koefisien\n",
            "0       id  -0.003570\n",
            "1       sg   1.299136\n",
            "\n",
            "Model yang dipilih dengan 1 variabel:\n",
            "  variable  Koefisien\n",
            "0       sg   0.574831\n"
          ]
        }
      ]
    },
    {
      "cell_type": "markdown",
      "metadata": {
        "id": "lxrPENH_-5Gm"
      },
      "source": [
        "\n",
        "\n",
        "---\n",
        "\n"
      ]
    },
    {
      "cell_type": "markdown",
      "metadata": {
        "id": "_dbd7_rf-yx9"
      },
      "source": [
        "**Bandingkan RSS Model Yang Telah Dipilih**"
      ]
    },
    {
      "cell_type": "code",
      "metadata": {
        "id": "0X258nZE-64M"
      },
      "source": [
        "fitur23 = ['age', 'bp', 'sg', 'al', 'su', 'pc', 'pcc', 'ba', 'bgr', 'bu', 'sc',\n",
        "       'sod', 'pot', 'hemo', 'pcv', 'wc', 'rc', 'htn', 'dm', 'cad', 'appet',\n",
        "       'pe', 'ane']"
      ],
      "execution_count": 266,
      "outputs": []
    },
    {
      "cell_type": "code",
      "metadata": {
        "id": "gCOWAzJs_Aby"
      },
      "source": [
        "pd.set_option('max_colwidth', None)\n",
        "hasil = pd.DataFrame(columns=[\"Cp\", \"model\"], index = range(1,len(X.columns)))\n",
        "predictors = X.columns\n",
        "model23 = backward(predictors)\n",
        "fitur = []\n",
        "\n",
        "while(len(predictors) > 1):\n",
        "    hasil.loc[len(predictors)-1] = backward(predictors)\n",
        "    predictors = hasil.loc[len(predictors)-1][\"model\"].model.exog_names\n",
        "    fitur.append(predictors)\n",
        "fitur.reverse()\n",
        "fitur.append(fitur23)\n",
        "RS = list(hasil['Cp'])\n",
        "RS.append(model23['Cp'])\n",
        "p = pd.DataFrame({'Cp': RS,'Fitur': fitur},index=range(24))"
      ],
      "execution_count": 267,
      "outputs": []
    },
    {
      "cell_type": "code",
      "metadata": {
        "colab": {
          "base_uri": "https://localhost:8080/",
          "height": 773
        },
        "id": "X0keU6hfA4DB",
        "outputId": "7f4c4a44-e73d-466c-b680-ed7c4b75fcf0"
      },
      "source": [
        "p"
      ],
      "execution_count": 268,
      "outputs": [
        {
          "output_type": "execute_result",
          "data": {
            "text/html": [
              "<div>\n",
              "<style scoped>\n",
              "    .dataframe tbody tr th:only-of-type {\n",
              "        vertical-align: middle;\n",
              "    }\n",
              "\n",
              "    .dataframe tbody tr th {\n",
              "        vertical-align: top;\n",
              "    }\n",
              "\n",
              "    .dataframe thead th {\n",
              "        text-align: right;\n",
              "    }\n",
              "</style>\n",
              "<table border=\"1\" class=\"dataframe\">\n",
              "  <thead>\n",
              "    <tr style=\"text-align: right;\">\n",
              "      <th></th>\n",
              "      <th>Cp</th>\n",
              "      <th>Fitur</th>\n",
              "    </tr>\n",
              "  </thead>\n",
              "  <tbody>\n",
              "    <tr>\n",
              "      <th>0</th>\n",
              "      <td>0.246226</td>\n",
              "      <td>[sg]</td>\n",
              "    </tr>\n",
              "    <tr>\n",
              "      <th>1</th>\n",
              "      <td>0.070321</td>\n",
              "      <td>[id, sg]</td>\n",
              "    </tr>\n",
              "    <tr>\n",
              "      <th>2</th>\n",
              "      <td>0.053699</td>\n",
              "      <td>[id, sg, hemo]</td>\n",
              "    </tr>\n",
              "    <tr>\n",
              "      <th>3</th>\n",
              "      <td>0.050924</td>\n",
              "      <td>[id, sg, hemo, dm]</td>\n",
              "    </tr>\n",
              "    <tr>\n",
              "      <th>4</th>\n",
              "      <td>0.049193</td>\n",
              "      <td>[id, sg, al, hemo, dm]</td>\n",
              "    </tr>\n",
              "    <tr>\n",
              "      <th>5</th>\n",
              "      <td>0.048334</td>\n",
              "      <td>[id, sg, al, hemo, wc, dm]</td>\n",
              "    </tr>\n",
              "    <tr>\n",
              "      <th>6</th>\n",
              "      <td>0.047685</td>\n",
              "      <td>[id, sg, al, bgr, hemo, wc, dm]</td>\n",
              "    </tr>\n",
              "    <tr>\n",
              "      <th>7</th>\n",
              "      <td>0.047248</td>\n",
              "      <td>[id, bp, sg, al, bgr, hemo, wc, dm]</td>\n",
              "    </tr>\n",
              "    <tr>\n",
              "      <th>8</th>\n",
              "      <td>0.047101</td>\n",
              "      <td>[id, bp, sg, al, bgr, hemo, wc, dm, ane]</td>\n",
              "    </tr>\n",
              "    <tr>\n",
              "      <th>9</th>\n",
              "      <td>0.046989</td>\n",
              "      <td>[id, bp, sg, al, bgr, hemo, wc, dm, cad, ane]</td>\n",
              "    </tr>\n",
              "    <tr>\n",
              "      <th>10</th>\n",
              "      <td>0.046809</td>\n",
              "      <td>[id, bp, sg, al, bgr, hemo, wc, rc, dm, cad, ane]</td>\n",
              "    </tr>\n",
              "    <tr>\n",
              "      <th>11</th>\n",
              "      <td>0.046944</td>\n",
              "      <td>[id, bp, sg, al, bgr, bu, hemo, wc, rc, dm, cad, ane]</td>\n",
              "    </tr>\n",
              "    <tr>\n",
              "      <th>12</th>\n",
              "      <td>0.046987</td>\n",
              "      <td>[id, bp, sg, al, bgr, bu, sc, hemo, wc, rc, dm, cad, ane]</td>\n",
              "    </tr>\n",
              "    <tr>\n",
              "      <th>13</th>\n",
              "      <td>0.047071</td>\n",
              "      <td>[id, bp, sg, al, bgr, bu, sc, hemo, pcv, wc, rc, dm, cad, ane]</td>\n",
              "    </tr>\n",
              "    <tr>\n",
              "      <th>14</th>\n",
              "      <td>0.047180</td>\n",
              "      <td>[id, bp, sg, al, ba, bgr, bu, sc, hemo, pcv, wc, rc, dm, cad, ane]</td>\n",
              "    </tr>\n",
              "    <tr>\n",
              "      <th>15</th>\n",
              "      <td>0.047316</td>\n",
              "      <td>[id, bp, sg, al, pc, ba, bgr, bu, sc, hemo, pcv, wc, rc, dm, cad, ane]</td>\n",
              "    </tr>\n",
              "    <tr>\n",
              "      <th>16</th>\n",
              "      <td>0.047461</td>\n",
              "      <td>[id, bp, sg, al, pc, ba, bgr, bu, sc, sod, hemo, pcv, wc, rc, dm, cad, ane]</td>\n",
              "    </tr>\n",
              "    <tr>\n",
              "      <th>17</th>\n",
              "      <td>0.047626</td>\n",
              "      <td>[id, bp, sg, al, pc, ba, bgr, bu, sc, sod, hemo, pcv, wc, rc, dm, cad, pe, ane]</td>\n",
              "    </tr>\n",
              "    <tr>\n",
              "      <th>18</th>\n",
              "      <td>0.047812</td>\n",
              "      <td>[id, bp, sg, al, pc, ba, bgr, bu, sc, sod, pot, hemo, pcv, wc, rc, dm, cad, pe, ane]</td>\n",
              "    </tr>\n",
              "    <tr>\n",
              "      <th>19</th>\n",
              "      <td>0.048034</td>\n",
              "      <td>[id, bp, sg, al, pc, pcc, ba, bgr, bu, sc, sod, pot, hemo, pcv, wc, rc, dm, cad, pe, ane]</td>\n",
              "    </tr>\n",
              "    <tr>\n",
              "      <th>20</th>\n",
              "      <td>0.048253</td>\n",
              "      <td>[id, age, bp, sg, al, pc, pcc, ba, bgr, bu, sc, sod, pot, hemo, pcv, wc, rc, dm, cad, pe, ane]</td>\n",
              "    </tr>\n",
              "    <tr>\n",
              "      <th>21</th>\n",
              "      <td>0.048495</td>\n",
              "      <td>[id, age, bp, sg, al, pc, pcc, ba, bgr, bu, sc, sod, pot, hemo, pcv, wc, rc, htn, dm, cad, pe, ane]</td>\n",
              "    </tr>\n",
              "    <tr>\n",
              "      <th>22</th>\n",
              "      <td>0.048737</td>\n",
              "      <td>[id, age, bp, sg, al, su, pc, pcc, ba, bgr, bu, sc, sod, pot, hemo, pcv, wc, rc, htn, dm, cad, pe, ane]</td>\n",
              "    </tr>\n",
              "    <tr>\n",
              "      <th>23</th>\n",
              "      <td>0.048737</td>\n",
              "      <td>[age, bp, sg, al, su, pc, pcc, ba, bgr, bu, sc, sod, pot, hemo, pcv, wc, rc, htn, dm, cad, appet, pe, ane]</td>\n",
              "    </tr>\n",
              "  </tbody>\n",
              "</table>\n",
              "</div>"
            ],
            "text/plain": [
              "          Cp                                                                                                       Fitur\n",
              "0   0.246226                                                                                                        [sg]\n",
              "1   0.070321                                                                                                    [id, sg]\n",
              "2   0.053699                                                                                              [id, sg, hemo]\n",
              "3   0.050924                                                                                          [id, sg, hemo, dm]\n",
              "4   0.049193                                                                                      [id, sg, al, hemo, dm]\n",
              "5   0.048334                                                                                  [id, sg, al, hemo, wc, dm]\n",
              "6   0.047685                                                                             [id, sg, al, bgr, hemo, wc, dm]\n",
              "7   0.047248                                                                         [id, bp, sg, al, bgr, hemo, wc, dm]\n",
              "8   0.047101                                                                    [id, bp, sg, al, bgr, hemo, wc, dm, ane]\n",
              "9   0.046989                                                               [id, bp, sg, al, bgr, hemo, wc, dm, cad, ane]\n",
              "10  0.046809                                                           [id, bp, sg, al, bgr, hemo, wc, rc, dm, cad, ane]\n",
              "11  0.046944                                                       [id, bp, sg, al, bgr, bu, hemo, wc, rc, dm, cad, ane]\n",
              "12  0.046987                                                   [id, bp, sg, al, bgr, bu, sc, hemo, wc, rc, dm, cad, ane]\n",
              "13  0.047071                                              [id, bp, sg, al, bgr, bu, sc, hemo, pcv, wc, rc, dm, cad, ane]\n",
              "14  0.047180                                          [id, bp, sg, al, ba, bgr, bu, sc, hemo, pcv, wc, rc, dm, cad, ane]\n",
              "15  0.047316                                      [id, bp, sg, al, pc, ba, bgr, bu, sc, hemo, pcv, wc, rc, dm, cad, ane]\n",
              "16  0.047461                                 [id, bp, sg, al, pc, ba, bgr, bu, sc, sod, hemo, pcv, wc, rc, dm, cad, ane]\n",
              "17  0.047626                             [id, bp, sg, al, pc, ba, bgr, bu, sc, sod, hemo, pcv, wc, rc, dm, cad, pe, ane]\n",
              "18  0.047812                        [id, bp, sg, al, pc, ba, bgr, bu, sc, sod, pot, hemo, pcv, wc, rc, dm, cad, pe, ane]\n",
              "19  0.048034                   [id, bp, sg, al, pc, pcc, ba, bgr, bu, sc, sod, pot, hemo, pcv, wc, rc, dm, cad, pe, ane]\n",
              "20  0.048253              [id, age, bp, sg, al, pc, pcc, ba, bgr, bu, sc, sod, pot, hemo, pcv, wc, rc, dm, cad, pe, ane]\n",
              "21  0.048495         [id, age, bp, sg, al, pc, pcc, ba, bgr, bu, sc, sod, pot, hemo, pcv, wc, rc, htn, dm, cad, pe, ane]\n",
              "22  0.048737     [id, age, bp, sg, al, su, pc, pcc, ba, bgr, bu, sc, sod, pot, hemo, pcv, wc, rc, htn, dm, cad, pe, ane]\n",
              "23  0.048737  [age, bp, sg, al, su, pc, pcc, ba, bgr, bu, sc, sod, pot, hemo, pcv, wc, rc, htn, dm, cad, appet, pe, ane]"
            ]
          },
          "metadata": {},
          "execution_count": 268
        }
      ]
    },
    {
      "cell_type": "code",
      "metadata": {
        "colab": {
          "base_uri": "https://localhost:8080/"
        },
        "id": "TqIA5JvCBCwj",
        "outputId": "c286a263-4a1c-4493-ce6a-3d5fa2141d25"
      },
      "source": [
        "p.loc[p['Cp'].argmin() + 1]"
      ],
      "execution_count": 269,
      "outputs": [
        {
          "output_type": "execute_result",
          "data": {
            "text/plain": [
              "Cp                                                   0.0469441\n",
              "Fitur    [id, bp, sg, al, bgr, bu, hemo, wc, rc, dm, cad, ane]\n",
              "Name: 11, dtype: object"
            ]
          },
          "metadata": {},
          "execution_count": 269
        }
      ]
    },
    {
      "cell_type": "code",
      "metadata": {
        "colab": {
          "base_uri": "https://localhost:8080/"
        },
        "id": "lCT-otKcBFZA",
        "outputId": "192e7ed2-fd32-46f3-c9bf-26755bc4a0cb"
      },
      "source": [
        "hasil.loc[11]['model'].params"
      ],
      "execution_count": 270,
      "outputs": [
        {
          "output_type": "execute_result",
          "data": {
            "text/plain": [
              "id     -0.002251\n",
              "bp      0.002249\n",
              "sg      1.521754\n",
              "al      0.044344\n",
              "bgr     0.000545\n",
              "hemo   -0.044780\n",
              "wc     -0.000007\n",
              "rc     -0.039515\n",
              "dm      0.080070\n",
              "cad    -0.087016\n",
              "ane    -0.085577\n",
              "dtype: float64"
            ]
          },
          "metadata": {},
          "execution_count": 270
        }
      ]
    },
    {
      "cell_type": "markdown",
      "metadata": {
        "id": "l8cS4HowCFA4"
      },
      "source": [
        "**terpilih 11 fitur yang akan dilanjutkan ke pemodelan : id,bp,sg,al,bgr,hemo,wc,rc,dm,cad,dan ane**"
      ]
    },
    {
      "cell_type": "markdown",
      "metadata": {
        "id": "l6hMpvhs_TJg"
      },
      "source": [
        "# Finishing dan Export Data"
      ]
    },
    {
      "cell_type": "code",
      "metadata": {
        "id": "DWzZ__DJ-uik"
      },
      "source": [
        "dataset = dataset.drop(columns=['age', 'su', 'pc', 'pcc', 'ba', 'bu', 'sc', 'sod', 'pot', 'pcv', 'htn', 'appet', 'pe'])"
      ],
      "execution_count": 271,
      "outputs": []
    },
    {
      "cell_type": "code",
      "metadata": {
        "colab": {
          "base_uri": "https://localhost:8080/",
          "height": 408
        },
        "id": "KKYf-l4f_45F",
        "outputId": "89fee893-aa88-494b-b025-3b71165ad7ee"
      },
      "source": [
        "dataset"
      ],
      "execution_count": 272,
      "outputs": [
        {
          "output_type": "execute_result",
          "data": {
            "text/html": [
              "<div>\n",
              "<style scoped>\n",
              "    .dataframe tbody tr th:only-of-type {\n",
              "        vertical-align: middle;\n",
              "    }\n",
              "\n",
              "    .dataframe tbody tr th {\n",
              "        vertical-align: top;\n",
              "    }\n",
              "\n",
              "    .dataframe thead th {\n",
              "        text-align: right;\n",
              "    }\n",
              "</style>\n",
              "<table border=\"1\" class=\"dataframe\">\n",
              "  <thead>\n",
              "    <tr style=\"text-align: right;\">\n",
              "      <th></th>\n",
              "      <th>id</th>\n",
              "      <th>bp</th>\n",
              "      <th>sg</th>\n",
              "      <th>al</th>\n",
              "      <th>bgr</th>\n",
              "      <th>hemo</th>\n",
              "      <th>wc</th>\n",
              "      <th>rc</th>\n",
              "      <th>dm</th>\n",
              "      <th>cad</th>\n",
              "      <th>ane</th>\n",
              "      <th>classification</th>\n",
              "    </tr>\n",
              "  </thead>\n",
              "  <tbody>\n",
              "    <tr>\n",
              "      <th>0</th>\n",
              "      <td>0</td>\n",
              "      <td>80.0</td>\n",
              "      <td>1.020</td>\n",
              "      <td>1.0</td>\n",
              "      <td>121.0</td>\n",
              "      <td>15.4</td>\n",
              "      <td>7800.0</td>\n",
              "      <td>5.200000</td>\n",
              "      <td>1</td>\n",
              "      <td>0</td>\n",
              "      <td>0</td>\n",
              "      <td>1</td>\n",
              "    </tr>\n",
              "    <tr>\n",
              "      <th>1</th>\n",
              "      <td>1</td>\n",
              "      <td>50.0</td>\n",
              "      <td>1.020</td>\n",
              "      <td>4.0</td>\n",
              "      <td>122.0</td>\n",
              "      <td>11.3</td>\n",
              "      <td>6000.0</td>\n",
              "      <td>4.187400</td>\n",
              "      <td>0</td>\n",
              "      <td>0</td>\n",
              "      <td>0</td>\n",
              "      <td>1</td>\n",
              "    </tr>\n",
              "    <tr>\n",
              "      <th>2</th>\n",
              "      <td>2</td>\n",
              "      <td>80.0</td>\n",
              "      <td>1.010</td>\n",
              "      <td>2.0</td>\n",
              "      <td>423.0</td>\n",
              "      <td>9.6</td>\n",
              "      <td>7500.0</td>\n",
              "      <td>3.702609</td>\n",
              "      <td>1</td>\n",
              "      <td>0</td>\n",
              "      <td>1</td>\n",
              "      <td>1</td>\n",
              "    </tr>\n",
              "    <tr>\n",
              "      <th>3</th>\n",
              "      <td>3</td>\n",
              "      <td>70.0</td>\n",
              "      <td>1.005</td>\n",
              "      <td>4.0</td>\n",
              "      <td>117.0</td>\n",
              "      <td>11.2</td>\n",
              "      <td>6700.0</td>\n",
              "      <td>3.900000</td>\n",
              "      <td>0</td>\n",
              "      <td>0</td>\n",
              "      <td>1</td>\n",
              "      <td>1</td>\n",
              "    </tr>\n",
              "    <tr>\n",
              "      <th>4</th>\n",
              "      <td>4</td>\n",
              "      <td>80.0</td>\n",
              "      <td>1.010</td>\n",
              "      <td>2.0</td>\n",
              "      <td>106.0</td>\n",
              "      <td>11.6</td>\n",
              "      <td>7300.0</td>\n",
              "      <td>4.600000</td>\n",
              "      <td>0</td>\n",
              "      <td>0</td>\n",
              "      <td>0</td>\n",
              "      <td>1</td>\n",
              "    </tr>\n",
              "    <tr>\n",
              "      <th>...</th>\n",
              "      <td>...</td>\n",
              "      <td>...</td>\n",
              "      <td>...</td>\n",
              "      <td>...</td>\n",
              "      <td>...</td>\n",
              "      <td>...</td>\n",
              "      <td>...</td>\n",
              "      <td>...</td>\n",
              "      <td>...</td>\n",
              "      <td>...</td>\n",
              "      <td>...</td>\n",
              "      <td>...</td>\n",
              "    </tr>\n",
              "    <tr>\n",
              "      <th>395</th>\n",
              "      <td>395</td>\n",
              "      <td>80.0</td>\n",
              "      <td>1.020</td>\n",
              "      <td>0.0</td>\n",
              "      <td>140.0</td>\n",
              "      <td>15.7</td>\n",
              "      <td>6700.0</td>\n",
              "      <td>4.900000</td>\n",
              "      <td>0</td>\n",
              "      <td>0</td>\n",
              "      <td>0</td>\n",
              "      <td>0</td>\n",
              "    </tr>\n",
              "    <tr>\n",
              "      <th>396</th>\n",
              "      <td>396</td>\n",
              "      <td>70.0</td>\n",
              "      <td>1.025</td>\n",
              "      <td>0.0</td>\n",
              "      <td>75.0</td>\n",
              "      <td>16.5</td>\n",
              "      <td>7800.0</td>\n",
              "      <td>6.200000</td>\n",
              "      <td>0</td>\n",
              "      <td>0</td>\n",
              "      <td>0</td>\n",
              "      <td>0</td>\n",
              "    </tr>\n",
              "    <tr>\n",
              "      <th>397</th>\n",
              "      <td>397</td>\n",
              "      <td>80.0</td>\n",
              "      <td>1.020</td>\n",
              "      <td>0.0</td>\n",
              "      <td>100.0</td>\n",
              "      <td>15.8</td>\n",
              "      <td>6600.0</td>\n",
              "      <td>5.400000</td>\n",
              "      <td>0</td>\n",
              "      <td>0</td>\n",
              "      <td>0</td>\n",
              "      <td>0</td>\n",
              "    </tr>\n",
              "    <tr>\n",
              "      <th>398</th>\n",
              "      <td>398</td>\n",
              "      <td>60.0</td>\n",
              "      <td>1.025</td>\n",
              "      <td>0.0</td>\n",
              "      <td>114.0</td>\n",
              "      <td>14.2</td>\n",
              "      <td>7200.0</td>\n",
              "      <td>5.900000</td>\n",
              "      <td>0</td>\n",
              "      <td>0</td>\n",
              "      <td>0</td>\n",
              "      <td>0</td>\n",
              "    </tr>\n",
              "    <tr>\n",
              "      <th>399</th>\n",
              "      <td>399</td>\n",
              "      <td>80.0</td>\n",
              "      <td>1.025</td>\n",
              "      <td>0.0</td>\n",
              "      <td>131.0</td>\n",
              "      <td>15.8</td>\n",
              "      <td>6800.0</td>\n",
              "      <td>6.100000</td>\n",
              "      <td>0</td>\n",
              "      <td>0</td>\n",
              "      <td>0</td>\n",
              "      <td>0</td>\n",
              "    </tr>\n",
              "  </tbody>\n",
              "</table>\n",
              "<p>351 rows × 12 columns</p>\n",
              "</div>"
            ],
            "text/plain": [
              "      id    bp     sg   al    bgr  ...        rc  dm  cad  ane  classification\n",
              "0      0  80.0  1.020  1.0  121.0  ...  5.200000   1    0    0               1\n",
              "1      1  50.0  1.020  4.0  122.0  ...  4.187400   0    0    0               1\n",
              "2      2  80.0  1.010  2.0  423.0  ...  3.702609   1    0    1               1\n",
              "3      3  70.0  1.005  4.0  117.0  ...  3.900000   0    0    1               1\n",
              "4      4  80.0  1.010  2.0  106.0  ...  4.600000   0    0    0               1\n",
              "..   ...   ...    ...  ...    ...  ...       ...  ..  ...  ...             ...\n",
              "395  395  80.0  1.020  0.0  140.0  ...  4.900000   0    0    0               0\n",
              "396  396  70.0  1.025  0.0   75.0  ...  6.200000   0    0    0               0\n",
              "397  397  80.0  1.020  0.0  100.0  ...  5.400000   0    0    0               0\n",
              "398  398  60.0  1.025  0.0  114.0  ...  5.900000   0    0    0               0\n",
              "399  399  80.0  1.025  0.0  131.0  ...  6.100000   0    0    0               0\n",
              "\n",
              "[351 rows x 12 columns]"
            ]
          },
          "metadata": {},
          "execution_count": 272
        }
      ]
    },
    {
      "cell_type": "markdown",
      "metadata": {
        "id": "FWhc8uiiB7VG"
      },
      "source": [
        "**Dataset sudah siap diexport dan selanjutnya siap untuk dilanjutkan ke proses berikutnya lalu dimodelkan**"
      ]
    },
    {
      "cell_type": "markdown",
      "metadata": {
        "id": "TGvdaPNbAB55"
      },
      "source": [
        "\n",
        "\n",
        "---\n",
        "\n"
      ]
    },
    {
      "cell_type": "markdown",
      "metadata": {
        "id": "8BuYOPyCAEaO"
      },
      "source": [
        "**Export Data**"
      ]
    },
    {
      "cell_type": "code",
      "metadata": {
        "colab": {
          "base_uri": "https://localhost:8080/",
          "height": 17
        },
        "id": "IEsNbYsWAIQt",
        "outputId": "47b834a0-12b3-4dde-90b5-20bf3d9d16dd"
      },
      "source": [
        "from google.colab import files\n",
        "dataset.to_csv('DatasetPGK(Processed).csv') \n",
        "files.download('DatasetPGK(Processed).csv')"
      ],
      "execution_count": 273,
      "outputs": [
        {
          "output_type": "display_data",
          "data": {
            "application/javascript": [
              "\n",
              "    async function download(id, filename, size) {\n",
              "      if (!google.colab.kernel.accessAllowed) {\n",
              "        return;\n",
              "      }\n",
              "      const div = document.createElement('div');\n",
              "      const label = document.createElement('label');\n",
              "      label.textContent = `Downloading \"${filename}\": `;\n",
              "      div.appendChild(label);\n",
              "      const progress = document.createElement('progress');\n",
              "      progress.max = size;\n",
              "      div.appendChild(progress);\n",
              "      document.body.appendChild(div);\n",
              "\n",
              "      const buffers = [];\n",
              "      let downloaded = 0;\n",
              "\n",
              "      const channel = await google.colab.kernel.comms.open(id);\n",
              "      // Send a message to notify the kernel that we're ready.\n",
              "      channel.send({})\n",
              "\n",
              "      for await (const message of channel.messages) {\n",
              "        // Send a message to notify the kernel that we're ready.\n",
              "        channel.send({})\n",
              "        if (message.buffers) {\n",
              "          for (const buffer of message.buffers) {\n",
              "            buffers.push(buffer);\n",
              "            downloaded += buffer.byteLength;\n",
              "            progress.value = downloaded;\n",
              "          }\n",
              "        }\n",
              "      }\n",
              "      const blob = new Blob(buffers, {type: 'application/binary'});\n",
              "      const a = document.createElement('a');\n",
              "      a.href = window.URL.createObjectURL(blob);\n",
              "      a.download = filename;\n",
              "      div.appendChild(a);\n",
              "      a.click();\n",
              "      div.remove();\n",
              "    }\n",
              "  "
            ],
            "text/plain": [
              "<IPython.core.display.Javascript object>"
            ]
          },
          "metadata": {}
        },
        {
          "output_type": "display_data",
          "data": {
            "application/javascript": [
              "download(\"download_c85797d5-1947-4ace-b755-02b279bfb30d\", \"DatasetPGK(Processed).csv\", 19411)"
            ],
            "text/plain": [
              "<IPython.core.display.Javascript object>"
            ]
          },
          "metadata": {}
        }
      ]
    },
    {
      "cell_type": "markdown",
      "metadata": {
        "id": "TdBddKNmnIrj"
      },
      "source": [
        "\n",
        "\n",
        "---\n",
        "\n"
      ]
    }
  ]
}