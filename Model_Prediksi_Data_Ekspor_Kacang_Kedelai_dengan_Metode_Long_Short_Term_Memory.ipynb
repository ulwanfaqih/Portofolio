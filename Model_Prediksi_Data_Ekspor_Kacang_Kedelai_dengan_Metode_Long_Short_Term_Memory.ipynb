{
  "nbformat": 4,
  "nbformat_minor": 0,
  "metadata": {
    "colab": {
      "name": "Model Prediksi Dari Data Ekspor Kacang Kedelai dengan Metode Long Short Term Memory.ipynb",
      "provenance": [],
      "collapsed_sections": [
        "5p3honurzPul",
        "uiBeVGB10p7a",
        "di2H4JD74mIs",
        "VA1E6CMEHxvM",
        "TO4FgThLU2dj",
        "pDgJaAF3lSwI",
        "Ib05eRWVueIt",
        "RMcyVJYmvZGs"
      ],
      "authorship_tag": "ABX9TyNSzhesDN9p25nCegTETBPh",
      "include_colab_link": true
    },
    "kernelspec": {
      "name": "python3",
      "display_name": "Python 3"
    },
    "language_info": {
      "name": "python"
    }
  },
  "cells": [
    {
      "cell_type": "markdown",
      "metadata": {
        "id": "view-in-github",
        "colab_type": "text"
      },
      "source": [
        "<a href=\"https://colab.research.google.com/github/ulwanfaqih/Portofolio/blob/main/Model_Prediksi_Data_Ekspor_Kacang_Kedelai_dengan_Metode_Long_Short_Term_Memory.ipynb\" target=\"_parent\"><img src=\"https://colab.research.google.com/assets/colab-badge.svg\" alt=\"Open In Colab\"/></a>"
      ]
    },
    {
      "cell_type": "markdown",
      "metadata": {
        "id": "5p3honurzPul"
      },
      "source": [
        "# **Model Prediksi Dari Data Ekspor Kacang Kedelai dengan Metode Long Short Term Memory** *(On Progress)*\n",
        "oleh : Muhammad Ulwan Faqih\n",
        "\n",
        "\n",
        "---\n",
        "\n"
      ]
    },
    {
      "cell_type": "markdown",
      "metadata": {
        "id": "UhkkXmVZ0FYu"
      },
      "source": [
        "Tujuan : Melihat Prediksi Laju Pertumbuhan Ekspor Kacang Kedelai di Indonesia\n",
        "\n",
        "Proses - proses yang dilakukan :\n",
        "1. Pre-Processing\n",
        "2. Pemisahan Data\n",
        "3. Membangun Model\n",
        "4. Evaluasi Model\n",
        "5. Analisis Model\n",
        "\n",
        "\n",
        "\n",
        "---\n",
        "\n",
        "\n",
        "---\n",
        "\n"
      ]
    },
    {
      "cell_type": "markdown",
      "metadata": {
        "id": "uiBeVGB10p7a"
      },
      "source": [
        "# Import Library"
      ]
    },
    {
      "cell_type": "code",
      "metadata": {
        "id": "zK7P4xlo0pDz"
      },
      "source": [
        "import pandas as pd\n",
        "import numpy as np\n",
        "import matplotlib.pyplot as plt\n",
        "from matplotlib.pylab import rcParams\n",
        "rcParams['figure.figsize']=20,10\n",
        "import tensorflow as tf\n",
        "from keras.models import Sequential\n",
        "from keras.layers import LSTM,Dropout,Dense\n",
        "from sklearn.preprocessing import MinMaxScaler\n",
        "import math\n",
        "from sklearn.metrics import mean_squared_error"
      ],
      "execution_count": null,
      "outputs": []
    },
    {
      "cell_type": "markdown",
      "metadata": {
        "id": "ehNxVcc-NXKE"
      },
      "source": [
        "\n",
        "\n",
        "\n",
        "---\n",
        "\n",
        "\n",
        "---\n",
        "\n"
      ]
    },
    {
      "cell_type": "markdown",
      "metadata": {
        "id": "di2H4JD74mIs"
      },
      "source": [
        "# DATA"
      ]
    },
    {
      "cell_type": "code",
      "metadata": {
        "colab": {
          "base_uri": "https://localhost:8080/"
        },
        "id": "FUhJaIz94xI_",
        "outputId": "cc186580-3488-40b6-d4b0-ac6c3b612da8"
      },
      "source": [
        "from google.colab import drive\n",
        "drive.mount('/content/drive')\n",
        "%cd /content/drive/MyDrive/Data/\n",
        "data_ekspor = pd.read_excel(r'Soybean Indo.xlsx')"
      ],
      "execution_count": null,
      "outputs": [
        {
          "output_type": "stream",
          "name": "stdout",
          "text": [
            "Drive already mounted at /content/drive; to attempt to forcibly remount, call drive.mount(\"/content/drive\", force_remount=True).\n",
            "/content/drive/MyDrive/Data\n"
          ]
        }
      ]
    },
    {
      "cell_type": "code",
      "metadata": {
        "colab": {
          "base_uri": "https://localhost:8080/"
        },
        "id": "UCk4YR3n8Rym",
        "outputId": "6683d11e-e9f1-4b13-e3d1-12891b1a6a09"
      },
      "source": [
        "data_ekspor.head()"
      ],
      "execution_count": null,
      "outputs": [
        {
          "output_type": "execute_result",
          "data": {
            "text/html": [
              "<div>\n",
              "<style scoped>\n",
              "    .dataframe tbody tr th:only-of-type {\n",
              "        vertical-align: middle;\n",
              "    }\n",
              "\n",
              "    .dataframe tbody tr th {\n",
              "        vertical-align: top;\n",
              "    }\n",
              "\n",
              "    .dataframe thead th {\n",
              "        text-align: right;\n",
              "    }\n",
              "</style>\n",
              "<table border=\"1\" class=\"dataframe\">\n",
              "  <thead>\n",
              "    <tr style=\"text-align: right;\">\n",
              "      <th></th>\n",
              "      <th>Date</th>\n",
              "      <th>UBCurr</th>\n",
              "      <th>UBLast</th>\n",
              "      <th>AECurr</th>\n",
              "      <th>AELast</th>\n",
              "      <th>TCCurr</th>\n",
              "      <th>TCLast</th>\n",
              "      <th>% change</th>\n",
              "      <th>next year</th>\n",
              "    </tr>\n",
              "  </thead>\n",
              "  <tbody>\n",
              "    <tr>\n",
              "      <th>0</th>\n",
              "      <td>2006-05-18</td>\n",
              "      <td>113.6</td>\n",
              "      <td>43.8</td>\n",
              "      <td>944.7</td>\n",
              "      <td>858.8</td>\n",
              "      <td>1058.0</td>\n",
              "      <td>903.0</td>\n",
              "      <td>17.250166</td>\n",
              "      <td>NaN</td>\n",
              "    </tr>\n",
              "    <tr>\n",
              "      <th>1</th>\n",
              "      <td>2006-05-25</td>\n",
              "      <td>58.9</td>\n",
              "      <td>43.8</td>\n",
              "      <td>1010.7</td>\n",
              "      <td>858.8</td>\n",
              "      <td>1070.0</td>\n",
              "      <td>903.0</td>\n",
              "      <td>18.502105</td>\n",
              "      <td>NaN</td>\n",
              "    </tr>\n",
              "    <tr>\n",
              "      <th>2</th>\n",
              "      <td>2006-06-01</td>\n",
              "      <td>57.8</td>\n",
              "      <td>43.8</td>\n",
              "      <td>1011.8</td>\n",
              "      <td>858.8</td>\n",
              "      <td>1070.0</td>\n",
              "      <td>903.0</td>\n",
              "      <td>18.502105</td>\n",
              "      <td>NaN</td>\n",
              "    </tr>\n",
              "    <tr>\n",
              "      <th>3</th>\n",
              "      <td>2006-06-08</td>\n",
              "      <td>57.0</td>\n",
              "      <td>4.8</td>\n",
              "      <td>1012.6</td>\n",
              "      <td>900.8</td>\n",
              "      <td>1070.0</td>\n",
              "      <td>906.0</td>\n",
              "      <td>18.109541</td>\n",
              "      <td>0.0</td>\n",
              "    </tr>\n",
              "    <tr>\n",
              "      <th>4</th>\n",
              "      <td>2006-06-15</td>\n",
              "      <td>61.5</td>\n",
              "      <td>4.8</td>\n",
              "      <td>1012.6</td>\n",
              "      <td>924.1</td>\n",
              "      <td>1074.0</td>\n",
              "      <td>929.0</td>\n",
              "      <td>15.631392</td>\n",
              "      <td>0.0</td>\n",
              "    </tr>\n",
              "  </tbody>\n",
              "</table>\n",
              "</div>"
            ],
            "text/plain": [
              "        Date  UBCurr  UBLast  AECurr  ...  TCCurr  TCLast   % change  next year\n",
              "0 2006-05-18   113.6    43.8   944.7  ...  1058.0   903.0  17.250166        NaN\n",
              "1 2006-05-25    58.9    43.8  1010.7  ...  1070.0   903.0  18.502105        NaN\n",
              "2 2006-06-01    57.8    43.8  1011.8  ...  1070.0   903.0  18.502105        NaN\n",
              "3 2006-06-08    57.0     4.8  1012.6  ...  1070.0   906.0  18.109541        0.0\n",
              "4 2006-06-15    61.5     4.8  1012.6  ...  1074.0   929.0  15.631392        0.0\n",
              "\n",
              "[5 rows x 9 columns]"
            ]
          },
          "metadata": {},
          "execution_count": 101
        }
      ]
    },
    {
      "cell_type": "markdown",
      "metadata": {
        "id": "MQBPJi-IAFCx"
      },
      "source": [
        "Data yang digunakan merupakan data sekunder ekspor kacang kedelai\n",
        "Indonesia tahun 2006-2016 yang diperoleh dari data.world.com yang terdiri dari 9 variabel dan 587 baris data"
      ]
    },
    {
      "cell_type": "markdown",
      "metadata": {
        "id": "8LEbI6q2BOcP"
      },
      "source": [
        "Variabel - variabel tersebut adalah :\n",
        "1. Date = Tanggal Data Diinput\n",
        "2. UBCurr =\n",
        "3. UB Last = \n",
        "4. AECurr = Akumulai Nilai Ekspor Saat Ini\n",
        "5. AELast = Akumulasi Nilai Ekspor Terakhir\n",
        "6. TCCurr =\n",
        "7. TCLast =\n",
        "8. % change = % Kembali\n",
        "9. next year = Tahun yang akan datang\n",
        "\n",
        "\n",
        "---\n",
        "\n",
        "\n"
      ]
    },
    {
      "cell_type": "markdown",
      "metadata": {
        "id": "1oomMLbPSYIu"
      },
      "source": [
        ""
      ]
    },
    {
      "cell_type": "code",
      "metadata": {
        "colab": {
          "base_uri": "https://localhost:8080/"
        },
        "id": "tsfBszkDGBsK",
        "outputId": "62bb4efe-5072-48f1-98db-e62887864cad"
      },
      "source": [
        "data_ekspor.info()\n",
        "data_ekspor.shape"
      ],
      "execution_count": null,
      "outputs": [
        {
          "output_type": "stream",
          "name": "stdout",
          "text": [
            "<class 'pandas.core.frame.DataFrame'>\n",
            "RangeIndex: 587 entries, 0 to 586\n",
            "Data columns (total 9 columns):\n",
            " #   Column     Non-Null Count  Dtype         \n",
            "---  ------     --------------  -----         \n",
            " 0   Date       587 non-null    datetime64[ns]\n",
            " 1   UBCurr     534 non-null    float64       \n",
            " 2   UBLast     534 non-null    float64       \n",
            " 3   AECurr     533 non-null    float64       \n",
            " 4   AELast     534 non-null    float64       \n",
            " 5   TCCurr     534 non-null    float64       \n",
            " 6   TCLast     534 non-null    float64       \n",
            " 7   % change   534 non-null    float64       \n",
            " 8   next year  154 non-null    float64       \n",
            "dtypes: datetime64[ns](1), float64(8)\n",
            "memory usage: 41.4 KB\n"
          ]
        },
        {
          "output_type": "execute_result",
          "data": {
            "text/plain": [
              "(587, 9)"
            ]
          },
          "metadata": {},
          "execution_count": 102
        }
      ]
    },
    {
      "cell_type": "markdown",
      "metadata": {
        "id": "Q4ysQdMwGXdH"
      },
      "source": [
        "Karena ujuan kita membuat model, dan masih banyak ditemukan ketidakrapihan data, maka **selanjutnya akan dilakukan Pre-Processing**\n",
        "\n",
        "\n",
        "\n",
        "---\n",
        "\n",
        "\n",
        "---\n",
        "\n"
      ]
    },
    {
      "cell_type": "markdown",
      "metadata": {
        "id": "VA1E6CMEHxvM"
      },
      "source": [
        "# Pre-Processing"
      ]
    },
    {
      "cell_type": "markdown",
      "metadata": {
        "id": "_FpQqgDJIKsa"
      },
      "source": [
        "mengecek dan menghitung jumlah missing value masing-masing variabel"
      ]
    },
    {
      "cell_type": "code",
      "metadata": {
        "colab": {
          "base_uri": "https://localhost:8080/"
        },
        "id": "AhU7jOB0H9Vm",
        "outputId": "02255530-98a8-46ee-93b8-dfe9a9a831a2"
      },
      "source": [
        "#Mengecek Missing Value\n",
        "print(data_ekspor.isnull().sum())\n",
        "print(data_ekspor.isnull().sum().sum())"
      ],
      "execution_count": null,
      "outputs": [
        {
          "output_type": "stream",
          "name": "stdout",
          "text": [
            "Date           0\n",
            "UBCurr        53\n",
            "UBLast        53\n",
            "AECurr        54\n",
            "AELast        53\n",
            "TCCurr        53\n",
            "TCLast        53\n",
            "% change      53\n",
            "next year    433\n",
            "dtype: int64\n",
            "805\n"
          ]
        }
      ]
    },
    {
      "cell_type": "markdown",
      "metadata": {
        "id": "TWvepBAiIjNy"
      },
      "source": [
        "**Akan dilakukan penanganan Missing Value**\n",
        "\n",
        "\n",
        "---\n",
        "\n"
      ]
    },
    {
      "cell_type": "code",
      "metadata": {
        "colab": {
          "base_uri": "https://localhost:8080/"
        },
        "id": "_uQp_6yNNKRb",
        "outputId": "edfab464-f6ac-4060-ccda-c1043e05f37b"
      },
      "source": [
        "print(data_ekspor['AELast'].describe())\n",
        "print(data_ekspor['AELast'].mode())\n",
        "data_ekspor['AELast'].hist()"
      ],
      "execution_count": null,
      "outputs": [
        {
          "output_type": "stream",
          "name": "stdout",
          "text": [
            "count     534.000000\n",
            "mean      816.376030\n",
            "std       563.877828\n",
            "min         0.000000\n",
            "25%       362.750000\n",
            "50%       767.750000\n",
            "75%      1171.775000\n",
            "max      5216.700000\n",
            "Name: AELast, dtype: float64\n",
            "0    948.6\n",
            "dtype: float64\n"
          ]
        },
        {
          "output_type": "execute_result",
          "data": {
            "text/plain": [
              "<matplotlib.axes._subplots.AxesSubplot at 0x7f9838732950>"
            ]
          },
          "metadata": {},
          "execution_count": 104
        },
        {
          "output_type": "display_data",
          "data": {
            "image/png": "[encoded data removed]",
            "text/plain": [
              "<Figure size 1440x720 with 1 Axes>"
            ]
          },
          "metadata": {
            "needs_background": "light"
          }
        }
      ]
    },
    {
      "cell_type": "code",
      "metadata": {
        "colab": {
          "base_uri": "https://localhost:8080/"
        },
        "id": "cs6k_4ZbODfi",
        "outputId": "f6637f2c-787a-4064-cd83-59cd492eb1c6"
      },
      "source": [
        "plt.figure(figsize=(16,8))\n",
        "plt.plot(data_ekspor['AELast'], label='AELast Price')"
      ],
      "execution_count": null,
      "outputs": [
        {
          "output_type": "execute_result",
          "data": {
            "text/plain": [
              "[<matplotlib.lines.Line2D at 0x7f983859d510>]"
            ]
          },
          "metadata": {},
          "execution_count": 105
        },
        {
          "output_type": "display_data",
          "data": {
            "image/png": "[encoded data removed]",
            "text/plain": [
              "<Figure size 1152x576 with 1 Axes>"
            ]
          },
          "metadata": {
            "needs_background": "light"
          }
        }
      ]
    },
    {
      "cell_type": "code",
      "metadata": {
        "id": "woOtOAZgTAfz"
      },
      "source": [
        "data_ekspor['AELast'] = data_ekspor['AELast'].replace(np.nan, 816.4)"
      ],
      "execution_count": null,
      "outputs": []
    },
    {
      "cell_type": "code",
      "metadata": {
        "colab": {
          "base_uri": "https://localhost:8080/"
        },
        "id": "Fm0mDzgjSq59",
        "outputId": "83333f2d-e0d0-4834-eef1-0105298a92ab"
      },
      "source": [
        "data_ekspor.head()\n",
        "data_ekspor.info()"
      ],
      "execution_count": null,
      "outputs": [
        {
          "output_type": "stream",
          "name": "stdout",
          "text": [
            "<class 'pandas.core.frame.DataFrame'>\n",
            "RangeIndex: 587 entries, 0 to 586\n",
            "Data columns (total 9 columns):\n",
            " #   Column     Non-Null Count  Dtype         \n",
            "---  ------     --------------  -----         \n",
            " 0   Date       587 non-null    datetime64[ns]\n",
            " 1   UBCurr     534 non-null    float64       \n",
            " 2   UBLast     534 non-null    float64       \n",
            " 3   AECurr     533 non-null    float64       \n",
            " 4   AELast     587 non-null    float64       \n",
            " 5   TCCurr     534 non-null    float64       \n",
            " 6   TCLast     534 non-null    float64       \n",
            " 7   % change   534 non-null    float64       \n",
            " 8   next year  154 non-null    float64       \n",
            "dtypes: datetime64[ns](1), float64(8)\n",
            "memory usage: 41.4 KB\n"
          ]
        }
      ]
    },
    {
      "cell_type": "code",
      "metadata": {
        "colab": {
          "base_uri": "https://localhost:8080/"
        },
        "id": "_F7O4CHZTjTC",
        "outputId": "c2b6fa1a-b15c-4f85-efa0-4fd717cc6b30"
      },
      "source": [
        "plt.figure(figsize=(16,8))\n",
        "plt.plot(data_ekspor['AELast'], label='AELast Price')"
      ],
      "execution_count": null,
      "outputs": [
        {
          "output_type": "execute_result",
          "data": {
            "text/plain": [
              "[<matplotlib.lines.Line2D at 0x7f9838578910>]"
            ]
          },
          "metadata": {},
          "execution_count": 108
        },
        {
          "output_type": "display_data",
          "data": {
            "image/png": "[encoded data removed]",
            "text/plain": [
              "<Figure size 1152x576 with 1 Axes>"
            ]
          },
          "metadata": {
            "needs_background": "light"
          }
        }
      ]
    },
    {
      "cell_type": "code",
      "metadata": {
        "colab": {
          "base_uri": "https://localhost:8080/"
        },
        "id": "HKKCkw6rS3GG",
        "outputId": "06dacb09-a77f-4892-c50c-d7807c10d5ee"
      },
      "source": [
        "print(data_ekspor.isnull().sum())\n",
        "print(data_ekspor.isnull().sum().sum())"
      ],
      "execution_count": null,
      "outputs": [
        {
          "output_type": "stream",
          "name": "stdout",
          "text": [
            "Date           0\n",
            "UBCurr        53\n",
            "UBLast        53\n",
            "AECurr        54\n",
            "AELast         0\n",
            "TCCurr        53\n",
            "TCLast        53\n",
            "% change      53\n",
            "next year    433\n",
            "dtype: int64\n",
            "752\n"
          ]
        }
      ]
    },
    {
      "cell_type": "code",
      "metadata": {
        "id": "H3Vguur-Sm4z"
      },
      "source": [
        "data_ekspor.index=data_ekspor['Date']"
      ],
      "execution_count": null,
      "outputs": []
    },
    {
      "cell_type": "code",
      "metadata": {
        "colab": {
          "base_uri": "https://localhost:8080/"
        },
        "id": "UY1_8Se9TDoC",
        "outputId": "fc97970f-dafe-4c7e-8d8f-5592f5e9dfac"
      },
      "source": [
        "data_ekspor.info()"
      ],
      "execution_count": null,
      "outputs": [
        {
          "output_type": "stream",
          "name": "stdout",
          "text": [
            "<class 'pandas.core.frame.DataFrame'>\n",
            "DatetimeIndex: 587 entries, 2006-05-18 to 2017-08-10\n",
            "Data columns (total 9 columns):\n",
            " #   Column     Non-Null Count  Dtype         \n",
            "---  ------     --------------  -----         \n",
            " 0   Date       587 non-null    datetime64[ns]\n",
            " 1   UBCurr     534 non-null    float64       \n",
            " 2   UBLast     534 non-null    float64       \n",
            " 3   AECurr     533 non-null    float64       \n",
            " 4   AELast     587 non-null    float64       \n",
            " 5   TCCurr     534 non-null    float64       \n",
            " 6   TCLast     534 non-null    float64       \n",
            " 7   % change   534 non-null    float64       \n",
            " 8   next year  154 non-null    float64       \n",
            "dtypes: datetime64[ns](1), float64(8)\n",
            "memory usage: 45.9 KB\n"
          ]
        }
      ]
    },
    {
      "cell_type": "code",
      "metadata": {
        "id": "23_wPPH1TX7F"
      },
      "source": [
        "data_ekspor = data_ekspor.drop(['next year'], axis=1)\n",
        "data_ekspor = data_ekspor.dropna(axis=0)"
      ],
      "execution_count": null,
      "outputs": []
    },
    {
      "cell_type": "code",
      "metadata": {
        "colab": {
          "base_uri": "https://localhost:8080/"
        },
        "id": "wuV3wlxKTfW7",
        "outputId": "9265f571-a09a-4aa6-eeb9-d4f550493452"
      },
      "source": [
        "data_ekspor.head()\n",
        "data_ekspor.info()"
      ],
      "execution_count": null,
      "outputs": [
        {
          "output_type": "stream",
          "name": "stdout",
          "text": [
            "<class 'pandas.core.frame.DataFrame'>\n",
            "DatetimeIndex: 533 entries, 2006-05-18 to 2016-09-15\n",
            "Data columns (total 8 columns):\n",
            " #   Column    Non-Null Count  Dtype         \n",
            "---  ------    --------------  -----         \n",
            " 0   Date      533 non-null    datetime64[ns]\n",
            " 1   UBCurr    533 non-null    float64       \n",
            " 2   UBLast    533 non-null    float64       \n",
            " 3   AECurr    533 non-null    float64       \n",
            " 4   AELast    533 non-null    float64       \n",
            " 5   TCCurr    533 non-null    float64       \n",
            " 6   TCLast    533 non-null    float64       \n",
            " 7   % change  533 non-null    float64       \n",
            "dtypes: datetime64[ns](1), float64(7)\n",
            "memory usage: 37.5 KB\n"
          ]
        }
      ]
    },
    {
      "cell_type": "markdown",
      "metadata": {
        "id": "9IBc1_V-NOKH"
      },
      "source": [
        "\n",
        "\n",
        "---\n",
        "\n",
        "\n",
        "\n",
        "---\n",
        "\n"
      ]
    },
    {
      "cell_type": "markdown",
      "metadata": {
        "id": "TO4FgThLU2dj"
      },
      "source": [
        "# Pemisahan Data"
      ]
    },
    {
      "cell_type": "code",
      "metadata": {
        "id": "DmUUSwQvPWCT"
      },
      "source": [
        "data_baru=data_ekspor.iloc[:,4:5].values"
      ],
      "execution_count": null,
      "outputs": []
    },
    {
      "cell_type": "code",
      "metadata": {
        "colab": {
          "base_uri": "https://localhost:8080/"
        },
        "id": "_h1ErQMIxT3P",
        "outputId": "d4aac07e-d3a0-4308-b05a-4f8a845b4899"
      },
      "source": [
        "data_baru"
      ],
      "execution_count": null,
      "outputs": [
        {
          "output_type": "execute_result",
          "data": {
            "text/plain": [
              "array([[8.5880e+02],\n",
              "       [8.5880e+02],\n",
              "       [8.5880e+02],\n",
              "       [9.0080e+02],\n",
              "       [9.2410e+02],\n",
              "       [9.2410e+02],\n",
              "       [9.4860e+02],\n",
              "       [9.4860e+02],\n",
              "       [9.4860e+02],\n",
              "       [9.4860e+02],\n",
              "       [9.4860e+02],\n",
              "       [9.4910e+02],\n",
              "       [9.5050e+02],\n",
              "       [9.5370e+02],\n",
              "       [9.5850e+02],\n",
              "       [9.5950e+02],\n",
              "       [8.4200e+01],\n",
              "       [8.6600e+01],\n",
              "       [8.9200e+01],\n",
              "       [9.1100e+01],\n",
              "       [9.2400e+01],\n",
              "       [1.6000e+02],\n",
              "       [2.7890e+02],\n",
              "       [2.8190e+02],\n",
              "       [3.5550e+02],\n",
              "       [3.5810e+02],\n",
              "       [3.6130e+02],\n",
              "       [3.6410e+02],\n",
              "       [3.6600e+02],\n",
              "       [3.7080e+02],\n",
              "       [4.2590e+02],\n",
              "       [4.9000e+02],\n",
              "       [4.9150e+02],\n",
              "       [4.9270e+02],\n",
              "       [4.9320e+02],\n",
              "       [4.9410e+02],\n",
              "       [4.9540e+02],\n",
              "       [5.6880e+02],\n",
              "       [5.7150e+02],\n",
              "       [6.3060e+02],\n",
              "       [6.3460e+02],\n",
              "       [6.3980e+02],\n",
              "       [6.4390e+02],\n",
              "       [6.9250e+02],\n",
              "       [7.1790e+02],\n",
              "       [7.1890e+02],\n",
              "       [7.1890e+02],\n",
              "       [7.1890e+02],\n",
              "       [7.8160e+02],\n",
              "       [9.4230e+02],\n",
              "       [9.4380e+02],\n",
              "       [1.0107e+03],\n",
              "       [1.0118e+03],\n",
              "       [1.0126e+03],\n",
              "       [1.0126e+03],\n",
              "       [1.0725e+03],\n",
              "       [1.0728e+03],\n",
              "       [1.0972e+03],\n",
              "       [1.0982e+03],\n",
              "       [1.1621e+03],\n",
              "       [1.1642e+03],\n",
              "       [1.1655e+03],\n",
              "       [1.1676e+03],\n",
              "       [1.1710e+03],\n",
              "       [1.1756e+03],\n",
              "       [1.2111e+03],\n",
              "       [2.4000e+00],\n",
              "       [3.4000e+00],\n",
              "       [3.7000e+00],\n",
              "       [4.3000e+00],\n",
              "       [7.1700e+01],\n",
              "       [1.3280e+02],\n",
              "       [1.9480e+02],\n",
              "       [2.6470e+02],\n",
              "       [2.9020e+02],\n",
              "       [3.5910e+02],\n",
              "       [3.6150e+02],\n",
              "       [3.6230e+02],\n",
              "       [3.8810e+02],\n",
              "       [4.5840e+02],\n",
              "       [4.6080e+02],\n",
              "       [4.6660e+02],\n",
              "       [4.6910e+02],\n",
              "       [4.7280e+02],\n",
              "       [4.7510e+02],\n",
              "       [5.4060e+02],\n",
              "       [5.4670e+02],\n",
              "       [6.1460e+02],\n",
              "       [6.2190e+02],\n",
              "       [6.2390e+02],\n",
              "       [6.2610e+02],\n",
              "       [6.8220e+02],\n",
              "       [6.9180e+02],\n",
              "       [7.0290e+02],\n",
              "       [8.2030e+02],\n",
              "       [8.2490e+02],\n",
              "       [8.3420e+02],\n",
              "       [9.0170e+02],\n",
              "       [1.0038e+03],\n",
              "       [1.0731e+03],\n",
              "       [1.0958e+03],\n",
              "       [1.1091e+03],\n",
              "       [1.1242e+03],\n",
              "       [1.1379e+03],\n",
              "       [1.1453e+03],\n",
              "       [1.2229e+03],\n",
              "       [1.2229e+03],\n",
              "       [1.2520e+03],\n",
              "       [1.2891e+03],\n",
              "       [1.3775e+03],\n",
              "       [1.3868e+03],\n",
              "       [1.3959e+03],\n",
              "       [1.4114e+03],\n",
              "       [1.4237e+03],\n",
              "       [1.4377e+03],\n",
              "       [1.4444e+03],\n",
              "       [1.4509e+03],\n",
              "       [0.0000e+00],\n",
              "       [1.4000e+00],\n",
              "       [7.1000e+00],\n",
              "       [1.0800e+01],\n",
              "       [2.3800e+01],\n",
              "       [3.5800e+01],\n",
              "       [1.2700e+02],\n",
              "       [2.5380e+02],\n",
              "       [2.6700e+02],\n",
              "       [2.9710e+02],\n",
              "       [3.1400e+02],\n",
              "       [3.2510e+02],\n",
              "       [3.3180e+02],\n",
              "       [3.5130e+02],\n",
              "       [3.6040e+02],\n",
              "       [3.7480e+02],\n",
              "       [3.8850e+02],\n",
              "       [4.0390e+02],\n",
              "       [4.2010e+02],\n",
              "       [4.4550e+02],\n",
              "       [4.6000e+02],\n",
              "       [4.6820e+02],\n",
              "       [4.8120e+02],\n",
              "       [4.9400e+02],\n",
              "       [5.0030e+02],\n",
              "       [5.1260e+02],\n",
              "       [5.7220e+02],\n",
              "       [5.8200e+02],\n",
              "       [5.9280e+02],\n",
              "       [6.6860e+02],\n",
              "       [6.9350e+02],\n",
              "       [7.1160e+02],\n",
              "       [8.0220e+02],\n",
              "       [8.2320e+02],\n",
              "       [8.4210e+02],\n",
              "       [8.5710e+02],\n",
              "       [8.6780e+02],\n",
              "       [8.7980e+02],\n",
              "       [8.8510e+02],\n",
              "       [9.4880e+02],\n",
              "       [9.6280e+02],\n",
              "       [9.7400e+02],\n",
              "       [9.8530e+02],\n",
              "       [9.9420e+02],\n",
              "       [1.0069e+03],\n",
              "       [1.0138e+03],\n",
              "       [1.0248e+03],\n",
              "       [1.0349e+03],\n",
              "       [1.0432e+03],\n",
              "       [1.0506e+03],\n",
              "       [1.0578e+03],\n",
              "       [1.0653e+03],\n",
              "       [2.6000e+00],\n",
              "       [1.1100e+01],\n",
              "       [1.7400e+01],\n",
              "       [2.5000e+01],\n",
              "       [3.7900e+01],\n",
              "       [4.3100e+01],\n",
              "       [1.1620e+02],\n",
              "       [1.2630e+02],\n",
              "       [1.9980e+02],\n",
              "       [2.9060e+02],\n",
              "       [2.9060e+02],\n",
              "       [2.9840e+02],\n",
              "       [3.0690e+02],\n",
              "       [3.0850e+02],\n",
              "       [3.1110e+02],\n",
              "       [3.1260e+02],\n",
              "       [3.8440e+02],\n",
              "       [4.5530e+02],\n",
              "       [4.5780e+02],\n",
              "       [4.7180e+02],\n",
              "       [4.8150e+02],\n",
              "       [5.3910e+02],\n",
              "       [6.2180e+02],\n",
              "       [6.3380e+02],\n",
              "       [6.4200e+02],\n",
              "       [6.5620e+02],\n",
              "       [7.3620e+02],\n",
              "       [7.4740e+02],\n",
              "       [7.6110e+02],\n",
              "       [7.6900e+02],\n",
              "       [7.7930e+02],\n",
              "       [8.4970e+02],\n",
              "       [8.6230e+02],\n",
              "       [9.3620e+02],\n",
              "       [9.5360e+02],\n",
              "       [9.6910e+02],\n",
              "       [9.8910e+02],\n",
              "       [9.8910e+02],\n",
              "       [1.1300e+03],\n",
              "       [1.1366e+03],\n",
              "       [1.1443e+03],\n",
              "       [1.1539e+03],\n",
              "       [1.1683e+03],\n",
              "       [1.1719e+03],\n",
              "       [1.1777e+03],\n",
              "       [1.1874e+03],\n",
              "       [1.2581e+03],\n",
              "       [1.2646e+03],\n",
              "       [1.2666e+03],\n",
              "       [1.2698e+03],\n",
              "       [1.3325e+03],\n",
              "       [1.3383e+03],\n",
              "       [9.2000e+00],\n",
              "       [1.4900e+01],\n",
              "       [1.9600e+01],\n",
              "       [2.5800e+01],\n",
              "       [2.6300e+01],\n",
              "       [3.0300e+01],\n",
              "       [3.1600e+01],\n",
              "       [9.8600e+01],\n",
              "       [1.0310e+02],\n",
              "       [1.9520e+02],\n",
              "       [2.1860e+02],\n",
              "       [2.3700e+02],\n",
              "       [2.4560e+02],\n",
              "       [2.7060e+02],\n",
              "       [3.5770e+02],\n",
              "       [3.6840e+02],\n",
              "       [4.5990e+02],\n",
              "       [4.8480e+02],\n",
              "       [4.9760e+02],\n",
              "       [5.1780e+02],\n",
              "       [6.0040e+02],\n",
              "       [6.1580e+02],\n",
              "       [6.3000e+02],\n",
              "       [6.5140e+02],\n",
              "       [7.4230e+02],\n",
              "       [7.6650e+02],\n",
              "       [8.4210e+02],\n",
              "       [9.2350e+02],\n",
              "       [9.4400e+02],\n",
              "       [9.5550e+02],\n",
              "       [9.7310e+02],\n",
              "       [9.8180e+02],\n",
              "       [9.9410e+02],\n",
              "       [1.0010e+03],\n",
              "       [1.0066e+03],\n",
              "       [1.0798e+03],\n",
              "       [1.0898e+03],\n",
              "       [1.0971e+03],\n",
              "       [1.1750e+03],\n",
              "       [1.1850e+03],\n",
              "       [1.1955e+03],\n",
              "       [1.2055e+03],\n",
              "       [1.2127e+03],\n",
              "       [1.2215e+03],\n",
              "       [1.2284e+03],\n",
              "       [1.2353e+03],\n",
              "       [1.3047e+03],\n",
              "       [1.3098e+03],\n",
              "       [1.3856e+03],\n",
              "       [1.3929e+03],\n",
              "       [1.3938e+03],\n",
              "       [0.0000e+00],\n",
              "       [2.4000e+00],\n",
              "       [6.3000e+00],\n",
              "       [7.3200e+01],\n",
              "       [7.7400e+01],\n",
              "       [8.5700e+01],\n",
              "       [9.3500e+01],\n",
              "       [1.0670e+02],\n",
              "       [1.3660e+02],\n",
              "       [1.6170e+02],\n",
              "       [2.2450e+02],\n",
              "       [2.4970e+02],\n",
              "       [2.6230e+02],\n",
              "       [4.8810e+02],\n",
              "       [5.2167e+03],\n",
              "       [5.9930e+02],\n",
              "       [6.1340e+02],\n",
              "       [6.2080e+02],\n",
              "       [6.6970e+02],\n",
              "       [6.8110e+02],\n",
              "       [6.9630e+02],\n",
              "       [7.0630e+02],\n",
              "       [7.2810e+02],\n",
              "       [7.3900e+02],\n",
              "       [7.5000e+02],\n",
              "       [7.6000e+02],\n",
              "       [8.2260e+02],\n",
              "       [8.4230e+02],\n",
              "       [8.5880e+02],\n",
              "       [9.3790e+02],\n",
              "       [1.0220e+03],\n",
              "       [1.0364e+03],\n",
              "       [1.0503e+03],\n",
              "       [1.1249e+03],\n",
              "       [1.1324e+03],\n",
              "       [1.1374e+03],\n",
              "       [1.1485e+03],\n",
              "       [1.2302e+03],\n",
              "       [1.2302e+03],\n",
              "       [1.2790e+03],\n",
              "       [1.2961e+03],\n",
              "       [1.3124e+03],\n",
              "       [1.3309e+03],\n",
              "       [1.3488e+03],\n",
              "       [1.4946e+03],\n",
              "       [1.4990e+03],\n",
              "       [1.5047e+03],\n",
              "       [1.5215e+03],\n",
              "       [1.5335e+03],\n",
              "       [1.5552e+03],\n",
              "       [1.6403e+03],\n",
              "       [1.6607e+03],\n",
              "       [3.7000e+00],\n",
              "       [3.7000e+00],\n",
              "       [3.1400e+01],\n",
              "       [4.5400e+01],\n",
              "       [8.1200e+01],\n",
              "       [9.5100e+01],\n",
              "       [9.9500e+01],\n",
              "       [1.0720e+02],\n",
              "       [1.1900e+02],\n",
              "       [2.6520e+02],\n",
              "       [2.8230e+02],\n",
              "       [3.0790e+02],\n",
              "       [3.2410e+02],\n",
              "       [3.3150e+02],\n",
              "       [3.4590e+02],\n",
              "       [4.1990e+02],\n",
              "       [4.2740e+02],\n",
              "       [4.6060e+02],\n",
              "       [4.7140e+02],\n",
              "       [5.4430e+02],\n",
              "       [5.5190e+02],\n",
              "       [5.9260e+02],\n",
              "       [6.1080e+02],\n",
              "       [6.9870e+02],\n",
              "       [7.0800e+02],\n",
              "       [7.2820e+02],\n",
              "       [7.4130e+02],\n",
              "       [7.6650e+02],\n",
              "       [8.4740e+02],\n",
              "       [8.5710e+02],\n",
              "       [8.7070e+02],\n",
              "       [1.0439e+03],\n",
              "       [1.0625e+03],\n",
              "       [1.0699e+03],\n",
              "       [1.0918e+03],\n",
              "       [1.1084e+03],\n",
              "       [1.1214e+03],\n",
              "       [1.1377e+03],\n",
              "       [1.1637e+03],\n",
              "       [1.2607e+03],\n",
              "       [1.2728e+03],\n",
              "       [1.2969e+03],\n",
              "       [1.3097e+03],\n",
              "       [1.3318e+03],\n",
              "       [1.3455e+03],\n",
              "       [1.3622e+03],\n",
              "       [1.4385e+03],\n",
              "       [1.4757e+03],\n",
              "       [1.5019e+03],\n",
              "       [1.5792e+03],\n",
              "       [1.5916e+03],\n",
              "       [1.6309e+03],\n",
              "       [1.7092e+03],\n",
              "       [5.5000e+00],\n",
              "       [1.2600e+01],\n",
              "       [2.0200e+01],\n",
              "       [9.7100e+01],\n",
              "       [1.3370e+02],\n",
              "       [1.3120e+03],\n",
              "       [2.2180e+02],\n",
              "       [2.9420e+02],\n",
              "       [3.0900e+02],\n",
              "       [3.2160e+02],\n",
              "       [3.2910e+02],\n",
              "       [3.4220e+02],\n",
              "       [3.5690e+02],\n",
              "       [3.7280e+02],\n",
              "       [4.6810e+02],\n",
              "       [5.0930e+02],\n",
              "       [5.2290e+02],\n",
              "       [5.4860e+02],\n",
              "       [5.5440e+02],\n",
              "       [5.7070e+02],\n",
              "       [6.5190e+02],\n",
              "       [6.6820e+02],\n",
              "       [6.8770e+02],\n",
              "       [7.2880e+02],\n",
              "       [7.5450e+02],\n",
              "       [8.7620e+02],\n",
              "       [9.0770e+02],\n",
              "       [1.0578e+03],\n",
              "       [1.0878e+03],\n",
              "       [1.1032e+03],\n",
              "       [1.1144e+03],\n",
              "       [1.1680e+03],\n",
              "       [1.2705e+03],\n",
              "       [1.2856e+03],\n",
              "       [1.3571e+03],\n",
              "       [1.3744e+03],\n",
              "       [1.3796e+03],\n",
              "       [1.3884e+03],\n",
              "       [1.3972e+03],\n",
              "       [1.4852e+03],\n",
              "       [1.5144e+03],\n",
              "       [1.5193e+03],\n",
              "       [1.5254e+03],\n",
              "       [1.5515e+03],\n",
              "       [1.5544e+03],\n",
              "       [1.5564e+03],\n",
              "       [1.5583e+03],\n",
              "       [1.6697e+03],\n",
              "       [1.6780e+03],\n",
              "       [1.6814e+03],\n",
              "       [4.4400e+01],\n",
              "       [1.2790e+02],\n",
              "       [1.6680e+02],\n",
              "       [1.9580e+02],\n",
              "       [1.9580e+02],\n",
              "       [1.9580e+02],\n",
              "       [3.3120e+02],\n",
              "       [4.2390e+02],\n",
              "       [4.4520e+02],\n",
              "       [4.9290e+02],\n",
              "       [5.1810e+02],\n",
              "       [5.4710e+02],\n",
              "       [5.6530e+02],\n",
              "       [6.4880e+02],\n",
              "       [6.6410e+02],\n",
              "       [7.4800e+02],\n",
              "       [7.6240e+02],\n",
              "       [7.7690e+02],\n",
              "       [8.5300e+02],\n",
              "       [8.8630e+02],\n",
              "       [9.4370e+02],\n",
              "       [9.6670e+02],\n",
              "       [1.0411e+03],\n",
              "       [1.0706e+03],\n",
              "       [1.2064e+03],\n",
              "       [1.2342e+03],\n",
              "       [1.3282e+03],\n",
              "       [1.4394e+03],\n",
              "       [1.4922e+03],\n",
              "       [1.5429e+03],\n",
              "       [1.6766e+03],\n",
              "       [1.7195e+03],\n",
              "       [1.8201e+03],\n",
              "       [1.8487e+03],\n",
              "       [1.9488e+03],\n",
              "       [1.9767e+03],\n",
              "       [2.0023e+03],\n",
              "       [2.0193e+03],\n",
              "       [2.0549e+03],\n",
              "       [2.0681e+03],\n",
              "       [2.0792e+03],\n",
              "       [2.1182e+03],\n",
              "       [2.1315e+03],\n",
              "       [2.1510e+03],\n",
              "       [2.2463e+03],\n",
              "       [2.2554e+03],\n",
              "       [1.1609e+03],\n",
              "       [2.2639e+03],\n",
              "       [2.2639e+03],\n",
              "       [2.2771e+03],\n",
              "       [2.2818e+03],\n",
              "       [6.2100e+01],\n",
              "       [6.7900e+01],\n",
              "       [7.4500e+01],\n",
              "       [8.6600e+01],\n",
              "       [8.8600e+01],\n",
              "       [9.5400e+01],\n",
              "       [1.0120e+02],\n",
              "       [1.0680e+02],\n",
              "       [1.2120e+02],\n",
              "       [2.1520e+02],\n",
              "       [2.4010e+02],\n",
              "       [2.6490e+02],\n",
              "       [3.0430e+02],\n",
              "       [3.3780e+02],\n",
              "       [3.7480e+02],\n",
              "       [4.7650e+02],\n",
              "       [4.9830e+02],\n",
              "       [5.2940e+02],\n",
              "       [5.9640e+02],\n",
              "       [6.4990e+02],\n",
              "       [6.7880e+02],\n",
              "       [7.3460e+02],\n",
              "       [8.5480e+02],\n",
              "       [8.8210e+02],\n",
              "       [9.2540e+02],\n",
              "       [9.6320e+02],\n",
              "       [9.6980e+02],\n",
              "       [1.0152e+03],\n",
              "       [1.1714e+03],\n",
              "       [1.2013e+03],\n",
              "       [1.2721e+03],\n",
              "       [1.2897e+03],\n",
              "       [1.3154e+03],\n",
              "       [1.3423e+03],\n",
              "       [1.3811e+03],\n",
              "       [1.3968e+03],\n",
              "       [1.4191e+03],\n",
              "       [1.4387e+03],\n",
              "       [1.4514e+03],\n",
              "       [1.4565e+03],\n",
              "       [1.5362e+03],\n",
              "       [1.5403e+03],\n",
              "       [1.6564e+03],\n",
              "       [1.6651e+03],\n",
              "       [1.6696e+03],\n",
              "       [1.6781e+03],\n",
              "       [1.6942e+03],\n",
              "       [1.7065e+03],\n",
              "       [1.8085e+03],\n",
              "       [1.8130e+03],\n",
              "       [1.8473e+03],\n",
              "       [1.8756e+03],\n",
              "       [3.1000e+00],\n",
              "       [3.2600e+01],\n",
              "       [4.0200e+01]])"
            ]
          },
          "metadata": {},
          "execution_count": 115
        }
      ]
    },
    {
      "cell_type": "code",
      "metadata": {
        "id": "w3vU4wVPVSiV"
      },
      "source": [
        "train_data=data_baru[0:495,0]\n",
        "valid_data=data_baru[495:,0]"
      ],
      "execution_count": null,
      "outputs": []
    },
    {
      "cell_type": "code",
      "metadata": {
        "colab": {
          "base_uri": "https://localhost:8080/"
        },
        "id": "xK5XAloZxpjB",
        "outputId": "33c47394-50a8-4283-dd2f-69c0a99804fb"
      },
      "source": [
        "train_data, valid_data"
      ],
      "execution_count": null,
      "outputs": [
        {
          "output_type": "execute_result",
          "data": {
            "text/plain": [
              "(array([8.5880e+02, 8.5880e+02, 8.5880e+02, 9.0080e+02, 9.2410e+02,\n",
              "        9.2410e+02, 9.4860e+02, 9.4860e+02, 9.4860e+02, 9.4860e+02,\n",
              "        9.4860e+02, 9.4910e+02, 9.5050e+02, 9.5370e+02, 9.5850e+02,\n",
              "        9.5950e+02, 8.4200e+01, 8.6600e+01, 8.9200e+01, 9.1100e+01,\n",
              "        9.2400e+01, 1.6000e+02, 2.7890e+02, 2.8190e+02, 3.5550e+02,\n",
              "        3.5810e+02, 3.6130e+02, 3.6410e+02, 3.6600e+02, 3.7080e+02,\n",
              "        4.2590e+02, 4.9000e+02, 4.9150e+02, 4.9270e+02, 4.9320e+02,\n",
              "        4.9410e+02, 4.9540e+02, 5.6880e+02, 5.7150e+02, 6.3060e+02,\n",
              "        6.3460e+02, 6.3980e+02, 6.4390e+02, 6.9250e+02, 7.1790e+02,\n",
              "        7.1890e+02, 7.1890e+02, 7.1890e+02, 7.8160e+02, 9.4230e+02,\n",
              "        9.4380e+02, 1.0107e+03, 1.0118e+03, 1.0126e+03, 1.0126e+03,\n",
              "        1.0725e+03, 1.0728e+03, 1.0972e+03, 1.0982e+03, 1.1621e+03,\n",
              "        1.1642e+03, 1.1655e+03, 1.1676e+03, 1.1710e+03, 1.1756e+03,\n",
              "        1.2111e+03, 2.4000e+00, 3.4000e+00, 3.7000e+00, 4.3000e+00,\n",
              "        7.1700e+01, 1.3280e+02, 1.9480e+02, 2.6470e+02, 2.9020e+02,\n",
              "        3.5910e+02, 3.6150e+02, 3.6230e+02, 3.8810e+02, 4.5840e+02,\n",
              "        4.6080e+02, 4.6660e+02, 4.6910e+02, 4.7280e+02, 4.7510e+02,\n",
              "        5.4060e+02, 5.4670e+02, 6.1460e+02, 6.2190e+02, 6.2390e+02,\n",
              "        6.2610e+02, 6.8220e+02, 6.9180e+02, 7.0290e+02, 8.2030e+02,\n",
              "        8.2490e+02, 8.3420e+02, 9.0170e+02, 1.0038e+03, 1.0731e+03,\n",
              "        1.0958e+03, 1.1091e+03, 1.1242e+03, 1.1379e+03, 1.1453e+03,\n",
              "        1.2229e+03, 1.2229e+03, 1.2520e+03, 1.2891e+03, 1.3775e+03,\n",
              "        1.3868e+03, 1.3959e+03, 1.4114e+03, 1.4237e+03, 1.4377e+03,\n",
              "        1.4444e+03, 1.4509e+03, 0.0000e+00, 1.4000e+00, 7.1000e+00,\n",
              "        1.0800e+01, 2.3800e+01, 3.5800e+01, 1.2700e+02, 2.5380e+02,\n",
              "        2.6700e+02, 2.9710e+02, 3.1400e+02, 3.2510e+02, 3.3180e+02,\n",
              "        3.5130e+02, 3.6040e+02, 3.7480e+02, 3.8850e+02, 4.0390e+02,\n",
              "        4.2010e+02, 4.4550e+02, 4.6000e+02, 4.6820e+02, 4.8120e+02,\n",
              "        4.9400e+02, 5.0030e+02, 5.1260e+02, 5.7220e+02, 5.8200e+02,\n",
              "        5.9280e+02, 6.6860e+02, 6.9350e+02, 7.1160e+02, 8.0220e+02,\n",
              "        8.2320e+02, 8.4210e+02, 8.5710e+02, 8.6780e+02, 8.7980e+02,\n",
              "        8.8510e+02, 9.4880e+02, 9.6280e+02, 9.7400e+02, 9.8530e+02,\n",
              "        9.9420e+02, 1.0069e+03, 1.0138e+03, 1.0248e+03, 1.0349e+03,\n",
              "        1.0432e+03, 1.0506e+03, 1.0578e+03, 1.0653e+03, 2.6000e+00,\n",
              "        1.1100e+01, 1.7400e+01, 2.5000e+01, 3.7900e+01, 4.3100e+01,\n",
              "        1.1620e+02, 1.2630e+02, 1.9980e+02, 2.9060e+02, 2.9060e+02,\n",
              "        2.9840e+02, 3.0690e+02, 3.0850e+02, 3.1110e+02, 3.1260e+02,\n",
              "        3.8440e+02, 4.5530e+02, 4.5780e+02, 4.7180e+02, 4.8150e+02,\n",
              "        5.3910e+02, 6.2180e+02, 6.3380e+02, 6.4200e+02, 6.5620e+02,\n",
              "        7.3620e+02, 7.4740e+02, 7.6110e+02, 7.6900e+02, 7.7930e+02,\n",
              "        8.4970e+02, 8.6230e+02, 9.3620e+02, 9.5360e+02, 9.6910e+02,\n",
              "        9.8910e+02, 9.8910e+02, 1.1300e+03, 1.1366e+03, 1.1443e+03,\n",
              "        1.1539e+03, 1.1683e+03, 1.1719e+03, 1.1777e+03, 1.1874e+03,\n",
              "        1.2581e+03, 1.2646e+03, 1.2666e+03, 1.2698e+03, 1.3325e+03,\n",
              "        1.3383e+03, 9.2000e+00, 1.4900e+01, 1.9600e+01, 2.5800e+01,\n",
              "        2.6300e+01, 3.0300e+01, 3.1600e+01, 9.8600e+01, 1.0310e+02,\n",
              "        1.9520e+02, 2.1860e+02, 2.3700e+02, 2.4560e+02, 2.7060e+02,\n",
              "        3.5770e+02, 3.6840e+02, 4.5990e+02, 4.8480e+02, 4.9760e+02,\n",
              "        5.1780e+02, 6.0040e+02, 6.1580e+02, 6.3000e+02, 6.5140e+02,\n",
              "        7.4230e+02, 7.6650e+02, 8.4210e+02, 9.2350e+02, 9.4400e+02,\n",
              "        9.5550e+02, 9.7310e+02, 9.8180e+02, 9.9410e+02, 1.0010e+03,\n",
              "        1.0066e+03, 1.0798e+03, 1.0898e+03, 1.0971e+03, 1.1750e+03,\n",
              "        1.1850e+03, 1.1955e+03, 1.2055e+03, 1.2127e+03, 1.2215e+03,\n",
              "        1.2284e+03, 1.2353e+03, 1.3047e+03, 1.3098e+03, 1.3856e+03,\n",
              "        1.3929e+03, 1.3938e+03, 0.0000e+00, 2.4000e+00, 6.3000e+00,\n",
              "        7.3200e+01, 7.7400e+01, 8.5700e+01, 9.3500e+01, 1.0670e+02,\n",
              "        1.3660e+02, 1.6170e+02, 2.2450e+02, 2.4970e+02, 2.6230e+02,\n",
              "        4.8810e+02, 5.2167e+03, 5.9930e+02, 6.1340e+02, 6.2080e+02,\n",
              "        6.6970e+02, 6.8110e+02, 6.9630e+02, 7.0630e+02, 7.2810e+02,\n",
              "        7.3900e+02, 7.5000e+02, 7.6000e+02, 8.2260e+02, 8.4230e+02,\n",
              "        8.5880e+02, 9.3790e+02, 1.0220e+03, 1.0364e+03, 1.0503e+03,\n",
              "        1.1249e+03, 1.1324e+03, 1.1374e+03, 1.1485e+03, 1.2302e+03,\n",
              "        1.2302e+03, 1.2790e+03, 1.2961e+03, 1.3124e+03, 1.3309e+03,\n",
              "        1.3488e+03, 1.4946e+03, 1.4990e+03, 1.5047e+03, 1.5215e+03,\n",
              "        1.5335e+03, 1.5552e+03, 1.6403e+03, 1.6607e+03, 3.7000e+00,\n",
              "        3.7000e+00, 3.1400e+01, 4.5400e+01, 8.1200e+01, 9.5100e+01,\n",
              "        9.9500e+01, 1.0720e+02, 1.1900e+02, 2.6520e+02, 2.8230e+02,\n",
              "        3.0790e+02, 3.2410e+02, 3.3150e+02, 3.4590e+02, 4.1990e+02,\n",
              "        4.2740e+02, 4.6060e+02, 4.7140e+02, 5.4430e+02, 5.5190e+02,\n",
              "        5.9260e+02, 6.1080e+02, 6.9870e+02, 7.0800e+02, 7.2820e+02,\n",
              "        7.4130e+02, 7.6650e+02, 8.4740e+02, 8.5710e+02, 8.7070e+02,\n",
              "        1.0439e+03, 1.0625e+03, 1.0699e+03, 1.0918e+03, 1.1084e+03,\n",
              "        1.1214e+03, 1.1377e+03, 1.1637e+03, 1.2607e+03, 1.2728e+03,\n",
              "        1.2969e+03, 1.3097e+03, 1.3318e+03, 1.3455e+03, 1.3622e+03,\n",
              "        1.4385e+03, 1.4757e+03, 1.5019e+03, 1.5792e+03, 1.5916e+03,\n",
              "        1.6309e+03, 1.7092e+03, 5.5000e+00, 1.2600e+01, 2.0200e+01,\n",
              "        9.7100e+01, 1.3370e+02, 1.3120e+03, 2.2180e+02, 2.9420e+02,\n",
              "        3.0900e+02, 3.2160e+02, 3.2910e+02, 3.4220e+02, 3.5690e+02,\n",
              "        3.7280e+02, 4.6810e+02, 5.0930e+02, 5.2290e+02, 5.4860e+02,\n",
              "        5.5440e+02, 5.7070e+02, 6.5190e+02, 6.6820e+02, 6.8770e+02,\n",
              "        7.2880e+02, 7.5450e+02, 8.7620e+02, 9.0770e+02, 1.0578e+03,\n",
              "        1.0878e+03, 1.1032e+03, 1.1144e+03, 1.1680e+03, 1.2705e+03,\n",
              "        1.2856e+03, 1.3571e+03, 1.3744e+03, 1.3796e+03, 1.3884e+03,\n",
              "        1.3972e+03, 1.4852e+03, 1.5144e+03, 1.5193e+03, 1.5254e+03,\n",
              "        1.5515e+03, 1.5544e+03, 1.5564e+03, 1.5583e+03, 1.6697e+03,\n",
              "        1.6780e+03, 1.6814e+03, 4.4400e+01, 1.2790e+02, 1.6680e+02,\n",
              "        1.9580e+02, 1.9580e+02, 1.9580e+02, 3.3120e+02, 4.2390e+02,\n",
              "        4.4520e+02, 4.9290e+02, 5.1810e+02, 5.4710e+02, 5.6530e+02,\n",
              "        6.4880e+02, 6.6410e+02, 7.4800e+02, 7.6240e+02, 7.7690e+02,\n",
              "        8.5300e+02, 8.8630e+02, 9.4370e+02, 9.6670e+02, 1.0411e+03,\n",
              "        1.0706e+03, 1.2064e+03, 1.2342e+03, 1.3282e+03, 1.4394e+03,\n",
              "        1.4922e+03, 1.5429e+03, 1.6766e+03, 1.7195e+03, 1.8201e+03,\n",
              "        1.8487e+03, 1.9488e+03, 1.9767e+03, 2.0023e+03, 2.0193e+03,\n",
              "        2.0549e+03, 2.0681e+03, 2.0792e+03, 2.1182e+03, 2.1315e+03,\n",
              "        2.1510e+03, 2.2463e+03, 2.2554e+03, 1.1609e+03, 2.2639e+03,\n",
              "        2.2639e+03, 2.2771e+03, 2.2818e+03, 6.2100e+01, 6.7900e+01,\n",
              "        7.4500e+01, 8.6600e+01, 8.8600e+01, 9.5400e+01, 1.0120e+02,\n",
              "        1.0680e+02, 1.2120e+02, 2.1520e+02, 2.4010e+02, 2.6490e+02,\n",
              "        3.0430e+02, 3.3780e+02, 3.7480e+02, 4.7650e+02, 4.9830e+02]),\n",
              " array([ 529.4,  596.4,  649.9,  678.8,  734.6,  854.8,  882.1,  925.4,\n",
              "         963.2,  969.8, 1015.2, 1171.4, 1201.3, 1272.1, 1289.7, 1315.4,\n",
              "        1342.3, 1381.1, 1396.8, 1419.1, 1438.7, 1451.4, 1456.5, 1536.2,\n",
              "        1540.3, 1656.4, 1665.1, 1669.6, 1678.1, 1694.2, 1706.5, 1808.5,\n",
              "        1813. , 1847.3, 1875.6,    3.1,   32.6,   40.2]))"
            ]
          },
          "metadata": {},
          "execution_count": 117
        }
      ]
    },
    {
      "cell_type": "code",
      "metadata": {
        "colab": {
          "base_uri": "https://localhost:8080/"
        },
        "id": "seBG4fh4kRiH",
        "outputId": "7875bc72-b142-4017-8055-574abe67323d"
      },
      "source": [
        "train_data.shape,valid_data.shape"
      ],
      "execution_count": null,
      "outputs": [
        {
          "output_type": "execute_result",
          "data": {
            "text/plain": [
              "((495,), (38,))"
            ]
          },
          "metadata": {},
          "execution_count": 118
        }
      ]
    },
    {
      "cell_type": "code",
      "metadata": {
        "id": "CBrhOLdXkTIl"
      },
      "source": [
        "train_data=train_data.reshape(-1,1)"
      ],
      "execution_count": null,
      "outputs": []
    },
    {
      "cell_type": "code",
      "metadata": {
        "colab": {
          "base_uri": "https://localhost:8080/"
        },
        "id": "yIVyZ1JIklwu",
        "outputId": "1396c96f-f6b6-4648-f332-0dc915ec66de"
      },
      "source": [
        "train_data.shape"
      ],
      "execution_count": null,
      "outputs": [
        {
          "output_type": "execute_result",
          "data": {
            "text/plain": [
              "(495, 1)"
            ]
          },
          "metadata": {},
          "execution_count": 120
        }
      ]
    },
    {
      "cell_type": "code",
      "metadata": {
        "id": "x5g6xXgpkrFa"
      },
      "source": [
        "# feature scaling\n",
        "from sklearn.preprocessing import MinMaxScaler\n",
        "sc = MinMaxScaler(feature_range=(0,1))\n",
        "training_set_scaled = sc.fit_transform(train_data)"
      ],
      "execution_count": null,
      "outputs": []
    },
    {
      "cell_type": "code",
      "metadata": {
        "id": "cJgoO-MDkyjf"
      },
      "source": [
        "#creating a data structure with 90 timesteps and 1 output\n",
        "x_train = []\n",
        "y_train = []\n",
        "\n",
        "for i in range(90, 495):\n",
        "  x_train.append(training_set_scaled[i-90:i,0])\n",
        "  y_train.append(training_set_scaled[i,0])\n",
        "\n",
        "#converting x_train and y_train into numpy array\n",
        "x_train, y_train = np.array(x_train), np.array(y_train)"
      ],
      "execution_count": null,
      "outputs": []
    },
    {
      "cell_type": "code",
      "metadata": {
        "colab": {
          "base_uri": "https://localhost:8080/"
        },
        "id": "F_8Qkct_k1se",
        "outputId": "d4ff2497-97c5-4e5b-ce33-008a6a1e94cf"
      },
      "source": [
        "x_train"
      ],
      "execution_count": null,
      "outputs": [
        {
          "output_type": "execute_result",
          "data": {
            "text/plain": [
              "array([[0.16462515, 0.16462515, 0.16462515, ..., 0.11781394, 0.1192133 ,\n",
              "        0.11959668],\n",
              "       [0.16462515, 0.16462515, 0.17267621, ..., 0.1192133 , 0.11959668,\n",
              "        0.1200184 ],\n",
              "       [0.16462515, 0.17267621, 0.17714264, ..., 0.11959668, 0.1200184 ,\n",
              "        0.13077233],\n",
              "       ...,\n",
              "       [0.16796059, 0.17399889, 0.20277187, ..., 0.05077923, 0.0583319 ,\n",
              "        0.06475358],\n",
              "       [0.17399889, 0.20277187, 0.20852263, ..., 0.0583319 , 0.06475358,\n",
              "        0.07184619],\n",
              "       [0.20277187, 0.20852263, 0.21147469, ..., 0.06475358, 0.07184619,\n",
              "        0.09134127]])"
            ]
          },
          "metadata": {},
          "execution_count": 123
        }
      ]
    },
    {
      "cell_type": "code",
      "metadata": {
        "colab": {
          "base_uri": "https://localhost:8080/"
        },
        "id": "3jeHKcLPk2vo",
        "outputId": "0c89ce45-9917-4680-d895-b7efa8100784"
      },
      "source": [
        "x_train.shape"
      ],
      "execution_count": null,
      "outputs": [
        {
          "output_type": "execute_result",
          "data": {
            "text/plain": [
              "(405, 90)"
            ]
          },
          "metadata": {},
          "execution_count": 124
        }
      ]
    },
    {
      "cell_type": "code",
      "metadata": {
        "id": "UmUBuU7Uk5o3"
      },
      "source": [
        "# reshaping dataset\n",
        "x_train = x_train.reshape(405,90,1)"
      ],
      "execution_count": null,
      "outputs": []
    },
    {
      "cell_type": "code",
      "metadata": {
        "colab": {
          "base_uri": "https://localhost:8080/"
        },
        "id": "Q_YF3GgSlHyJ",
        "outputId": "ecd37e97-4921-443b-ccf4-e7579f4ec4cb"
      },
      "source": [
        "x_train.shape"
      ],
      "execution_count": null,
      "outputs": [
        {
          "output_type": "execute_result",
          "data": {
            "text/plain": [
              "(405, 90, 1)"
            ]
          },
          "metadata": {},
          "execution_count": 126
        }
      ]
    },
    {
      "cell_type": "code",
      "metadata": {
        "colab": {
          "base_uri": "https://localhost:8080/"
        },
        "id": "oZ1T1fGGlJUH",
        "outputId": "0850e2c0-52c9-4507-95d3-603551eb7034"
      },
      "source": [
        "y_train"
      ],
      "execution_count": null,
      "outputs": [
        {
          "output_type": "execute_result",
          "data": {
            "text/plain": [
              "array([1.20018402e-01, 1.30772327e-01, 1.32612571e-01, 1.34740353e-01,\n",
              "       1.57245002e-01, 1.58126785e-01, 1.59909521e-01, 1.72848736e-01,\n",
              "       1.92420496e-01, 2.05704756e-01, 2.10056166e-01, 2.12605670e-01,\n",
              "       2.15500220e-01, 2.18126402e-01, 2.19544923e-01, 2.34420227e-01,\n",
              "       2.34420227e-01, 2.39998466e-01, 2.47110242e-01, 2.64055821e-01,\n",
              "       2.65838557e-01, 2.67582955e-01, 2.70554182e-01, 2.72911994e-01,\n",
              "       2.75595683e-01, 2.76880020e-01, 2.78126018e-01, 0.00000000e+00,\n",
              "       2.68368892e-04, 1.36101367e-03, 2.07027431e-03, 4.56227117e-03,\n",
              "       6.86257596e-03, 2.43448924e-02, 4.86514463e-02, 5.11817816e-02,\n",
              "       5.69517128e-02, 6.01913087e-02, 6.23190906e-02, 6.36034275e-02,\n",
              "       6.73414227e-02, 6.90858205e-02, 7.18461863e-02, 7.44723676e-02,\n",
              "       7.74244254e-02, 8.05298369e-02, 8.53988153e-02, 8.81783503e-02,\n",
              "       8.97502252e-02, 9.22422221e-02, 9.46958805e-02, 9.59035406e-02,\n",
              "       9.82613530e-02, 1.09686200e-01, 1.11564782e-01, 1.13635057e-01,\n",
              "       1.28165315e-01, 1.32938448e-01, 1.36408074e-01, 1.53775375e-01,\n",
              "       1.57800909e-01, 1.61423889e-01, 1.64299270e-01, 1.66350375e-01,\n",
              "       1.68650680e-01, 1.69666647e-01, 1.81877432e-01, 1.84561121e-01,\n",
              "       1.86708072e-01, 1.88874192e-01, 1.90580252e-01, 1.93014741e-01,\n",
              "       1.94337416e-01, 1.96446029e-01, 1.98382119e-01, 1.99973163e-01,\n",
              "       2.01391684e-01, 2.02771867e-01, 2.04209558e-01, 4.98399371e-04,\n",
              "       2.12778193e-03, 3.33544195e-03, 4.79230165e-03, 7.26512930e-03,\n",
              "       8.26192804e-03, 2.22746181e-02, 2.42107079e-02, 3.83000748e-02,\n",
              "       5.57057143e-02, 5.57057143e-02, 5.72009125e-02, 5.88302950e-02,\n",
              "       5.91370023e-02, 5.96354017e-02, 5.99229398e-02, 7.36864301e-02,\n",
              "       8.72773976e-02, 8.77566278e-02, 9.04403167e-02, 9.22997297e-02,\n",
              "       1.03341193e-01, 1.19194127e-01, 1.21494431e-01, 1.23066306e-01,\n",
              "       1.25788334e-01, 1.41123699e-01, 1.43270650e-01, 1.45896831e-01,\n",
              "       1.47411199e-01, 1.49385627e-01, 1.62880748e-01, 1.65296068e-01,\n",
              "       1.79462112e-01, 1.82797554e-01, 1.85768781e-01, 1.89602622e-01,\n",
              "       1.89602622e-01, 2.16612034e-01, 2.17877202e-01, 2.19353231e-01,\n",
              "       2.21193475e-01, 2.23953841e-01, 2.24643932e-01, 2.25755746e-01,\n",
              "       2.27615159e-01, 2.41167788e-01, 2.42413786e-01, 2.42797171e-01,\n",
              "       2.43410585e-01, 2.55429678e-01, 2.56541492e-01, 1.76356701e-03,\n",
              "       2.85621178e-03, 3.75716449e-03, 4.94565530e-03, 5.04150133e-03,\n",
              "       5.80826960e-03, 6.05746928e-03, 1.89008377e-02, 1.97634520e-02,\n",
              "       3.74182913e-02, 4.19038856e-02, 4.54310196e-02, 4.70795714e-02,\n",
              "       5.18718730e-02, 6.85682520e-02, 7.06193571e-02, 8.81591811e-02,\n",
              "       9.29323135e-02, 9.53859720e-02, 9.92581517e-02, 1.15091916e-01,\n",
              "       1.18043974e-01, 1.20766001e-01, 1.24868212e-01, 1.42293020e-01,\n",
              "       1.46931968e-01, 1.61423889e-01, 1.77027623e-01, 1.80957310e-01,\n",
              "       1.83161769e-01, 1.86535549e-01, 1.88203270e-01, 1.90561083e-01,\n",
              "       1.91883758e-01, 1.92957234e-01, 2.06989093e-01, 2.08906013e-01,\n",
              "       2.10305365e-01, 2.25238177e-01, 2.27155098e-01, 2.29167865e-01,\n",
              "       2.31084785e-01, 2.32464968e-01, 2.34151858e-01, 2.35474534e-01,\n",
              "       2.36797209e-01, 2.50100638e-01, 2.51078268e-01, 2.65608526e-01,\n",
              "       2.67007879e-01, 2.67180401e-01, 0.00000000e+00, 4.60060958e-04,\n",
              "       1.20766001e-03, 1.40318592e-02, 1.48369659e-02, 1.64280100e-02,\n",
              "       1.79232082e-02, 2.04535434e-02, 2.61851362e-02, 3.09966071e-02,\n",
              "       4.30348688e-02, 4.78655088e-02, 5.02808289e-02, 9.35648973e-02,\n",
              "       1.00000000e+00, 1.14881055e-01, 1.17583913e-01, 1.19002434e-01,\n",
              "       1.28376177e-01, 1.30561466e-01, 1.33475185e-01, 1.35392106e-01,\n",
              "       1.39570993e-01, 1.41660437e-01, 1.43769049e-01, 1.45685970e-01,\n",
              "       1.57685893e-01, 1.61462227e-01, 1.64625146e-01, 1.79787989e-01,\n",
              "       1.95909291e-01, 1.98669657e-01, 2.01334177e-01, 2.15634405e-01,\n",
              "       2.17072095e-01, 2.18030556e-01, 2.20158338e-01, 2.35819579e-01,\n",
              "       2.35819579e-01, 2.45174152e-01, 2.48452087e-01, 2.51576667e-01,\n",
              "       2.55122970e-01, 2.58554258e-01, 2.86502962e-01, 2.87346407e-01,\n",
              "       2.88439052e-01, 2.91659478e-01, 2.93959783e-01, 2.98119501e-01,\n",
              "       3.14432496e-01, 3.18343014e-01, 7.09260644e-04, 7.09260644e-04,\n",
              "       6.01913087e-03, 8.70281979e-03, 1.55653957e-02, 1.82299155e-02,\n",
              "       1.90733606e-02, 2.05493895e-02, 2.28113558e-02, 5.08367359e-02,\n",
              "       5.41146702e-02, 5.90219871e-02, 6.21273985e-02, 6.35459198e-02,\n",
              "       6.63062856e-02, 8.04914985e-02, 8.19291890e-02, 8.82933655e-02,\n",
              "       9.03636398e-02, 1.04337991e-01, 1.05794851e-01, 1.13596718e-01,\n",
              "       1.17085514e-01, 1.33935246e-01, 1.35717983e-01, 1.39590162e-01,\n",
              "       1.42101328e-01, 1.46931968e-01, 1.62439857e-01, 1.64299270e-01,\n",
              "       1.66906282e-01, 2.00107348e-01, 2.03672820e-01, 2.05091341e-01,\n",
              "       2.09289398e-01, 2.12471486e-01, 2.14963483e-01, 2.18088063e-01,\n",
              "       2.23072057e-01, 2.41666187e-01, 2.43985661e-01, 2.48605440e-01,\n",
              "       2.51059099e-01, 2.55295493e-01, 2.57921675e-01, 2.61122932e-01,\n",
              "       2.75749037e-01, 2.82879982e-01, 2.87902314e-01, 3.02720110e-01,\n",
              "       3.05097092e-01, 3.12630590e-01, 3.27640079e-01, 1.05430636e-03,\n",
              "       2.41532003e-03, 3.87217973e-03, 1.86132996e-02, 2.56292292e-02,\n",
              "       2.51499990e-01, 4.25173002e-02, 5.63958058e-02, 5.92328484e-02,\n",
              "       6.16481684e-02, 6.30858589e-02, 6.55970249e-02, 6.84148983e-02,\n",
              "       7.14628022e-02, 8.97310560e-02, 9.76287691e-02, 1.00235781e-01,\n",
              "       1.05162267e-01, 1.06274081e-01, 1.09398662e-01, 1.24964058e-01,\n",
              "       1.28088638e-01, 1.31826634e-01, 1.39705178e-01, 1.44631664e-01,\n",
              "       1.67960588e-01, 1.73998888e-01, 2.02771867e-01, 2.08522629e-01,\n",
              "       2.11474687e-01, 2.13621638e-01, 2.23896333e-01, 2.43544770e-01,\n",
              "       2.46439320e-01, 2.60145303e-01, 2.63461575e-01, 2.64458374e-01,\n",
              "       2.66145264e-01, 2.67832154e-01, 2.84701056e-01, 2.90298465e-01,\n",
              "       2.91237756e-01, 2.92407077e-01, 2.97410240e-01, 2.97966147e-01,\n",
              "       2.98349531e-01, 2.98713746e-01, 3.20068242e-01, 3.21659287e-01,\n",
              "       3.22311040e-01, 8.51112772e-03, 2.45174152e-02, 3.19742366e-02,\n",
              "       3.75333065e-02, 3.75333065e-02, 3.75333065e-02, 6.34884122e-02,\n",
              "       8.12582667e-02, 8.53413077e-02, 9.44850193e-02, 9.93156593e-02,\n",
              "       1.04874729e-01, 1.08363525e-01, 1.24369812e-01, 1.27302701e-01,\n",
              "       1.43385665e-01, 1.46146031e-01, 1.48925566e-01, 1.63513332e-01,\n",
              "       1.69896678e-01, 1.80899803e-01, 1.85308720e-01, 1.99570610e-01,\n",
              "       2.05225526e-01, 2.31257308e-01, 2.36586348e-01, 2.54605402e-01,\n",
              "       2.75921560e-01, 2.86042901e-01, 2.95761688e-01, 3.21390918e-01,\n",
              "       3.29614507e-01, 3.48898729e-01, 3.54381122e-01, 3.73569498e-01,\n",
              "       3.78917707e-01, 3.83825023e-01, 3.87083789e-01, 3.93908026e-01,\n",
              "       3.96438361e-01, 3.98566143e-01, 4.06042134e-01, 4.08591638e-01,\n",
              "       4.12329634e-01, 4.30597888e-01, 4.32342285e-01, 2.22535319e-01,\n",
              "       4.33971668e-01, 4.33971668e-01, 4.36502003e-01, 4.37402956e-01,\n",
              "       1.19040773e-02, 1.30158913e-02, 1.42810589e-02, 1.66005329e-02,\n",
              "       1.69839170e-02, 1.82874231e-02, 1.93992371e-02, 2.04727126e-02,\n",
              "       2.32330784e-02, 4.12521326e-02, 4.60252650e-02, 5.07792282e-02,\n",
              "       5.83318956e-02, 6.47535798e-02, 7.18461863e-02, 9.13412694e-02,\n",
              "       9.55201564e-02])"
            ]
          },
          "metadata": {},
          "execution_count": 127
        }
      ]
    },
    {
      "cell_type": "markdown",
      "metadata": {
        "id": "MStDPpplNIVW"
      },
      "source": [
        "\n",
        "\n",
        "---\n",
        "\n",
        "\n",
        "---\n",
        "\n",
        "\n"
      ]
    },
    {
      "cell_type": "markdown",
      "metadata": {
        "id": "pDgJaAF3lSwI"
      },
      "source": [
        "# Membangun Model"
      ]
    },
    {
      "cell_type": "code",
      "metadata": {
        "id": "8bBJe1OVlPkq"
      },
      "source": [
        "import tensorflow as tf\n",
        "from keras.models import Sequential\n",
        "from keras.layers import LSTM,Dropout,Dense"
      ],
      "execution_count": null,
      "outputs": []
    },
    {
      "cell_type": "code",
      "metadata": {
        "id": "XgmxSG-2l_w2"
      },
      "source": [
        "# define an object (inilitizing RNN)\n",
        "model = tf.keras.models.Sequential()"
      ],
      "execution_count": null,
      "outputs": []
    },
    {
      "cell_type": "code",
      "metadata": {
        "id": "PIpTIP5cmL2D"
      },
      "source": [
        "# first LSTM layer\n",
        "model.add(tf.keras.layers.LSTM(units=90, activation='relu', return_sequences=True, input_shape=(90,1)))\n",
        "# dropout layer\n",
        "model.add(tf.keras.layers.Dropout(0.2))\n",
        "\n",
        "# second LSTM layer\n",
        "model.add(tf.keras.layers.LSTM(units=90, activation='relu', return_sequences=True))\n",
        "# dropout layer\n",
        "model.add(tf.keras.layers.Dropout(0.2))\n",
        "\n",
        "# third LSTM layer\n",
        "model.add(tf.keras.layers.LSTM(units=180, activation='relu'))\n",
        "# dropout layer\n",
        "model.add(tf.keras.layers.Dropout(0.2))"
      ],
      "execution_count": null,
      "outputs": []
    },
    {
      "cell_type": "code",
      "metadata": {
        "id": "vu7YKH0bmPqE"
      },
      "source": [
        "# output layer\n",
        "model.add(tf.keras.layers.Dense(units=1))"
      ],
      "execution_count": null,
      "outputs": []
    },
    {
      "cell_type": "code",
      "metadata": {
        "colab": {
          "base_uri": "https://localhost:8080/"
        },
        "id": "vErQnfnkmRcK",
        "outputId": "0883eb8b-5912-48c6-fc09-300688e6de53"
      },
      "source": [
        "model.summary()"
      ],
      "execution_count": null,
      "outputs": [
        {
          "output_type": "stream",
          "name": "stdout",
          "text": [
            "Model: \"sequential_1\"\n",
            "_________________________________________________________________\n",
            "Layer (type)                 Output Shape              Param #   \n",
            "=================================================================\n",
            "lstm_3 (LSTM)                (None, 90, 90)            33120     \n",
            "_________________________________________________________________\n",
            "dropout_3 (Dropout)          (None, 90, 90)            0         \n",
            "_________________________________________________________________\n",
            "lstm_4 (LSTM)                (None, 90, 90)            65160     \n",
            "_________________________________________________________________\n",
            "dropout_4 (Dropout)          (None, 90, 90)            0         \n",
            "_________________________________________________________________\n",
            "lstm_5 (LSTM)                (None, 180)               195120    \n",
            "_________________________________________________________________\n",
            "dropout_5 (Dropout)          (None, 180)               0         \n",
            "_________________________________________________________________\n",
            "dense_1 (Dense)              (None, 1)                 181       \n",
            "=================================================================\n",
            "Total params: 293,581\n",
            "Trainable params: 293,581\n",
            "Non-trainable params: 0\n",
            "_________________________________________________________________\n"
          ]
        }
      ]
    },
    {
      "cell_type": "code",
      "metadata": {
        "id": "7W73YmvFm9gS"
      },
      "source": [
        "# compile the model\n",
        "model.compile(optimizer='adam', loss='mean_squared_error')"
      ],
      "execution_count": null,
      "outputs": []
    },
    {
      "cell_type": "code",
      "metadata": {
        "colab": {
          "base_uri": "https://localhost:8080/"
        },
        "id": "H0k8nqFtnBJj",
        "outputId": "7768d3cd-9877-418d-892d-81090aa779fe"
      },
      "source": [
        "model.fit(x_train,y_train, batch_size=64, epochs=50,verbose=2)"
      ],
      "execution_count": null,
      "outputs": [
        {
          "output_type": "stream",
          "name": "stdout",
          "text": [
            "Epoch 1/50\n",
            "7/7 - 6s - loss: 0.0220\n",
            "Epoch 2/50\n",
            "7/7 - 3s - loss: 0.0142\n",
            "Epoch 3/50\n",
            "7/7 - 3s - loss: 0.0129\n",
            "Epoch 4/50\n",
            "7/7 - 3s - loss: 0.0119\n",
            "Epoch 5/50\n",
            "7/7 - 3s - loss: 0.0116\n",
            "Epoch 6/50\n",
            "7/7 - 3s - loss: 0.0113\n",
            "Epoch 7/50\n",
            "7/7 - 3s - loss: 0.0110\n",
            "Epoch 8/50\n",
            "7/7 - 3s - loss: 0.0105\n",
            "Epoch 9/50\n",
            "7/7 - 3s - loss: 0.0097\n",
            "Epoch 10/50\n",
            "7/7 - 3s - loss: 0.0088\n",
            "Epoch 11/50\n",
            "7/7 - 3s - loss: 0.0089\n",
            "Epoch 12/50\n",
            "7/7 - 3s - loss: 0.0076\n",
            "Epoch 13/50\n",
            "7/7 - 3s - loss: 0.0073\n",
            "Epoch 14/50\n",
            "7/7 - 3s - loss: 0.0070\n",
            "Epoch 15/50\n",
            "7/7 - 3s - loss: 0.0061\n",
            "Epoch 16/50\n",
            "7/7 - 3s - loss: 0.0060\n",
            "Epoch 17/50\n",
            "7/7 - 3s - loss: 0.0058\n",
            "Epoch 18/50\n",
            "7/7 - 3s - loss: 0.0058\n",
            "Epoch 19/50\n",
            "7/7 - 3s - loss: 0.0060\n",
            "Epoch 20/50\n",
            "7/7 - 3s - loss: 0.0055\n",
            "Epoch 21/50\n",
            "7/7 - 3s - loss: 0.0052\n",
            "Epoch 22/50\n",
            "7/7 - 3s - loss: 0.0052\n",
            "Epoch 23/50\n",
            "7/7 - 3s - loss: 0.0053\n",
            "Epoch 24/50\n",
            "7/7 - 3s - loss: 0.0051\n",
            "Epoch 25/50\n",
            "7/7 - 3s - loss: 0.0050\n",
            "Epoch 26/50\n",
            "7/7 - 3s - loss: 0.0050\n",
            "Epoch 27/50\n",
            "7/7 - 3s - loss: 0.0053\n",
            "Epoch 28/50\n",
            "7/7 - 3s - loss: 0.0046\n",
            "Epoch 29/50\n",
            "7/7 - 3s - loss: 0.0053\n",
            "Epoch 30/50\n",
            "7/7 - 3s - loss: 0.0065\n",
            "Epoch 31/50\n",
            "7/7 - 3s - loss: 0.0061\n",
            "Epoch 32/50\n",
            "7/7 - 3s - loss: 0.0060\n",
            "Epoch 33/50\n",
            "7/7 - 3s - loss: 0.0052\n",
            "Epoch 34/50\n",
            "7/7 - 3s - loss: 0.0047\n",
            "Epoch 35/50\n",
            "7/7 - 3s - loss: 0.0049\n",
            "Epoch 36/50\n",
            "7/7 - 3s - loss: 0.0046\n",
            "Epoch 37/50\n",
            "7/7 - 3s - loss: 0.0043\n",
            "Epoch 38/50\n",
            "7/7 - 3s - loss: 0.0046\n",
            "Epoch 39/50\n",
            "7/7 - 3s - loss: 0.0043\n",
            "Epoch 40/50\n",
            "7/7 - 3s - loss: 0.0043\n",
            "Epoch 41/50\n",
            "7/7 - 3s - loss: 0.0042\n",
            "Epoch 42/50\n",
            "7/7 - 3s - loss: 0.0046\n",
            "Epoch 43/50\n",
            "7/7 - 3s - loss: 0.0046\n",
            "Epoch 44/50\n",
            "7/7 - 3s - loss: 0.0044\n",
            "Epoch 45/50\n",
            "7/7 - 3s - loss: 0.0040\n",
            "Epoch 46/50\n",
            "7/7 - 3s - loss: 0.0040\n",
            "Epoch 47/50\n",
            "7/7 - 3s - loss: 0.0040\n",
            "Epoch 48/50\n",
            "7/7 - 3s - loss: 0.0040\n",
            "Epoch 49/50\n",
            "7/7 - 3s - loss: 0.0038\n",
            "Epoch 50/50\n",
            "7/7 - 3s - loss: 0.0043\n"
          ]
        },
        {
          "output_type": "execute_result",
          "data": {
            "text/plain": [
              "<keras.callbacks.History at 0x7f9838412c90>"
            ]
          },
          "metadata": {},
          "execution_count": 134
        }
      ]
    },
    {
      "cell_type": "code",
      "metadata": {
        "colab": {
          "base_uri": "https://localhost:8080/"
        },
        "id": "HiS86i3fnuMf",
        "outputId": "9f2bf82d-0c51-48de-f658-9bbb1c915771"
      },
      "source": [
        "valid_data"
      ],
      "execution_count": null,
      "outputs": [
        {
          "output_type": "execute_result",
          "data": {
            "text/plain": [
              "array([ 529.4,  596.4,  649.9,  678.8,  734.6,  854.8,  882.1,  925.4,\n",
              "        963.2,  969.8, 1015.2, 1171.4, 1201.3, 1272.1, 1289.7, 1315.4,\n",
              "       1342.3, 1381.1, 1396.8, 1419.1, 1438.7, 1451.4, 1456.5, 1536.2,\n",
              "       1540.3, 1656.4, 1665.1, 1669.6, 1678.1, 1694.2, 1706.5, 1808.5,\n",
              "       1813. , 1847.3, 1875.6,    3.1,   32.6,   40.2])"
            ]
          },
          "metadata": {},
          "execution_count": 135
        }
      ]
    },
    {
      "cell_type": "code",
      "metadata": {
        "colab": {
          "base_uri": "https://localhost:8080/"
        },
        "id": "7Bis7ChCn3CW",
        "outputId": "f53169a9-48fc-4140-9ebe-3909fa0fb122"
      },
      "source": [
        "valid_data.shape"
      ],
      "execution_count": null,
      "outputs": [
        {
          "output_type": "execute_result",
          "data": {
            "text/plain": [
              "(38,)"
            ]
          },
          "metadata": {},
          "execution_count": 136
        }
      ]
    },
    {
      "cell_type": "code",
      "metadata": {
        "id": "9twa2nlbn9Kx"
      },
      "source": [
        "valid_data = valid_data.reshape(-1,1)"
      ],
      "execution_count": null,
      "outputs": []
    },
    {
      "cell_type": "code",
      "metadata": {
        "colab": {
          "base_uri": "https://localhost:8080/"
        },
        "id": "ePM9105IoEbW",
        "outputId": "91545e8b-eac7-4a4c-c361-18de65e088a8"
      },
      "source": [
        "valid_data"
      ],
      "execution_count": null,
      "outputs": [
        {
          "output_type": "execute_result",
          "data": {
            "text/plain": [
              "array([[ 529.4],\n",
              "       [ 596.4],\n",
              "       [ 649.9],\n",
              "       [ 678.8],\n",
              "       [ 734.6],\n",
              "       [ 854.8],\n",
              "       [ 882.1],\n",
              "       [ 925.4],\n",
              "       [ 963.2],\n",
              "       [ 969.8],\n",
              "       [1015.2],\n",
              "       [1171.4],\n",
              "       [1201.3],\n",
              "       [1272.1],\n",
              "       [1289.7],\n",
              "       [1315.4],\n",
              "       [1342.3],\n",
              "       [1381.1],\n",
              "       [1396.8],\n",
              "       [1419.1],\n",
              "       [1438.7],\n",
              "       [1451.4],\n",
              "       [1456.5],\n",
              "       [1536.2],\n",
              "       [1540.3],\n",
              "       [1656.4],\n",
              "       [1665.1],\n",
              "       [1669.6],\n",
              "       [1678.1],\n",
              "       [1694.2],\n",
              "       [1706.5],\n",
              "       [1808.5],\n",
              "       [1813. ],\n",
              "       [1847.3],\n",
              "       [1875.6],\n",
              "       [   3.1],\n",
              "       [  32.6],\n",
              "       [  40.2]])"
            ]
          },
          "metadata": {},
          "execution_count": 138
        }
      ]
    },
    {
      "cell_type": "code",
      "metadata": {
        "id": "tv9w6W8goUMJ"
      },
      "source": [
        "# Getting predicted accumulated soybean export at 2016\n",
        "\n",
        "#concatination\n",
        "data_total = data_ekspor['AELast']\n",
        "\n",
        "#stock prices of previous 90 days for each day of 2016\n",
        "inputs = data_total[len(data_total)-len(valid_data)-90:].values\n",
        "\n",
        "# reshape (convert into numpy array)\n",
        "inputs = inputs.reshape(-1,1)\n",
        "\n",
        "#feature scaling\n",
        "inputs = sc.transform(inputs)\n",
        "\n",
        "#creating a test set\n",
        "\n",
        "x_test = []\n",
        "for i in range(90,128):\n",
        "  x_test.append(inputs[i-90:i,0])\n",
        "\n",
        "# convert in numpy array\n",
        "x_test = np.array(x_test)\n",
        "\n",
        "# convert in 3D (required to process)\n",
        "x_test = np.reshape(x_test,(x_test.shape[0], x_test.shape[1],1))\n",
        "\n",
        "# getting predicted stock prices\n",
        "predicted_accumulated_export = model.predict(x_test)\n",
        "predicted_accumulated_export = sc.inverse_transform(predicted_accumulated_export)"
      ],
      "execution_count": null,
      "outputs": []
    },
    {
      "cell_type": "code",
      "metadata": {
        "colab": {
          "base_uri": "https://localhost:8080/"
        },
        "id": "5uTGyCpiodz_",
        "outputId": "9a5bf022-9b2a-4b19-98c7-d5f57909ff98"
      },
      "source": [
        "predicted_accumulated_export"
      ],
      "execution_count": null,
      "outputs": [
        {
          "output_type": "execute_result",
          "data": {
            "text/plain": [
              "array([[ 725.1397 ],\n",
              "       [ 750.75165],\n",
              "       [ 774.2762 ],\n",
              "       [ 796.742  ],\n",
              "       [ 818.99915],\n",
              "       [ 844.2744 ],\n",
              "       [ 874.0025 ],\n",
              "       [ 912.0229 ],\n",
              "       [ 959.91693],\n",
              "       [1022.7353 ],\n",
              "       [1102.3015 ],\n",
              "       [1191.574  ],\n",
              "       [1285.1681 ],\n",
              "       [1377.9667 ],\n",
              "       [1459.2555 ],\n",
              "       [1521.2637 ],\n",
              "       [1558.2269 ],\n",
              "       [1570.2683 ],\n",
              "       [1560.0204 ],\n",
              "       [1535.3204 ],\n",
              "       [1506.0383 ],\n",
              "       [1488.8933 ],\n",
              "       [1504.1411 ],\n",
              "       [1527.7609 ],\n",
              "       [1543.1042 ],\n",
              "       [1553.1725 ],\n",
              "       [1565.6902 ],\n",
              "       [1583.7114 ],\n",
              "       [1601.3372 ],\n",
              "       [1607.804  ],\n",
              "       [1579.2399 ],\n",
              "       [1442.055  ],\n",
              "       [1032.9915 ],\n",
              "       [ 530.8434 ],\n",
              "       [ 287.15045],\n",
              "       [ 186.4482 ],\n",
              "       [ 152.35071],\n",
              "       [ 143.77235]], dtype=float32)"
            ]
          },
          "metadata": {},
          "execution_count": 140
        }
      ]
    },
    {
      "cell_type": "code",
      "metadata": {
        "colab": {
          "base_uri": "https://localhost:8080/"
        },
        "id": "7E9_bfUsol1g",
        "outputId": "79be4526-e6ef-4c1b-8ef6-ac8307251434"
      },
      "source": [
        "print(predicted_accumulated_export[5]), print(valid_data[5])"
      ],
      "execution_count": null,
      "outputs": [
        {
          "output_type": "stream",
          "name": "stdout",
          "text": [
            "[844.2744]\n",
            "[854.8]\n"
          ]
        },
        {
          "output_type": "execute_result",
          "data": {
            "text/plain": [
              "(None, None)"
            ]
          },
          "metadata": {},
          "execution_count": 141
        }
      ]
    },
    {
      "cell_type": "code",
      "metadata": {
        "colab": {
          "base_uri": "https://localhost:8080/",
          "height": 621
        },
        "id": "AWcYrhGIorb1",
        "outputId": "8c137d22-23e7-44a8-ae1c-025adb3efb58"
      },
      "source": [
        "# Visualising the results\n",
        "plt.plot(valid_data, color='red', label = 'Real Soybean Accumulated Export')\n",
        "plt.plot(predicted_accumulated_export, color='blue', label = 'Predicted Soybean Accumulated Export')\n",
        "plt.title('Soybean Accumulated Export Prediction')\n",
        "plt.xlabel('Time')\n",
        "plt.ylabel('Soybean Accumulated Export')\n",
        "plt.legend()\n",
        "plt.show()"
      ],
      "execution_count": null,
      "outputs": [
        {
          "output_type": "display_data",
          "data": {
            "image/png": "[encoded data removed]",
            "text/plain": [
              "<Figure size 1440x720 with 1 Axes>"
            ]
          },
          "metadata": {
            "needs_background": "light"
          }
        }
      ]
    },
    {
      "cell_type": "code",
      "metadata": {
        "id": "qxnoZOWIo03M"
      },
      "source": [
        "data= data_ekspor[['Date','AELast']]"
      ],
      "execution_count": null,
      "outputs": []
    },
    {
      "cell_type": "code",
      "metadata": {
        "colab": {
          "base_uri": "https://localhost:8080/",
          "height": 232
        },
        "id": "dGmQhwn3o3fb",
        "outputId": "959b2605-8be7-4b0f-ed86-83907a517ddb"
      },
      "source": [
        "data.head()"
      ],
      "execution_count": null,
      "outputs": [
        {
          "output_type": "execute_result",
          "data": {
            "text/html": [
              "<div>\n",
              "<style scoped>\n",
              "    .dataframe tbody tr th:only-of-type {\n",
              "        vertical-align: middle;\n",
              "    }\n",
              "\n",
              "    .dataframe tbody tr th {\n",
              "        vertical-align: top;\n",
              "    }\n",
              "\n",
              "    .dataframe thead th {\n",
              "        text-align: right;\n",
              "    }\n",
              "</style>\n",
              "<table border=\"1\" class=\"dataframe\">\n",
              "  <thead>\n",
              "    <tr style=\"text-align: right;\">\n",
              "      <th></th>\n",
              "      <th>Date</th>\n",
              "      <th>AELast</th>\n",
              "    </tr>\n",
              "    <tr>\n",
              "      <th>Date</th>\n",
              "      <th></th>\n",
              "      <th></th>\n",
              "    </tr>\n",
              "  </thead>\n",
              "  <tbody>\n",
              "    <tr>\n",
              "      <th>2006-05-18</th>\n",
              "      <td>2006-05-18</td>\n",
              "      <td>858.8</td>\n",
              "    </tr>\n",
              "    <tr>\n",
              "      <th>2006-05-25</th>\n",
              "      <td>2006-05-25</td>\n",
              "      <td>858.8</td>\n",
              "    </tr>\n",
              "    <tr>\n",
              "      <th>2006-06-01</th>\n",
              "      <td>2006-06-01</td>\n",
              "      <td>858.8</td>\n",
              "    </tr>\n",
              "    <tr>\n",
              "      <th>2006-06-08</th>\n",
              "      <td>2006-06-08</td>\n",
              "      <td>900.8</td>\n",
              "    </tr>\n",
              "    <tr>\n",
              "      <th>2006-06-15</th>\n",
              "      <td>2006-06-15</td>\n",
              "      <td>924.1</td>\n",
              "    </tr>\n",
              "  </tbody>\n",
              "</table>\n",
              "</div>"
            ],
            "text/plain": [
              "                 Date  AELast\n",
              "Date                         \n",
              "2006-05-18 2006-05-18   858.8\n",
              "2006-05-25 2006-05-25   858.8\n",
              "2006-06-01 2006-06-01   858.8\n",
              "2006-06-08 2006-06-08   900.8\n",
              "2006-06-15 2006-06-15   924.1"
            ]
          },
          "metadata": {},
          "execution_count": 144
        }
      ]
    },
    {
      "cell_type": "code",
      "metadata": {
        "colab": {
          "base_uri": "https://localhost:8080/",
          "height": 734
        },
        "id": "9Bj_q8KppMBm",
        "outputId": "3cbb072d-8db4-4a57-ba5f-6f8c24ce09fb"
      },
      "source": [
        "data_train=data[:495]\n",
        "data_valid=data_ekspor[495:]\n",
        "data_valid['Predictions']=predicted_accumulated_export\n",
        "plt.plot(data_train[\"AELast\"])\n",
        "plt.plot(data_valid[['AELast',\"Predictions\"]])"
      ],
      "execution_count": null,
      "outputs": [
        {
          "output_type": "stream",
          "name": "stderr",
          "text": [
            "/usr/local/lib/python3.7/dist-packages/ipykernel_launcher.py:3: SettingWithCopyWarning: \n",
            "A value is trying to be set on a copy of a slice from a DataFrame.\n",
            "Try using .loc[row_indexer,col_indexer] = value instead\n",
            "\n",
            "See the caveats in the documentation: https://pandas.pydata.org/pandas-docs/stable/user_guide/indexing.html#returning-a-view-versus-a-copy\n",
            "  This is separate from the ipykernel package so we can avoid doing imports until\n"
          ]
        },
        {
          "output_type": "execute_result",
          "data": {
            "text/plain": [
              "[<matplotlib.lines.Line2D at 0x7f9838e63d10>,\n",
              " <matplotlib.lines.Line2D at 0x7f9838e63f10>]"
            ]
          },
          "metadata": {},
          "execution_count": 145
        },
        {
          "output_type": "display_data",
          "data": {
            "image/png": "[encoded data removed]",
            "text/plain": [
              "<Figure size 1440x720 with 1 Axes>"
            ]
          },
          "metadata": {
            "needs_background": "light"
          }
        }
      ]
    },
    {
      "cell_type": "markdown",
      "metadata": {
        "id": "uCZoc2o_NCV3"
      },
      "source": [
        "\n",
        "\n",
        "---\n",
        "\n",
        "\n",
        "---\n",
        "\n",
        "\n"
      ]
    },
    {
      "cell_type": "markdown",
      "metadata": {
        "id": "Ib05eRWVueIt"
      },
      "source": [
        "# Evaluasi Model"
      ]
    },
    {
      "cell_type": "code",
      "metadata": {
        "colab": {
          "base_uri": "https://localhost:8080/"
        },
        "id": "rStxi_yRpyjA",
        "outputId": "25efbd20-962e-4c99-e0e4-38eced24d114"
      },
      "source": [
        "import math\n",
        "MSE = np.square(np.subtract(valid_data,predicted_accumulated_export)).mean()\n",
        "\n",
        "RMSE = math.sqrt(MSE)\n",
        "print(\"Root Mean Square Error:\\n\")\n",
        "print(RMSE)"
      ],
      "execution_count": null,
      "outputs": [
        {
          "output_type": "stream",
          "name": "stdout",
          "text": [
            "Root Mean Square Error:\n",
            "\n",
            "378.53930663644354\n"
          ]
        }
      ]
    },
    {
      "cell_type": "code",
      "metadata": {
        "colab": {
          "base_uri": "https://localhost:8080/"
        },
        "id": "zizu1E-ap1tb",
        "outputId": "5f0a2ece-1eae-400e-b846-026c125c9d9f"
      },
      "source": [
        "from sklearn.metrics import mean_squared_error\n",
        "mean_squared_error(valid_data,predicted_accumulated_export)"
      ],
      "execution_count": null,
      "outputs": [
        {
          "output_type": "execute_result",
          "data": {
            "text/plain": [
              "143292.00666879944"
            ]
          },
          "metadata": {},
          "execution_count": 147
        }
      ]
    },
    {
      "cell_type": "code",
      "metadata": {
        "colab": {
          "base_uri": "https://localhost:8080/"
        },
        "id": "M-eyt3wip8uu",
        "outputId": "444510ee-391d-43c1-ea80-6bf6ea0359a0"
      },
      "source": [
        "print(MSE)"
      ],
      "execution_count": null,
      "outputs": [
        {
          "output_type": "stream",
          "name": "stdout",
          "text": [
            "143292.00666879944\n"
          ]
        }
      ]
    },
    {
      "cell_type": "code",
      "metadata": {
        "id": "zfBkaWr6qDzE"
      },
      "source": [
        "MAPE = np.mean(np.abs((valid_data-predicted_accumulated_export) / valid_data))*100"
      ],
      "execution_count": null,
      "outputs": []
    },
    {
      "cell_type": "code",
      "metadata": {
        "id": "7z3-93bcM9OP"
      },
      "source": [
        ""
      ],
      "execution_count": null,
      "outputs": []
    },
    {
      "cell_type": "code",
      "metadata": {
        "colab": {
          "base_uri": "https://localhost:8080/"
        },
        "id": "B4HnhfpVqNCc",
        "outputId": "bc44358a-ee76-4b3e-9f70-a94eb6c6cc4f"
      },
      "source": [
        "MAPE"
      ],
      "execution_count": null,
      "outputs": [
        {
          "output_type": "execute_result",
          "data": {
            "text/plain": [
              "184.96655243884305"
            ]
          },
          "metadata": {},
          "execution_count": 150
        }
      ]
    },
    {
      "cell_type": "markdown",
      "metadata": {
        "id": "pHvfOy_4M73S"
      },
      "source": [
        "\n",
        "\n",
        "---\n",
        "\n",
        "\n",
        "\n",
        "---\n",
        "\n"
      ]
    },
    {
      "cell_type": "markdown",
      "metadata": {
        "id": "RMcyVJYmvZGs"
      },
      "source": [
        "# Analisis Model & Kesimpulan"
      ]
    },
    {
      "cell_type": "code",
      "metadata": {
        "colab": {
          "base_uri": "https://localhost:8080/",
          "height": 621
        },
        "id": "Te5Sf5oHvd13",
        "outputId": "2bfd395c-57f0-4581-eb65-defd80c0da4f"
      },
      "source": [
        "# Visualising the results\n",
        "plt.plot(valid_data, color='red', label = 'Real Soybean Accumulated Export')\n",
        "plt.plot(predicted_accumulated_export, color='blue', label = 'Predicted Soybean Accumulated Export')\n",
        "plt.title('Soybean Accumulated Export Prediction')\n",
        "plt.xlabel('Time')\n",
        "plt.ylabel('Soybean Accumulated Export')\n",
        "plt.legend()\n",
        "plt.show()"
      ],
      "execution_count": null,
      "outputs": [
        {
          "output_type": "display_data",
          "data": {
            "image/png": "[encoded data removed]",
            "text/plain": [
              "<Figure size 1440x720 with 1 Axes>"
            ]
          },
          "metadata": {
            "needs_background": "light"
          }
        }
      ]
    },
    {
      "cell_type": "code",
      "metadata": {
        "colab": {
          "base_uri": "https://localhost:8080/",
          "height": 734
        },
        "id": "NovvEwrVvpQa",
        "outputId": "1a806e04-c9db-401e-cbfa-cc488f4a3668"
      },
      "source": [
        "data_train=data[:495]\n",
        "data_valid=data_ekspor[495:]\n",
        "data_valid['Predictions']=predicted_accumulated_export\n",
        "plt.plot(data_train[\"AELast\"])\n",
        "plt.plot(data_valid[['AELast',\"Predictions\"]])"
      ],
      "execution_count": null,
      "outputs": [
        {
          "output_type": "stream",
          "name": "stderr",
          "text": [
            "/usr/local/lib/python3.7/dist-packages/ipykernel_launcher.py:3: SettingWithCopyWarning: \n",
            "A value is trying to be set on a copy of a slice from a DataFrame.\n",
            "Try using .loc[row_indexer,col_indexer] = value instead\n",
            "\n",
            "See the caveats in the documentation: https://pandas.pydata.org/pandas-docs/stable/user_guide/indexing.html#returning-a-view-versus-a-copy\n",
            "  This is separate from the ipykernel package so we can avoid doing imports until\n"
          ]
        },
        {
          "output_type": "execute_result",
          "data": {
            "text/plain": [
              "[<matplotlib.lines.Line2D at 0x7f9838d69410>,\n",
              " <matplotlib.lines.Line2D at 0x7f9838d69610>]"
            ]
          },
          "metadata": {},
          "execution_count": 152
        },
        {
          "output_type": "display_data",
          "data": {
            "image/png": "[encoded data removed]",
            "text/plain": [
              "<Figure size 1440x720 with 1 Axes>"
            ]
          },
          "metadata": {
            "needs_background": "light"
          }
        }
      ]
    },
    {
      "cell_type": "markdown",
      "metadata": {
        "id": "O6Jar-aVLEIm"
      },
      "source": [
        "Hasil dari visualisasi data dapat dilihat\n",
        "bahwa perkembangan laju ekspor kacang\n",
        "kedelai di Indonesia mengalami peningkatan\n",
        "yang tidak terlalu signifikan pada setiap\n",
        "tahunnya dan uniknya pada laju ekspor\n",
        "terlihat adanya titik waktu dimana nilai ekspor\n",
        "mengalami penurunan yang lumayan ekstrim.\n",
        "Hal ini dikarenakan kebutuhan masyarakat\n",
        "Indonesia terhadap kacang kedelai masih\n",
        "tinggi. Kemudian untuk beberapa kasus\n",
        "model LSTM yang sudah didapatkan nilai\n",
        "prediksinya, didapatkan model dengan jumlah\n",
        "hidden layer LSTM = 3, batch size = 64, dan\n",
        "epoch = 50 dengan nilai RSME sebesar 378.53930663644354 dan MAPE 184.96655243884305 atau 48,46%\n",
        "adalah percobaan model LSTM terbaik dan\n",
        "\n",
        "visualisasi datanya mendekati dengan nilai\n",
        "sebenarnya. Meskipun nilai error yang\n",
        "dihasilkan masih dirasa belum minimum\n",
        "namun pada visualisasi data prediksi tetap\n",
        "bisa menggambarkan nilai yang sebenarnya\n",
        "dimana pada tahun pertama dan seterusnya\n",
        "mengalami peningkatan namun pada waktu di\n",
        "pertengahan tahun ada waktu yang\n",
        "menyebabkan nilai ekspor menurun drastis."
      ]
    }
  ]
}